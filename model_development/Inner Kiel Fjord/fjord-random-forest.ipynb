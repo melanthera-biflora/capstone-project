{
 "cells": [
  {
   "cell_type": "markdown",
   "id": "f341704c",
   "metadata": {
    "papermill": {
     "duration": 0.004388,
     "end_time": "2024-12-10T03:20:27.994434",
     "exception": false,
     "start_time": "2024-12-10T03:20:27.990046",
     "status": "completed"
    },
    "tags": []
   },
   "source": [
    "# Import essential library "
   ]
  },
  {
   "cell_type": "code",
   "execution_count": 1,
   "id": "a9c00b7a",
   "metadata": {
    "_cell_guid": "b1076dfc-b9ad-4769-8c92-a6c4dae69d19",
    "_uuid": "8f2839f25d086af736a60e9eeb907d3b93b6e0e5",
    "execution": {
     "iopub.execute_input": "2024-12-10T03:20:28.003691Z",
     "iopub.status.busy": "2024-12-10T03:20:28.003315Z",
     "iopub.status.idle": "2024-12-10T03:20:31.191030Z",
     "shell.execute_reply": "2024-12-10T03:20:31.189699Z"
    },
    "papermill": {
     "duration": 3.195173,
     "end_time": "2024-12-10T03:20:31.193475",
     "exception": false,
     "start_time": "2024-12-10T03:20:27.998302",
     "status": "completed"
    },
    "tags": []
   },
   "outputs": [],
   "source": [
    "import numpy as np\n",
    "import pandas as pd\n",
    "from sklearn.metrics import mean_absolute_error, mean_squared_error, r2_score, mean_absolute_percentage_error\n",
    "from sklearn.linear_model import LinearRegression, Ridge\n",
    "from sklearn.preprocessing import PolynomialFeatures\n",
    "from sklearn.model_selection import train_test_split\n",
    "import seaborn as sns\n",
    "import matplotlib.pyplot as plt\n",
    "from sklearn.tree import DecisionTreeRegressor\n",
    "from sklearn.ensemble import RandomForestRegressor\n",
    "from sklearn.model_selection import GridSearchCV, train_test_split\n",
    "from sklearn.metrics import mean_squared_error, mean_absolute_error, r2_score\n",
    "import numpy as np\n",
    "import matplotlib.pyplot as plt\n",
    "import matplotlib.pyplot as plt\n",
    "from sklearn.tree import plot_tree"
   ]
  },
  {
   "cell_type": "code",
   "execution_count": 2,
   "id": "84d46f8d",
   "metadata": {
    "execution": {
     "iopub.execute_input": "2024-12-10T03:20:31.202892Z",
     "iopub.status.busy": "2024-12-10T03:20:31.202370Z",
     "iopub.status.idle": "2024-12-10T03:20:31.484704Z",
     "shell.execute_reply": "2024-12-10T03:20:31.483698Z"
    },
    "papermill": {
     "duration": 0.289667,
     "end_time": "2024-12-10T03:20:31.487115",
     "exception": false,
     "start_time": "2024-12-10T03:20:31.197448",
     "status": "completed"
    },
    "tags": []
   },
   "outputs": [],
   "source": [
    "#Data loading\n",
    "train_data = pd.read_csv('/kaggle/input/kjord-training-testing-data/training_set.csv')\n",
    "test_data = pd.read_csv('/kaggle/input/kjord-training-testing-data/testing_set.csv')"
   ]
  },
  {
   "cell_type": "code",
   "execution_count": 3,
   "id": "240d97bd",
   "metadata": {
    "execution": {
     "iopub.execute_input": "2024-12-10T03:20:31.495920Z",
     "iopub.status.busy": "2024-12-10T03:20:31.495516Z",
     "iopub.status.idle": "2024-12-10T03:20:31.519918Z",
     "shell.execute_reply": "2024-12-10T03:20:31.518980Z"
    },
    "papermill": {
     "duration": 0.031096,
     "end_time": "2024-12-10T03:20:31.521933",
     "exception": false,
     "start_time": "2024-12-10T03:20:31.490837",
     "status": "completed"
    },
    "tags": []
   },
   "outputs": [
    {
     "data": {
      "text/html": [
       "<div>\n",
       "<style scoped>\n",
       "    .dataframe tbody tr th:only-of-type {\n",
       "        vertical-align: middle;\n",
       "    }\n",
       "\n",
       "    .dataframe tbody tr th {\n",
       "        vertical-align: top;\n",
       "    }\n",
       "\n",
       "    .dataframe thead th {\n",
       "        text-align: right;\n",
       "    }\n",
       "</style>\n",
       "<table border=\"1\" class=\"dataframe\">\n",
       "  <thead>\n",
       "    <tr style=\"text-align: right;\">\n",
       "      <th></th>\n",
       "      <th>Day</th>\n",
       "      <th>Month</th>\n",
       "      <th>Year</th>\n",
       "      <th>B01</th>\n",
       "      <th>B02</th>\n",
       "      <th>B03</th>\n",
       "      <th>B04</th>\n",
       "      <th>B05</th>\n",
       "      <th>B06</th>\n",
       "      <th>B07</th>\n",
       "      <th>Salinity</th>\n",
       "    </tr>\n",
       "  </thead>\n",
       "  <tbody>\n",
       "    <tr>\n",
       "      <th>0</th>\n",
       "      <td>2017</td>\n",
       "      <td>9</td>\n",
       "      <td>2017</td>\n",
       "      <td>0.059865</td>\n",
       "      <td>0.108096</td>\n",
       "      <td>0.029403</td>\n",
       "      <td>0.025330</td>\n",
       "      <td>0.069976</td>\n",
       "      <td>0.160038</td>\n",
       "      <td>0.026542</td>\n",
       "      <td>14.66</td>\n",
       "    </tr>\n",
       "    <tr>\n",
       "      <th>1</th>\n",
       "      <td>2016</td>\n",
       "      <td>11</td>\n",
       "      <td>2016</td>\n",
       "      <td>0.362885</td>\n",
       "      <td>0.468959</td>\n",
       "      <td>0.364220</td>\n",
       "      <td>0.353000</td>\n",
       "      <td>0.414434</td>\n",
       "      <td>0.945758</td>\n",
       "      <td>0.369478</td>\n",
       "      <td>14.53</td>\n",
       "    </tr>\n",
       "    <tr>\n",
       "      <th>2</th>\n",
       "      <td>2015</td>\n",
       "      <td>4</td>\n",
       "      <td>2015</td>\n",
       "      <td>0.019929</td>\n",
       "      <td>0.065494</td>\n",
       "      <td>0.020901</td>\n",
       "      <td>0.019087</td>\n",
       "      <td>0.021868</td>\n",
       "      <td>0.043231</td>\n",
       "      <td>0.019022</td>\n",
       "      <td>15.48</td>\n",
       "    </tr>\n",
       "    <tr>\n",
       "      <th>3</th>\n",
       "      <td>2019</td>\n",
       "      <td>5</td>\n",
       "      <td>2019</td>\n",
       "      <td>0.051056</td>\n",
       "      <td>0.122850</td>\n",
       "      <td>0.005530</td>\n",
       "      <td>0.002822</td>\n",
       "      <td>0.084914</td>\n",
       "      <td>0.065135</td>\n",
       "      <td>0.005853</td>\n",
       "      <td>12.51</td>\n",
       "    </tr>\n",
       "    <tr>\n",
       "      <th>4</th>\n",
       "      <td>2015</td>\n",
       "      <td>4</td>\n",
       "      <td>2015</td>\n",
       "      <td>0.009498</td>\n",
       "      <td>0.006927</td>\n",
       "      <td>0.000723</td>\n",
       "      <td>0.000723</td>\n",
       "      <td>0.000723</td>\n",
       "      <td>0.001265</td>\n",
       "      <td>0.000723</td>\n",
       "      <td>15.63</td>\n",
       "    </tr>\n",
       "  </tbody>\n",
       "</table>\n",
       "</div>"
      ],
      "text/plain": [
       "    Day  Month  Year       B01       B02       B03       B04       B05  \\\n",
       "0  2017      9  2017  0.059865  0.108096  0.029403  0.025330  0.069976   \n",
       "1  2016     11  2016  0.362885  0.468959  0.364220  0.353000  0.414434   \n",
       "2  2015      4  2015  0.019929  0.065494  0.020901  0.019087  0.021868   \n",
       "3  2019      5  2019  0.051056  0.122850  0.005530  0.002822  0.084914   \n",
       "4  2015      4  2015  0.009498  0.006927  0.000723  0.000723  0.000723   \n",
       "\n",
       "        B06       B07  Salinity  \n",
       "0  0.160038  0.026542     14.66  \n",
       "1  0.945758  0.369478     14.53  \n",
       "2  0.043231  0.019022     15.48  \n",
       "3  0.065135  0.005853     12.51  \n",
       "4  0.001265  0.000723     15.63  "
      ]
     },
     "execution_count": 3,
     "metadata": {},
     "output_type": "execute_result"
    }
   ],
   "source": [
    "#Check data\n",
    "\n",
    "train_data.head()"
   ]
  },
  {
   "cell_type": "code",
   "execution_count": 4,
   "id": "917a7313",
   "metadata": {
    "execution": {
     "iopub.execute_input": "2024-12-10T03:20:31.531318Z",
     "iopub.status.busy": "2024-12-10T03:20:31.530973Z",
     "iopub.status.idle": "2024-12-10T03:20:31.537333Z",
     "shell.execute_reply": "2024-12-10T03:20:31.536335Z"
    },
    "papermill": {
     "duration": 0.013306,
     "end_time": "2024-12-10T03:20:31.539252",
     "exception": false,
     "start_time": "2024-12-10T03:20:31.525946",
     "status": "completed"
    },
    "tags": []
   },
   "outputs": [
    {
     "data": {
      "text/plain": [
       "(67669, 11)"
      ]
     },
     "execution_count": 4,
     "metadata": {},
     "output_type": "execute_result"
    }
   ],
   "source": [
    "train_data.shape"
   ]
  },
  {
   "cell_type": "code",
   "execution_count": 5,
   "id": "3ab66df2",
   "metadata": {
    "execution": {
     "iopub.execute_input": "2024-12-10T03:20:31.548455Z",
     "iopub.status.busy": "2024-12-10T03:20:31.548120Z",
     "iopub.status.idle": "2024-12-10T03:20:31.561968Z",
     "shell.execute_reply": "2024-12-10T03:20:31.560879Z"
    },
    "papermill": {
     "duration": 0.020975,
     "end_time": "2024-12-10T03:20:31.564130",
     "exception": false,
     "start_time": "2024-12-10T03:20:31.543155",
     "status": "completed"
    },
    "tags": []
   },
   "outputs": [
    {
     "data": {
      "text/html": [
       "<div>\n",
       "<style scoped>\n",
       "    .dataframe tbody tr th:only-of-type {\n",
       "        vertical-align: middle;\n",
       "    }\n",
       "\n",
       "    .dataframe tbody tr th {\n",
       "        vertical-align: top;\n",
       "    }\n",
       "\n",
       "    .dataframe thead th {\n",
       "        text-align: right;\n",
       "    }\n",
       "</style>\n",
       "<table border=\"1\" class=\"dataframe\">\n",
       "  <thead>\n",
       "    <tr style=\"text-align: right;\">\n",
       "      <th></th>\n",
       "      <th>Day</th>\n",
       "      <th>Month</th>\n",
       "      <th>Year</th>\n",
       "      <th>B01</th>\n",
       "      <th>B02</th>\n",
       "      <th>B03</th>\n",
       "      <th>B04</th>\n",
       "      <th>B05</th>\n",
       "      <th>B06</th>\n",
       "      <th>B07</th>\n",
       "      <th>Salinity</th>\n",
       "    </tr>\n",
       "  </thead>\n",
       "  <tbody>\n",
       "    <tr>\n",
       "      <th>0</th>\n",
       "      <td>2017</td>\n",
       "      <td>10</td>\n",
       "      <td>2017</td>\n",
       "      <td>0.039656</td>\n",
       "      <td>0.211165</td>\n",
       "      <td>0.035558</td>\n",
       "      <td>0.024633</td>\n",
       "      <td>0.095263</td>\n",
       "      <td>0.122293</td>\n",
       "      <td>0.034937</td>\n",
       "      <td>17.16</td>\n",
       "    </tr>\n",
       "    <tr>\n",
       "      <th>1</th>\n",
       "      <td>2015</td>\n",
       "      <td>12</td>\n",
       "      <td>2015</td>\n",
       "      <td>0.245583</td>\n",
       "      <td>0.234031</td>\n",
       "      <td>0.245137</td>\n",
       "      <td>0.219353</td>\n",
       "      <td>0.243156</td>\n",
       "      <td>1.340889</td>\n",
       "      <td>0.226793</td>\n",
       "      <td>23.00</td>\n",
       "    </tr>\n",
       "    <tr>\n",
       "      <th>2</th>\n",
       "      <td>2017</td>\n",
       "      <td>8</td>\n",
       "      <td>2017</td>\n",
       "      <td>0.057876</td>\n",
       "      <td>0.105920</td>\n",
       "      <td>0.028864</td>\n",
       "      <td>0.027373</td>\n",
       "      <td>0.070589</td>\n",
       "      <td>0.218493</td>\n",
       "      <td>0.027634</td>\n",
       "      <td>15.64</td>\n",
       "    </tr>\n",
       "    <tr>\n",
       "      <th>3</th>\n",
       "      <td>2017</td>\n",
       "      <td>9</td>\n",
       "      <td>2017</td>\n",
       "      <td>0.156547</td>\n",
       "      <td>0.309134</td>\n",
       "      <td>0.148183</td>\n",
       "      <td>0.140741</td>\n",
       "      <td>0.222221</td>\n",
       "      <td>0.565978</td>\n",
       "      <td>0.141779</td>\n",
       "      <td>16.12</td>\n",
       "    </tr>\n",
       "    <tr>\n",
       "      <th>4</th>\n",
       "      <td>2017</td>\n",
       "      <td>7</td>\n",
       "      <td>2017</td>\n",
       "      <td>0.393088</td>\n",
       "      <td>0.501025</td>\n",
       "      <td>0.374650</td>\n",
       "      <td>0.369656</td>\n",
       "      <td>0.420214</td>\n",
       "      <td>0.739151</td>\n",
       "      <td>0.369479</td>\n",
       "      <td>17.20</td>\n",
       "    </tr>\n",
       "  </tbody>\n",
       "</table>\n",
       "</div>"
      ],
      "text/plain": [
       "    Day  Month  Year       B01       B02       B03       B04       B05  \\\n",
       "0  2017     10  2017  0.039656  0.211165  0.035558  0.024633  0.095263   \n",
       "1  2015     12  2015  0.245583  0.234031  0.245137  0.219353  0.243156   \n",
       "2  2017      8  2017  0.057876  0.105920  0.028864  0.027373  0.070589   \n",
       "3  2017      9  2017  0.156547  0.309134  0.148183  0.140741  0.222221   \n",
       "4  2017      7  2017  0.393088  0.501025  0.374650  0.369656  0.420214   \n",
       "\n",
       "        B06       B07  Salinity  \n",
       "0  0.122293  0.034937     17.16  \n",
       "1  1.340889  0.226793     23.00  \n",
       "2  0.218493  0.027634     15.64  \n",
       "3  0.565978  0.141779     16.12  \n",
       "4  0.739151  0.369479     17.20  "
      ]
     },
     "execution_count": 5,
     "metadata": {},
     "output_type": "execute_result"
    }
   ],
   "source": [
    "#Check data\n",
    "\n",
    "test_data.head()"
   ]
  },
  {
   "cell_type": "code",
   "execution_count": 6,
   "id": "34dfe126",
   "metadata": {
    "execution": {
     "iopub.execute_input": "2024-12-10T03:20:31.575787Z",
     "iopub.status.busy": "2024-12-10T03:20:31.575413Z",
     "iopub.status.idle": "2024-12-10T03:20:31.581680Z",
     "shell.execute_reply": "2024-12-10T03:20:31.580715Z"
    },
    "papermill": {
     "duration": 0.013719,
     "end_time": "2024-12-10T03:20:31.583431",
     "exception": false,
     "start_time": "2024-12-10T03:20:31.569712",
     "status": "completed"
    },
    "tags": []
   },
   "outputs": [
    {
     "data": {
      "text/plain": [
       "(16918, 11)"
      ]
     },
     "execution_count": 6,
     "metadata": {},
     "output_type": "execute_result"
    }
   ],
   "source": [
    "test_data.shape"
   ]
  },
  {
   "cell_type": "markdown",
   "id": "3ed65f88",
   "metadata": {
    "papermill": {
     "duration": 0.00397,
     "end_time": "2024-12-10T03:20:31.591740",
     "exception": false,
     "start_time": "2024-12-10T03:20:31.587770",
     "status": "completed"
    },
    "tags": []
   },
   "source": [
    "# Model Development"
   ]
  },
  {
   "cell_type": "code",
   "execution_count": 7,
   "id": "7ab2520f",
   "metadata": {
    "execution": {
     "iopub.execute_input": "2024-12-10T03:20:31.602299Z",
     "iopub.status.busy": "2024-12-10T03:20:31.601914Z",
     "iopub.status.idle": "2024-12-10T03:20:31.618956Z",
     "shell.execute_reply": "2024-12-10T03:20:31.617769Z"
    },
    "papermill": {
     "duration": 0.024857,
     "end_time": "2024-12-10T03:20:31.621286",
     "exception": false,
     "start_time": "2024-12-10T03:20:31.596429",
     "status": "completed"
    },
    "tags": []
   },
   "outputs": [],
   "source": [
    "target = 'Salinity'\n",
    "feature = ['Day','Month', 'Year', 'B01', 'B02', 'B03', 'B04', 'B05', 'B06', 'B07']\n",
    "#Establish X_train, y_train, X_test, y_test\n",
    "X_train = train_data[feature]  \n",
    "y_train = train_data[target]  \n",
    "X_test = test_data[feature] \n",
    "y_test = test_data[target] "
   ]
  },
  {
   "cell_type": "code",
   "execution_count": 8,
   "id": "af551abb",
   "metadata": {
    "execution": {
     "iopub.execute_input": "2024-12-10T03:20:31.631879Z",
     "iopub.status.busy": "2024-12-10T03:20:31.631162Z",
     "iopub.status.idle": "2024-12-10T03:20:31.636368Z",
     "shell.execute_reply": "2024-12-10T03:20:31.635387Z"
    },
    "papermill": {
     "duration": 0.012537,
     "end_time": "2024-12-10T03:20:31.638293",
     "exception": false,
     "start_time": "2024-12-10T03:20:31.625756",
     "status": "completed"
    },
    "tags": []
   },
   "outputs": [],
   "source": [
    "# Define the parameter grid for GridSearchCV\n",
    "param_grid = {\n",
    "    'n_estimators': [500,700],\n",
    "    'max_depth': [30,50],\n",
    "    'min_samples_split': [7,10],\n",
    "    'min_samples_leaf': [1,2],\n",
    "    'bootstrap': [True, False]\n",
    "}"
   ]
  },
  {
   "cell_type": "code",
   "execution_count": 9,
   "id": "dbb76258",
   "metadata": {
    "execution": {
     "iopub.execute_input": "2024-12-10T03:20:31.648762Z",
     "iopub.status.busy": "2024-12-10T03:20:31.648348Z",
     "iopub.status.idle": "2024-12-10T03:20:31.652892Z",
     "shell.execute_reply": "2024-12-10T03:20:31.651853Z"
    },
    "papermill": {
     "duration": 0.011959,
     "end_time": "2024-12-10T03:20:31.654823",
     "exception": false,
     "start_time": "2024-12-10T03:20:31.642864",
     "status": "completed"
    },
    "tags": []
   },
   "outputs": [],
   "source": [
    "# Initialize the RandomForestRegressor\n",
    "rf = RandomForestRegressor(random_state=42)"
   ]
  },
  {
   "cell_type": "code",
   "execution_count": 10,
   "id": "8975779e",
   "metadata": {
    "execution": {
     "iopub.execute_input": "2024-12-10T03:20:31.665093Z",
     "iopub.status.busy": "2024-12-10T03:20:31.664707Z",
     "iopub.status.idle": "2024-12-10T05:01:25.401086Z",
     "shell.execute_reply": "2024-12-10T05:01:25.399632Z"
    },
    "papermill": {
     "duration": 6053.752091,
     "end_time": "2024-12-10T05:01:25.411234",
     "exception": false,
     "start_time": "2024-12-10T03:20:31.659143",
     "status": "completed"
    },
    "tags": []
   },
   "outputs": [
    {
     "name": "stdout",
     "output_type": "stream",
     "text": [
      "Fitting 5 folds for each of 32 candidates, totalling 160 fits\n"
     ]
    },
    {
     "data": {
      "text/html": [
       "<style>#sk-container-id-1 {color: black;background-color: white;}#sk-container-id-1 pre{padding: 0;}#sk-container-id-1 div.sk-toggleable {background-color: white;}#sk-container-id-1 label.sk-toggleable__label {cursor: pointer;display: block;width: 100%;margin-bottom: 0;padding: 0.3em;box-sizing: border-box;text-align: center;}#sk-container-id-1 label.sk-toggleable__label-arrow:before {content: \"▸\";float: left;margin-right: 0.25em;color: #696969;}#sk-container-id-1 label.sk-toggleable__label-arrow:hover:before {color: black;}#sk-container-id-1 div.sk-estimator:hover label.sk-toggleable__label-arrow:before {color: black;}#sk-container-id-1 div.sk-toggleable__content {max-height: 0;max-width: 0;overflow: hidden;text-align: left;background-color: #f0f8ff;}#sk-container-id-1 div.sk-toggleable__content pre {margin: 0.2em;color: black;border-radius: 0.25em;background-color: #f0f8ff;}#sk-container-id-1 input.sk-toggleable__control:checked~div.sk-toggleable__content {max-height: 200px;max-width: 100%;overflow: auto;}#sk-container-id-1 input.sk-toggleable__control:checked~label.sk-toggleable__label-arrow:before {content: \"▾\";}#sk-container-id-1 div.sk-estimator input.sk-toggleable__control:checked~label.sk-toggleable__label {background-color: #d4ebff;}#sk-container-id-1 div.sk-label input.sk-toggleable__control:checked~label.sk-toggleable__label {background-color: #d4ebff;}#sk-container-id-1 input.sk-hidden--visually {border: 0;clip: rect(1px 1px 1px 1px);clip: rect(1px, 1px, 1px, 1px);height: 1px;margin: -1px;overflow: hidden;padding: 0;position: absolute;width: 1px;}#sk-container-id-1 div.sk-estimator {font-family: monospace;background-color: #f0f8ff;border: 1px dotted black;border-radius: 0.25em;box-sizing: border-box;margin-bottom: 0.5em;}#sk-container-id-1 div.sk-estimator:hover {background-color: #d4ebff;}#sk-container-id-1 div.sk-parallel-item::after {content: \"\";width: 100%;border-bottom: 1px solid gray;flex-grow: 1;}#sk-container-id-1 div.sk-label:hover label.sk-toggleable__label {background-color: #d4ebff;}#sk-container-id-1 div.sk-serial::before {content: \"\";position: absolute;border-left: 1px solid gray;box-sizing: border-box;top: 0;bottom: 0;left: 50%;z-index: 0;}#sk-container-id-1 div.sk-serial {display: flex;flex-direction: column;align-items: center;background-color: white;padding-right: 0.2em;padding-left: 0.2em;position: relative;}#sk-container-id-1 div.sk-item {position: relative;z-index: 1;}#sk-container-id-1 div.sk-parallel {display: flex;align-items: stretch;justify-content: center;background-color: white;position: relative;}#sk-container-id-1 div.sk-item::before, #sk-container-id-1 div.sk-parallel-item::before {content: \"\";position: absolute;border-left: 1px solid gray;box-sizing: border-box;top: 0;bottom: 0;left: 50%;z-index: -1;}#sk-container-id-1 div.sk-parallel-item {display: flex;flex-direction: column;z-index: 1;position: relative;background-color: white;}#sk-container-id-1 div.sk-parallel-item:first-child::after {align-self: flex-end;width: 50%;}#sk-container-id-1 div.sk-parallel-item:last-child::after {align-self: flex-start;width: 50%;}#sk-container-id-1 div.sk-parallel-item:only-child::after {width: 0;}#sk-container-id-1 div.sk-dashed-wrapped {border: 1px dashed gray;margin: 0 0.4em 0.5em 0.4em;box-sizing: border-box;padding-bottom: 0.4em;background-color: white;}#sk-container-id-1 div.sk-label label {font-family: monospace;font-weight: bold;display: inline-block;line-height: 1.2em;}#sk-container-id-1 div.sk-label-container {text-align: center;}#sk-container-id-1 div.sk-container {/* jupyter's `normalize.less` sets `[hidden] { display: none; }` but bootstrap.min.css set `[hidden] { display: none !important; }` so we also need the `!important` here to be able to override the default hidden behavior on the sphinx rendered scikit-learn.org. See: https://github.com/scikit-learn/scikit-learn/issues/21755 */display: inline-block !important;position: relative;}#sk-container-id-1 div.sk-text-repr-fallback {display: none;}</style><div id=\"sk-container-id-1\" class=\"sk-top-container\"><div class=\"sk-text-repr-fallback\"><pre>GridSearchCV(cv=5, estimator=RandomForestRegressor(random_state=42), n_jobs=-1,\n",
       "             param_grid={&#x27;bootstrap&#x27;: [True, False], &#x27;max_depth&#x27;: [30, 50],\n",
       "                         &#x27;min_samples_leaf&#x27;: [1, 2],\n",
       "                         &#x27;min_samples_split&#x27;: [7, 10],\n",
       "                         &#x27;n_estimators&#x27;: [500, 700]},\n",
       "             scoring=&#x27;neg_mean_squared_error&#x27;, verbose=2)</pre><b>In a Jupyter environment, please rerun this cell to show the HTML representation or trust the notebook. <br />On GitHub, the HTML representation is unable to render, please try loading this page with nbviewer.org.</b></div><div class=\"sk-container\" hidden><div class=\"sk-item sk-dashed-wrapped\"><div class=\"sk-label-container\"><div class=\"sk-label sk-toggleable\"><input class=\"sk-toggleable__control sk-hidden--visually\" id=\"sk-estimator-id-1\" type=\"checkbox\" ><label for=\"sk-estimator-id-1\" class=\"sk-toggleable__label sk-toggleable__label-arrow\">GridSearchCV</label><div class=\"sk-toggleable__content\"><pre>GridSearchCV(cv=5, estimator=RandomForestRegressor(random_state=42), n_jobs=-1,\n",
       "             param_grid={&#x27;bootstrap&#x27;: [True, False], &#x27;max_depth&#x27;: [30, 50],\n",
       "                         &#x27;min_samples_leaf&#x27;: [1, 2],\n",
       "                         &#x27;min_samples_split&#x27;: [7, 10],\n",
       "                         &#x27;n_estimators&#x27;: [500, 700]},\n",
       "             scoring=&#x27;neg_mean_squared_error&#x27;, verbose=2)</pre></div></div></div><div class=\"sk-parallel\"><div class=\"sk-parallel-item\"><div class=\"sk-item\"><div class=\"sk-label-container\"><div class=\"sk-label sk-toggleable\"><input class=\"sk-toggleable__control sk-hidden--visually\" id=\"sk-estimator-id-2\" type=\"checkbox\" ><label for=\"sk-estimator-id-2\" class=\"sk-toggleable__label sk-toggleable__label-arrow\">estimator: RandomForestRegressor</label><div class=\"sk-toggleable__content\"><pre>RandomForestRegressor(random_state=42)</pre></div></div></div><div class=\"sk-serial\"><div class=\"sk-item\"><div class=\"sk-estimator sk-toggleable\"><input class=\"sk-toggleable__control sk-hidden--visually\" id=\"sk-estimator-id-3\" type=\"checkbox\" ><label for=\"sk-estimator-id-3\" class=\"sk-toggleable__label sk-toggleable__label-arrow\">RandomForestRegressor</label><div class=\"sk-toggleable__content\"><pre>RandomForestRegressor(random_state=42)</pre></div></div></div></div></div></div></div></div></div></div>"
      ],
      "text/plain": [
       "GridSearchCV(cv=5, estimator=RandomForestRegressor(random_state=42), n_jobs=-1,\n",
       "             param_grid={'bootstrap': [True, False], 'max_depth': [30, 50],\n",
       "                         'min_samples_leaf': [1, 2],\n",
       "                         'min_samples_split': [7, 10],\n",
       "                         'n_estimators': [500, 700]},\n",
       "             scoring='neg_mean_squared_error', verbose=2)"
      ]
     },
     "execution_count": 10,
     "metadata": {},
     "output_type": "execute_result"
    }
   ],
   "source": [
    "# Set up GridSearchCV\n",
    "grid_search = GridSearchCV(estimator=rf, param_grid=param_grid, cv=5, n_jobs=-1, scoring='neg_mean_squared_error', verbose=2)\n",
    "grid_search.fit(X_train, y_train)"
   ]
  },
  {
   "cell_type": "code",
   "execution_count": 11,
   "id": "07197762",
   "metadata": {
    "execution": {
     "iopub.execute_input": "2024-12-10T05:01:25.424965Z",
     "iopub.status.busy": "2024-12-10T05:01:25.424058Z",
     "iopub.status.idle": "2024-12-10T05:01:25.429930Z",
     "shell.execute_reply": "2024-12-10T05:01:25.428969Z"
    },
    "papermill": {
     "duration": 0.014629,
     "end_time": "2024-12-10T05:01:25.432127",
     "exception": false,
     "start_time": "2024-12-10T05:01:25.417498",
     "status": "completed"
    },
    "tags": []
   },
   "outputs": [
    {
     "name": "stdout",
     "output_type": "stream",
     "text": [
      "Best Parameters: {'bootstrap': True, 'max_depth': 30, 'min_samples_leaf': 1, 'min_samples_split': 10, 'n_estimators': 500}\n"
     ]
    }
   ],
   "source": [
    "# Get the best hyperparameters\n",
    "best_params = grid_search.best_params_\n",
    "print(f\"Best Parameters: {best_params}\")"
   ]
  },
  {
   "cell_type": "code",
   "execution_count": 12,
   "id": "46606a72",
   "metadata": {
    "execution": {
     "iopub.execute_input": "2024-12-10T05:01:25.443507Z",
     "iopub.status.busy": "2024-12-10T05:01:25.443128Z",
     "iopub.status.idle": "2024-12-10T05:01:25.447831Z",
     "shell.execute_reply": "2024-12-10T05:01:25.446786Z"
    },
    "papermill": {
     "duration": 0.012858,
     "end_time": "2024-12-10T05:01:25.449896",
     "exception": false,
     "start_time": "2024-12-10T05:01:25.437038",
     "status": "completed"
    },
    "tags": []
   },
   "outputs": [],
   "source": [
    "# Get the best estimator\n",
    "best_rf = grid_search.best_estimator_"
   ]
  },
  {
   "cell_type": "code",
   "execution_count": 13,
   "id": "5497690a",
   "metadata": {
    "execution": {
     "iopub.execute_input": "2024-12-10T05:01:25.461418Z",
     "iopub.status.busy": "2024-12-10T05:01:25.461041Z",
     "iopub.status.idle": "2024-12-10T05:01:31.542416Z",
     "shell.execute_reply": "2024-12-10T05:01:31.541342Z"
    },
    "papermill": {
     "duration": 6.090095,
     "end_time": "2024-12-10T05:01:31.544980",
     "exception": false,
     "start_time": "2024-12-10T05:01:25.454885",
     "status": "completed"
    },
    "tags": []
   },
   "outputs": [],
   "source": [
    "# Make predictions\n",
    "y_train_pred = best_rf.predict(X_train)\n",
    "y_test_pred = best_rf.predict(X_test)"
   ]
  },
  {
   "cell_type": "code",
   "execution_count": 14,
   "id": "5836831e",
   "metadata": {
    "execution": {
     "iopub.execute_input": "2024-12-10T05:01:31.556609Z",
     "iopub.status.busy": "2024-12-10T05:01:31.556231Z",
     "iopub.status.idle": "2024-12-10T05:01:31.562787Z",
     "shell.execute_reply": "2024-12-10T05:01:31.561633Z"
    },
    "papermill": {
     "duration": 0.015056,
     "end_time": "2024-12-10T05:01:31.565098",
     "exception": false,
     "start_time": "2024-12-10T05:01:31.550042",
     "status": "completed"
    },
    "tags": []
   },
   "outputs": [],
   "source": [
    "# Define a function to calculate evaluation metrics\n",
    "def calculate_metrics(y_true, y_pred):\n",
    "    rmse = np.sqrt(mean_squared_error(y_true, y_pred))\n",
    "    mae = mean_absolute_error(y_true, y_pred)\n",
    "    r2 = r2_score(y_true, y_pred)\n",
    "    mape = np.mean(np.abs((y_true - y_pred) / y_true)) * 100 if not np.any(y_true == 0) else np.nan\n",
    "    return rmse, mae, r2, mape"
   ]
  },
  {
   "cell_type": "code",
   "execution_count": 15,
   "id": "2c5b0a5c",
   "metadata": {
    "execution": {
     "iopub.execute_input": "2024-12-10T05:01:31.576953Z",
     "iopub.status.busy": "2024-12-10T05:01:31.576470Z",
     "iopub.status.idle": "2024-12-10T05:01:31.591318Z",
     "shell.execute_reply": "2024-12-10T05:01:31.590273Z"
    },
    "papermill": {
     "duration": 0.023447,
     "end_time": "2024-12-10T05:01:31.593569",
     "exception": false,
     "start_time": "2024-12-10T05:01:31.570122",
     "status": "completed"
    },
    "tags": []
   },
   "outputs": [],
   "source": [
    "# Calculate metrics for training and testing sets\n",
    "train_rmse, train_mae, train_r2, train_mape = calculate_metrics(y_train, y_train_pred)\n",
    "test_rmse, test_mae, test_r2, test_mape = calculate_metrics(y_test, y_test_pred)"
   ]
  },
  {
   "cell_type": "code",
   "execution_count": 16,
   "id": "3b83550b",
   "metadata": {
    "execution": {
     "iopub.execute_input": "2024-12-10T05:01:31.605637Z",
     "iopub.status.busy": "2024-12-10T05:01:31.605237Z",
     "iopub.status.idle": "2024-12-10T05:01:31.611819Z",
     "shell.execute_reply": "2024-12-10T05:01:31.610773Z"
    },
    "papermill": {
     "duration": 0.015427,
     "end_time": "2024-12-10T05:01:31.614134",
     "exception": false,
     "start_time": "2024-12-10T05:01:31.598707",
     "status": "completed"
    },
    "tags": []
   },
   "outputs": [
    {
     "name": "stdout",
     "output_type": "stream",
     "text": [
      "\n",
      "Training Metrics:\n",
      "  RMSE: 0.5731974022824415\n",
      "  MAE: 0.3731152441056217\n",
      "  R-squared: 0.9546207458288005\n",
      "  MAPE: 2.41%\n",
      "\n",
      "Testing Metrics:\n",
      "  RMSE: 0.5823364410297058\n",
      "  MAE: 0.3780864871465705\n",
      "  R-squared: 0.9529295415057945\n",
      "  MAPE: 2.46%\n"
     ]
    }
   ],
   "source": [
    "# Print the evaluation metrics\n",
    "print(\"\\nTraining Metrics:\")\n",
    "print(f\"  RMSE: {train_rmse}\")\n",
    "print(f\"  MAE: {train_mae}\")\n",
    "print(f\"  R-squared: {train_r2}\")\n",
    "print(f\"  MAPE: {train_mape:.2f}%\")\n",
    "\n",
    "print(\"\\nTesting Metrics:\")\n",
    "print(f\"  RMSE: {test_rmse}\")\n",
    "print(f\"  MAE: {test_mae}\")\n",
    "print(f\"  R-squared: {test_r2}\")\n",
    "print(f\"  MAPE: {test_mape:.2f}%\")"
   ]
  },
  {
   "cell_type": "code",
   "execution_count": 17,
   "id": "c59de72b",
   "metadata": {
    "execution": {
     "iopub.execute_input": "2024-12-10T05:01:31.626083Z",
     "iopub.status.busy": "2024-12-10T05:01:31.625697Z",
     "iopub.status.idle": "2024-12-10T05:01:31.976141Z",
     "shell.execute_reply": "2024-12-10T05:01:31.974935Z"
    },
    "papermill": {
     "duration": 0.359048,
     "end_time": "2024-12-10T05:01:31.978376",
     "exception": false,
     "start_time": "2024-12-10T05:01:31.619328",
     "status": "completed"
    },
    "tags": []
   },
   "outputs": [
    {
     "name": "stdout",
     "output_type": "stream",
     "text": [
      "  Feature  Importance\n",
      "1   Month    0.324126\n",
      "8     B06    0.189764\n",
      "2    Year    0.133371\n",
      "0     Day    0.127140\n",
      "4     B02    0.059753\n",
      "3     B01    0.048146\n",
      "9     B07    0.045393\n",
      "7     B05    0.028347\n",
      "5     B03    0.022033\n",
      "6     B04    0.021928\n"
     ]
    },
    {
     "data": {
      "image/png": "[encoded data removed]",
      "text/plain": [
       "<Figure size 1000x600 with 1 Axes>"
      ]
     },
     "metadata": {},
     "output_type": "display_data"
    }
   ],
   "source": [
    "# Get feature importances from the trained RandomForestRegressor model\n",
    "feature_importances = best_rf.feature_importances_\n",
    "\n",
    "# Create a DataFrame to display feature importances\n",
    "feature_importance_df = pd.DataFrame({'Feature': X_test.columns, 'Importance': feature_importances})\n",
    "\n",
    "# Sort the DataFrame by importance in descending order\n",
    "feature_importance_df = feature_importance_df.sort_values(by='Importance', ascending=False)\n",
    "\n",
    "# Print or display the feature importances\n",
    "print(feature_importance_df)\n",
    "\n",
    "# You can also visualize the feature importances using a bar plot\n",
    "plt.figure(figsize=(10, 6))\n",
    "plt.barh(feature_importance_df['Feature'], feature_importance_df['Importance'])\n",
    "plt.xlabel('Importance')\n",
    "plt.ylabel('Feature')\n",
    "plt.title('Feature Importances from Random Forest Regressor')\n",
    "plt.show()"
   ]
  }
 ],
 "metadata": {
  "kaggle": {
   "accelerator": "none",
   "dataSources": [
    {
     "datasetId": 6266382,
     "sourceId": 10153930,
     "sourceType": "datasetVersion"
    }
   ],
   "dockerImageVersionId": 30804,
   "isGpuEnabled": false,
   "isInternetEnabled": false,
   "language": "python",
   "sourceType": "notebook"
  },
  "kernelspec": {
   "display_name": "Python 3",
   "language": "python",
   "name": "python3"
  },
  "language_info": {
   "codemirror_mode": {
    "name": "ipython",
    "version": 3
   },
   "file_extension": ".py",
   "mimetype": "text/x-python",
   "name": "python",
   "nbconvert_exporter": "python",
   "pygments_lexer": "ipython3",
   "version": "3.10.14"
  },
  "papermill": {
   "default_parameters": {},
   "duration": 6069.294333,
   "end_time": "2024-12-10T05:01:34.604039",
   "environment_variables": {},
   "exception": null,
   "input_path": "__notebook__.ipynb",
   "output_path": "__notebook__.ipynb",
   "parameters": {},
   "start_time": "2024-12-10T03:20:25.309706",
   "version": "2.6.0"
  }
 },
 "nbformat": 4,
 "nbformat_minor": 5
}
