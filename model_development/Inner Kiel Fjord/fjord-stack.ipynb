{
 "cells": [
  {
   "cell_type": "markdown",
   "id": "1a55f904",
   "metadata": {
    "papermill": {
     "duration": 0.005393,
     "end_time": "2024-12-10T04:51:34.385377",
     "exception": false,
     "start_time": "2024-12-10T04:51:34.379984",
     "status": "completed"
    },
    "tags": []
   },
   "source": [
    "# Import essential library "
   ]
  },
  {
   "cell_type": "code",
   "execution_count": 1,
   "id": "eb763673",
   "metadata": {
    "_cell_guid": "b1076dfc-b9ad-4769-8c92-a6c4dae69d19",
    "_uuid": "8f2839f25d086af736a60e9eeb907d3b93b6e0e5",
    "execution": {
     "iopub.execute_input": "2024-12-10T04:51:34.396608Z",
     "iopub.status.busy": "2024-12-10T04:51:34.396208Z",
     "iopub.status.idle": "2024-12-10T04:51:37.492238Z",
     "shell.execute_reply": "2024-12-10T04:51:37.490836Z"
    },
    "papermill": {
     "duration": 3.104416,
     "end_time": "2024-12-10T04:51:37.494868",
     "exception": false,
     "start_time": "2024-12-10T04:51:34.390452",
     "status": "completed"
    },
    "tags": []
   },
   "outputs": [],
   "source": [
    "import numpy as np\n",
    "import pandas as pd\n",
    "from sklearn.linear_model import LinearRegression\n",
    "from sklearn.ensemble import RandomForestRegressor\n",
    "from sklearn.ensemble import StackingRegressor\n",
    "from sklearn.preprocessing import PolynomialFeatures\n",
    "from sklearn.pipeline import Pipeline\n",
    "from sklearn.metrics import mean_squared_error\n",
    "from xgboost import XGBRegressor\n",
    "from sklearn.metrics import mean_squared_error, mean_absolute_error, r2_score"
   ]
  },
  {
   "cell_type": "code",
   "execution_count": 2,
   "id": "9b12fc9c",
   "metadata": {
    "execution": {
     "iopub.execute_input": "2024-12-10T04:51:37.506211Z",
     "iopub.status.busy": "2024-12-10T04:51:37.505668Z",
     "iopub.status.idle": "2024-12-10T04:51:37.845471Z",
     "shell.execute_reply": "2024-12-10T04:51:37.844320Z"
    },
    "papermill": {
     "duration": 0.348421,
     "end_time": "2024-12-10T04:51:37.848120",
     "exception": false,
     "start_time": "2024-12-10T04:51:37.499699",
     "status": "completed"
    },
    "tags": []
   },
   "outputs": [],
   "source": [
    "#Data loading\n",
    "train_data = pd.read_csv('/kaggle/input/kjord-training-testing-data/training_set.csv')\n",
    "test_data = pd.read_csv('/kaggle/input/kjord-training-testing-data/testing_set.csv')"
   ]
  },
  {
   "cell_type": "code",
   "execution_count": 3,
   "id": "53d2431d",
   "metadata": {
    "execution": {
     "iopub.execute_input": "2024-12-10T04:51:37.859832Z",
     "iopub.status.busy": "2024-12-10T04:51:37.859370Z",
     "iopub.status.idle": "2024-12-10T04:51:37.884019Z",
     "shell.execute_reply": "2024-12-10T04:51:37.882919Z"
    },
    "papermill": {
     "duration": 0.033798,
     "end_time": "2024-12-10T04:51:37.886522",
     "exception": false,
     "start_time": "2024-12-10T04:51:37.852724",
     "status": "completed"
    },
    "tags": []
   },
   "outputs": [
    {
     "data": {
      "text/html": [
       "<div>\n",
       "<style scoped>\n",
       "    .dataframe tbody tr th:only-of-type {\n",
       "        vertical-align: middle;\n",
       "    }\n",
       "\n",
       "    .dataframe tbody tr th {\n",
       "        vertical-align: top;\n",
       "    }\n",
       "\n",
       "    .dataframe thead th {\n",
       "        text-align: right;\n",
       "    }\n",
       "</style>\n",
       "<table border=\"1\" class=\"dataframe\">\n",
       "  <thead>\n",
       "    <tr style=\"text-align: right;\">\n",
       "      <th></th>\n",
       "      <th>Day</th>\n",
       "      <th>Month</th>\n",
       "      <th>Year</th>\n",
       "      <th>B01</th>\n",
       "      <th>B02</th>\n",
       "      <th>B03</th>\n",
       "      <th>B04</th>\n",
       "      <th>B05</th>\n",
       "      <th>B06</th>\n",
       "      <th>B07</th>\n",
       "      <th>Salinity</th>\n",
       "    </tr>\n",
       "  </thead>\n",
       "  <tbody>\n",
       "    <tr>\n",
       "      <th>0</th>\n",
       "      <td>2017</td>\n",
       "      <td>9</td>\n",
       "      <td>2017</td>\n",
       "      <td>0.059865</td>\n",
       "      <td>0.108096</td>\n",
       "      <td>0.029403</td>\n",
       "      <td>0.025330</td>\n",
       "      <td>0.069976</td>\n",
       "      <td>0.160038</td>\n",
       "      <td>0.026542</td>\n",
       "      <td>14.66</td>\n",
       "    </tr>\n",
       "    <tr>\n",
       "      <th>1</th>\n",
       "      <td>2016</td>\n",
       "      <td>11</td>\n",
       "      <td>2016</td>\n",
       "      <td>0.362885</td>\n",
       "      <td>0.468959</td>\n",
       "      <td>0.364220</td>\n",
       "      <td>0.353000</td>\n",
       "      <td>0.414434</td>\n",
       "      <td>0.945758</td>\n",
       "      <td>0.369478</td>\n",
       "      <td>14.53</td>\n",
       "    </tr>\n",
       "    <tr>\n",
       "      <th>2</th>\n",
       "      <td>2015</td>\n",
       "      <td>4</td>\n",
       "      <td>2015</td>\n",
       "      <td>0.019929</td>\n",
       "      <td>0.065494</td>\n",
       "      <td>0.020901</td>\n",
       "      <td>0.019087</td>\n",
       "      <td>0.021868</td>\n",
       "      <td>0.043231</td>\n",
       "      <td>0.019022</td>\n",
       "      <td>15.48</td>\n",
       "    </tr>\n",
       "    <tr>\n",
       "      <th>3</th>\n",
       "      <td>2019</td>\n",
       "      <td>5</td>\n",
       "      <td>2019</td>\n",
       "      <td>0.051056</td>\n",
       "      <td>0.122850</td>\n",
       "      <td>0.005530</td>\n",
       "      <td>0.002822</td>\n",
       "      <td>0.084914</td>\n",
       "      <td>0.065135</td>\n",
       "      <td>0.005853</td>\n",
       "      <td>12.51</td>\n",
       "    </tr>\n",
       "    <tr>\n",
       "      <th>4</th>\n",
       "      <td>2015</td>\n",
       "      <td>4</td>\n",
       "      <td>2015</td>\n",
       "      <td>0.009498</td>\n",
       "      <td>0.006927</td>\n",
       "      <td>0.000723</td>\n",
       "      <td>0.000723</td>\n",
       "      <td>0.000723</td>\n",
       "      <td>0.001265</td>\n",
       "      <td>0.000723</td>\n",
       "      <td>15.63</td>\n",
       "    </tr>\n",
       "  </tbody>\n",
       "</table>\n",
       "</div>"
      ],
      "text/plain": [
       "    Day  Month  Year       B01       B02       B03       B04       B05  \\\n",
       "0  2017      9  2017  0.059865  0.108096  0.029403  0.025330  0.069976   \n",
       "1  2016     11  2016  0.362885  0.468959  0.364220  0.353000  0.414434   \n",
       "2  2015      4  2015  0.019929  0.065494  0.020901  0.019087  0.021868   \n",
       "3  2019      5  2019  0.051056  0.122850  0.005530  0.002822  0.084914   \n",
       "4  2015      4  2015  0.009498  0.006927  0.000723  0.000723  0.000723   \n",
       "\n",
       "        B06       B07  Salinity  \n",
       "0  0.160038  0.026542     14.66  \n",
       "1  0.945758  0.369478     14.53  \n",
       "2  0.043231  0.019022     15.48  \n",
       "3  0.065135  0.005853     12.51  \n",
       "4  0.001265  0.000723     15.63  "
      ]
     },
     "execution_count": 3,
     "metadata": {},
     "output_type": "execute_result"
    }
   ],
   "source": [
    "#Check data\n",
    "\n",
    "train_data.head()"
   ]
  },
  {
   "cell_type": "code",
   "execution_count": 4,
   "id": "f149a5e0",
   "metadata": {
    "execution": {
     "iopub.execute_input": "2024-12-10T04:51:37.897565Z",
     "iopub.status.busy": "2024-12-10T04:51:37.897134Z",
     "iopub.status.idle": "2024-12-10T04:51:37.904181Z",
     "shell.execute_reply": "2024-12-10T04:51:37.903200Z"
    },
    "papermill": {
     "duration": 0.014787,
     "end_time": "2024-12-10T04:51:37.906101",
     "exception": false,
     "start_time": "2024-12-10T04:51:37.891314",
     "status": "completed"
    },
    "tags": []
   },
   "outputs": [
    {
     "data": {
      "text/plain": [
       "(67669, 11)"
      ]
     },
     "execution_count": 4,
     "metadata": {},
     "output_type": "execute_result"
    }
   ],
   "source": [
    "train_data.shape"
   ]
  },
  {
   "cell_type": "code",
   "execution_count": 5,
   "id": "b99c6643",
   "metadata": {
    "execution": {
     "iopub.execute_input": "2024-12-10T04:51:37.918940Z",
     "iopub.status.busy": "2024-12-10T04:51:37.918531Z",
     "iopub.status.idle": "2024-12-10T04:51:37.933939Z",
     "shell.execute_reply": "2024-12-10T04:51:37.932822Z"
    },
    "papermill": {
     "duration": 0.023797,
     "end_time": "2024-12-10T04:51:37.936239",
     "exception": false,
     "start_time": "2024-12-10T04:51:37.912442",
     "status": "completed"
    },
    "tags": []
   },
   "outputs": [
    {
     "data": {
      "text/html": [
       "<div>\n",
       "<style scoped>\n",
       "    .dataframe tbody tr th:only-of-type {\n",
       "        vertical-align: middle;\n",
       "    }\n",
       "\n",
       "    .dataframe tbody tr th {\n",
       "        vertical-align: top;\n",
       "    }\n",
       "\n",
       "    .dataframe thead th {\n",
       "        text-align: right;\n",
       "    }\n",
       "</style>\n",
       "<table border=\"1\" class=\"dataframe\">\n",
       "  <thead>\n",
       "    <tr style=\"text-align: right;\">\n",
       "      <th></th>\n",
       "      <th>Day</th>\n",
       "      <th>Month</th>\n",
       "      <th>Year</th>\n",
       "      <th>B01</th>\n",
       "      <th>B02</th>\n",
       "      <th>B03</th>\n",
       "      <th>B04</th>\n",
       "      <th>B05</th>\n",
       "      <th>B06</th>\n",
       "      <th>B07</th>\n",
       "      <th>Salinity</th>\n",
       "    </tr>\n",
       "  </thead>\n",
       "  <tbody>\n",
       "    <tr>\n",
       "      <th>0</th>\n",
       "      <td>2017</td>\n",
       "      <td>10</td>\n",
       "      <td>2017</td>\n",
       "      <td>0.039656</td>\n",
       "      <td>0.211165</td>\n",
       "      <td>0.035558</td>\n",
       "      <td>0.024633</td>\n",
       "      <td>0.095263</td>\n",
       "      <td>0.122293</td>\n",
       "      <td>0.034937</td>\n",
       "      <td>17.16</td>\n",
       "    </tr>\n",
       "    <tr>\n",
       "      <th>1</th>\n",
       "      <td>2015</td>\n",
       "      <td>12</td>\n",
       "      <td>2015</td>\n",
       "      <td>0.245583</td>\n",
       "      <td>0.234031</td>\n",
       "      <td>0.245137</td>\n",
       "      <td>0.219353</td>\n",
       "      <td>0.243156</td>\n",
       "      <td>1.340889</td>\n",
       "      <td>0.226793</td>\n",
       "      <td>23.00</td>\n",
       "    </tr>\n",
       "    <tr>\n",
       "      <th>2</th>\n",
       "      <td>2017</td>\n",
       "      <td>8</td>\n",
       "      <td>2017</td>\n",
       "      <td>0.057876</td>\n",
       "      <td>0.105920</td>\n",
       "      <td>0.028864</td>\n",
       "      <td>0.027373</td>\n",
       "      <td>0.070589</td>\n",
       "      <td>0.218493</td>\n",
       "      <td>0.027634</td>\n",
       "      <td>15.64</td>\n",
       "    </tr>\n",
       "    <tr>\n",
       "      <th>3</th>\n",
       "      <td>2017</td>\n",
       "      <td>9</td>\n",
       "      <td>2017</td>\n",
       "      <td>0.156547</td>\n",
       "      <td>0.309134</td>\n",
       "      <td>0.148183</td>\n",
       "      <td>0.140741</td>\n",
       "      <td>0.222221</td>\n",
       "      <td>0.565978</td>\n",
       "      <td>0.141779</td>\n",
       "      <td>16.12</td>\n",
       "    </tr>\n",
       "    <tr>\n",
       "      <th>4</th>\n",
       "      <td>2017</td>\n",
       "      <td>7</td>\n",
       "      <td>2017</td>\n",
       "      <td>0.393088</td>\n",
       "      <td>0.501025</td>\n",
       "      <td>0.374650</td>\n",
       "      <td>0.369656</td>\n",
       "      <td>0.420214</td>\n",
       "      <td>0.739151</td>\n",
       "      <td>0.369479</td>\n",
       "      <td>17.20</td>\n",
       "    </tr>\n",
       "  </tbody>\n",
       "</table>\n",
       "</div>"
      ],
      "text/plain": [
       "    Day  Month  Year       B01       B02       B03       B04       B05  \\\n",
       "0  2017     10  2017  0.039656  0.211165  0.035558  0.024633  0.095263   \n",
       "1  2015     12  2015  0.245583  0.234031  0.245137  0.219353  0.243156   \n",
       "2  2017      8  2017  0.057876  0.105920  0.028864  0.027373  0.070589   \n",
       "3  2017      9  2017  0.156547  0.309134  0.148183  0.140741  0.222221   \n",
       "4  2017      7  2017  0.393088  0.501025  0.374650  0.369656  0.420214   \n",
       "\n",
       "        B06       B07  Salinity  \n",
       "0  0.122293  0.034937     17.16  \n",
       "1  1.340889  0.226793     23.00  \n",
       "2  0.218493  0.027634     15.64  \n",
       "3  0.565978  0.141779     16.12  \n",
       "4  0.739151  0.369479     17.20  "
      ]
     },
     "execution_count": 5,
     "metadata": {},
     "output_type": "execute_result"
    }
   ],
   "source": [
    "#Check data\n",
    "\n",
    "test_data.head()"
   ]
  },
  {
   "cell_type": "code",
   "execution_count": 6,
   "id": "38a3be6c",
   "metadata": {
    "execution": {
     "iopub.execute_input": "2024-12-10T04:51:37.947963Z",
     "iopub.status.busy": "2024-12-10T04:51:37.947547Z",
     "iopub.status.idle": "2024-12-10T04:51:37.954490Z",
     "shell.execute_reply": "2024-12-10T04:51:37.953493Z"
    },
    "papermill": {
     "duration": 0.015385,
     "end_time": "2024-12-10T04:51:37.956656",
     "exception": false,
     "start_time": "2024-12-10T04:51:37.941271",
     "status": "completed"
    },
    "tags": []
   },
   "outputs": [
    {
     "data": {
      "text/plain": [
       "(16918, 11)"
      ]
     },
     "execution_count": 6,
     "metadata": {},
     "output_type": "execute_result"
    }
   ],
   "source": [
    "test_data.shape"
   ]
  },
  {
   "cell_type": "markdown",
   "id": "57c592bc",
   "metadata": {
    "papermill": {
     "duration": 0.004794,
     "end_time": "2024-12-10T04:51:37.966532",
     "exception": false,
     "start_time": "2024-12-10T04:51:37.961738",
     "status": "completed"
    },
    "tags": []
   },
   "source": [
    "# Model Development"
   ]
  },
  {
   "cell_type": "code",
   "execution_count": 7,
   "id": "03ec4d5d",
   "metadata": {
    "execution": {
     "iopub.execute_input": "2024-12-10T04:51:37.978103Z",
     "iopub.status.busy": "2024-12-10T04:51:37.977733Z",
     "iopub.status.idle": "2024-12-10T04:51:37.993775Z",
     "shell.execute_reply": "2024-12-10T04:51:37.992578Z"
    },
    "papermill": {
     "duration": 0.024794,
     "end_time": "2024-12-10T04:51:37.996330",
     "exception": false,
     "start_time": "2024-12-10T04:51:37.971536",
     "status": "completed"
    },
    "tags": []
   },
   "outputs": [],
   "source": [
    "target = 'Salinity'\n",
    "feature = ['Day','Month', 'Year', 'B01', 'B02', 'B03', 'B04', 'B05', 'B06', 'B07']\n",
    "#Establish X_train, y_train, X_test, y_test\n",
    "X_train = train_data[feature]  \n",
    "y_train = train_data[target]  \n",
    "X_test = test_data[feature]  # Your features\n",
    "y_test = test_data[target] "
   ]
  },
  {
   "cell_type": "markdown",
   "id": "f2f6dbf6",
   "metadata": {
    "papermill": {
     "duration": 0.004731,
     "end_time": "2024-12-10T04:51:38.006299",
     "exception": false,
     "start_time": "2024-12-10T04:51:38.001568",
     "status": "completed"
    },
    "tags": []
   },
   "source": [
    "## Train without polymonial"
   ]
  },
  {
   "cell_type": "code",
   "execution_count": 8,
   "id": "cb35870e",
   "metadata": {
    "execution": {
     "iopub.execute_input": "2024-12-10T04:51:38.017992Z",
     "iopub.status.busy": "2024-12-10T04:51:38.017590Z",
     "iopub.status.idle": "2024-12-10T04:51:38.024203Z",
     "shell.execute_reply": "2024-12-10T04:51:38.023102Z"
    },
    "papermill": {
     "duration": 0.015454,
     "end_time": "2024-12-10T04:51:38.026722",
     "exception": false,
     "start_time": "2024-12-10T04:51:38.011268",
     "status": "completed"
    },
    "tags": []
   },
   "outputs": [],
   "source": [
    "# Define a function to calculate evaluation metrics\n",
    "def calculate_metrics(y_true, y_pred):\n",
    "    rmse = np.sqrt(mean_squared_error(y_true, y_pred))\n",
    "    mae = mean_absolute_error(y_true, y_pred)\n",
    "    r2 = r2_score(y_true, y_pred)\n",
    "    mape = np.mean(np.abs((y_true - y_pred) / y_true)) * 100 if not np.any(y_true == 0) else np.nan\n",
    "    return rmse, mae, r2, mape"
   ]
  },
  {
   "cell_type": "code",
   "execution_count": 9,
   "id": "65074b53",
   "metadata": {
    "execution": {
     "iopub.execute_input": "2024-12-10T04:51:38.039123Z",
     "iopub.status.busy": "2024-12-10T04:51:38.038718Z",
     "iopub.status.idle": "2024-12-10T04:51:38.044367Z",
     "shell.execute_reply": "2024-12-10T04:51:38.043242Z"
    },
    "papermill": {
     "duration": 0.014733,
     "end_time": "2024-12-10T04:51:38.046669",
     "exception": false,
     "start_time": "2024-12-10T04:51:38.031936",
     "status": "completed"
    },
    "tags": []
   },
   "outputs": [],
   "source": [
    "# Define base models\n",
    "linear_model_no_poly = LinearRegression()\n",
    "random_forest = RandomForestRegressor(n_estimators=100, random_state=42)\n",
    "# Define meta-model\n",
    "meta_model = XGBRegressor(random_state=42, objective='reg:squarederror')"
   ]
  },
  {
   "cell_type": "code",
   "execution_count": 10,
   "id": "80de604a",
   "metadata": {
    "execution": {
     "iopub.execute_input": "2024-12-10T04:51:38.059182Z",
     "iopub.status.busy": "2024-12-10T04:51:38.058788Z",
     "iopub.status.idle": "2024-12-10T04:51:38.063819Z",
     "shell.execute_reply": "2024-12-10T04:51:38.062781Z"
    },
    "papermill": {
     "duration": 0.014061,
     "end_time": "2024-12-10T04:51:38.066102",
     "exception": false,
     "start_time": "2024-12-10T04:51:38.052041",
     "status": "completed"
    },
    "tags": []
   },
   "outputs": [],
   "source": [
    "# Stacking regressor without polynomial features\n",
    "stacking_no_poly = StackingRegressor(\n",
    "    estimators=[\n",
    "        ('linear', linear_model_no_poly),\n",
    "        ('random_forest', random_forest)\n",
    "    ],\n",
    "    final_estimator=meta_model\n",
    ")"
   ]
  },
  {
   "cell_type": "code",
   "execution_count": 11,
   "id": "e5f373cd",
   "metadata": {
    "execution": {
     "iopub.execute_input": "2024-12-10T04:51:38.078141Z",
     "iopub.status.busy": "2024-12-10T04:51:38.077762Z",
     "iopub.status.idle": "2024-12-10T04:52:50.351802Z",
     "shell.execute_reply": "2024-12-10T04:52:50.350535Z"
    },
    "papermill": {
     "duration": 72.288762,
     "end_time": "2024-12-10T04:52:50.360081",
     "exception": false,
     "start_time": "2024-12-10T04:51:38.071319",
     "status": "completed"
    },
    "tags": []
   },
   "outputs": [
    {
     "data": {
      "text/html": [
       "<style>#sk-container-id-1 {color: black;background-color: white;}#sk-container-id-1 pre{padding: 0;}#sk-container-id-1 div.sk-toggleable {background-color: white;}#sk-container-id-1 label.sk-toggleable__label {cursor: pointer;display: block;width: 100%;margin-bottom: 0;padding: 0.3em;box-sizing: border-box;text-align: center;}#sk-container-id-1 label.sk-toggleable__label-arrow:before {content: \"▸\";float: left;margin-right: 0.25em;color: #696969;}#sk-container-id-1 label.sk-toggleable__label-arrow:hover:before {color: black;}#sk-container-id-1 div.sk-estimator:hover label.sk-toggleable__label-arrow:before {color: black;}#sk-container-id-1 div.sk-toggleable__content {max-height: 0;max-width: 0;overflow: hidden;text-align: left;background-color: #f0f8ff;}#sk-container-id-1 div.sk-toggleable__content pre {margin: 0.2em;color: black;border-radius: 0.25em;background-color: #f0f8ff;}#sk-container-id-1 input.sk-toggleable__control:checked~div.sk-toggleable__content {max-height: 200px;max-width: 100%;overflow: auto;}#sk-container-id-1 input.sk-toggleable__control:checked~label.sk-toggleable__label-arrow:before {content: \"▾\";}#sk-container-id-1 div.sk-estimator input.sk-toggleable__control:checked~label.sk-toggleable__label {background-color: #d4ebff;}#sk-container-id-1 div.sk-label input.sk-toggleable__control:checked~label.sk-toggleable__label {background-color: #d4ebff;}#sk-container-id-1 input.sk-hidden--visually {border: 0;clip: rect(1px 1px 1px 1px);clip: rect(1px, 1px, 1px, 1px);height: 1px;margin: -1px;overflow: hidden;padding: 0;position: absolute;width: 1px;}#sk-container-id-1 div.sk-estimator {font-family: monospace;background-color: #f0f8ff;border: 1px dotted black;border-radius: 0.25em;box-sizing: border-box;margin-bottom: 0.5em;}#sk-container-id-1 div.sk-estimator:hover {background-color: #d4ebff;}#sk-container-id-1 div.sk-parallel-item::after {content: \"\";width: 100%;border-bottom: 1px solid gray;flex-grow: 1;}#sk-container-id-1 div.sk-label:hover label.sk-toggleable__label {background-color: #d4ebff;}#sk-container-id-1 div.sk-serial::before {content: \"\";position: absolute;border-left: 1px solid gray;box-sizing: border-box;top: 0;bottom: 0;left: 50%;z-index: 0;}#sk-container-id-1 div.sk-serial {display: flex;flex-direction: column;align-items: center;background-color: white;padding-right: 0.2em;padding-left: 0.2em;position: relative;}#sk-container-id-1 div.sk-item {position: relative;z-index: 1;}#sk-container-id-1 div.sk-parallel {display: flex;align-items: stretch;justify-content: center;background-color: white;position: relative;}#sk-container-id-1 div.sk-item::before, #sk-container-id-1 div.sk-parallel-item::before {content: \"\";position: absolute;border-left: 1px solid gray;box-sizing: border-box;top: 0;bottom: 0;left: 50%;z-index: -1;}#sk-container-id-1 div.sk-parallel-item {display: flex;flex-direction: column;z-index: 1;position: relative;background-color: white;}#sk-container-id-1 div.sk-parallel-item:first-child::after {align-self: flex-end;width: 50%;}#sk-container-id-1 div.sk-parallel-item:last-child::after {align-self: flex-start;width: 50%;}#sk-container-id-1 div.sk-parallel-item:only-child::after {width: 0;}#sk-container-id-1 div.sk-dashed-wrapped {border: 1px dashed gray;margin: 0 0.4em 0.5em 0.4em;box-sizing: border-box;padding-bottom: 0.4em;background-color: white;}#sk-container-id-1 div.sk-label label {font-family: monospace;font-weight: bold;display: inline-block;line-height: 1.2em;}#sk-container-id-1 div.sk-label-container {text-align: center;}#sk-container-id-1 div.sk-container {/* jupyter's `normalize.less` sets `[hidden] { display: none; }` but bootstrap.min.css set `[hidden] { display: none !important; }` so we also need the `!important` here to be able to override the default hidden behavior on the sphinx rendered scikit-learn.org. See: https://github.com/scikit-learn/scikit-learn/issues/21755 */display: inline-block !important;position: relative;}#sk-container-id-1 div.sk-text-repr-fallback {display: none;}</style><div id=\"sk-container-id-1\" class=\"sk-top-container\"><div class=\"sk-text-repr-fallback\"><pre>StackingRegressor(estimators=[(&#x27;linear&#x27;, LinearRegression()),\n",
       "                              (&#x27;random_forest&#x27;,\n",
       "                               RandomForestRegressor(random_state=42))],\n",
       "                  final_estimator=XGBRegressor(base_score=None, booster=None,\n",
       "                                               callbacks=None,\n",
       "                                               colsample_bylevel=None,\n",
       "                                               colsample_bynode=None,\n",
       "                                               colsample_bytree=None,\n",
       "                                               device=None,\n",
       "                                               early_stopping_rounds=None,\n",
       "                                               enable_categorical=False,\n",
       "                                               eval_metric=None,\n",
       "                                               feature_typ...\n",
       "                                               grow_policy=None,\n",
       "                                               importance_type=None,\n",
       "                                               interaction_constraints=None,\n",
       "                                               learning_rate=None, max_bin=None,\n",
       "                                               max_cat_threshold=None,\n",
       "                                               max_cat_to_onehot=None,\n",
       "                                               max_delta_step=None,\n",
       "                                               max_depth=None, max_leaves=None,\n",
       "                                               min_child_weight=None,\n",
       "                                               missing=nan,\n",
       "                                               monotone_constraints=None,\n",
       "                                               multi_strategy=None,\n",
       "                                               n_estimators=None, n_jobs=None,\n",
       "                                               num_parallel_tree=None,\n",
       "                                               random_state=42, ...))</pre><b>In a Jupyter environment, please rerun this cell to show the HTML representation or trust the notebook. <br />On GitHub, the HTML representation is unable to render, please try loading this page with nbviewer.org.</b></div><div class=\"sk-container\" hidden><div class=\"sk-item sk-dashed-wrapped\"><div class=\"sk-label-container\"><div class=\"sk-label sk-toggleable\"><input class=\"sk-toggleable__control sk-hidden--visually\" id=\"sk-estimator-id-1\" type=\"checkbox\" ><label for=\"sk-estimator-id-1\" class=\"sk-toggleable__label sk-toggleable__label-arrow\">StackingRegressor</label><div class=\"sk-toggleable__content\"><pre>StackingRegressor(estimators=[(&#x27;linear&#x27;, LinearRegression()),\n",
       "                              (&#x27;random_forest&#x27;,\n",
       "                               RandomForestRegressor(random_state=42))],\n",
       "                  final_estimator=XGBRegressor(base_score=None, booster=None,\n",
       "                                               callbacks=None,\n",
       "                                               colsample_bylevel=None,\n",
       "                                               colsample_bynode=None,\n",
       "                                               colsample_bytree=None,\n",
       "                                               device=None,\n",
       "                                               early_stopping_rounds=None,\n",
       "                                               enable_categorical=False,\n",
       "                                               eval_metric=None,\n",
       "                                               feature_typ...\n",
       "                                               grow_policy=None,\n",
       "                                               importance_type=None,\n",
       "                                               interaction_constraints=None,\n",
       "                                               learning_rate=None, max_bin=None,\n",
       "                                               max_cat_threshold=None,\n",
       "                                               max_cat_to_onehot=None,\n",
       "                                               max_delta_step=None,\n",
       "                                               max_depth=None, max_leaves=None,\n",
       "                                               min_child_weight=None,\n",
       "                                               missing=nan,\n",
       "                                               monotone_constraints=None,\n",
       "                                               multi_strategy=None,\n",
       "                                               n_estimators=None, n_jobs=None,\n",
       "                                               num_parallel_tree=None,\n",
       "                                               random_state=42, ...))</pre></div></div></div><div class=\"sk-serial\"><div class=\"sk-item\"><div class=\"sk-parallel\"><div class=\"sk-parallel-item\"><div class=\"sk-item\"><div class=\"sk-label-container\"><div class=\"sk-label sk-toggleable\"><label>linear</label></div></div><div class=\"sk-serial\"><div class=\"sk-item\"><div class=\"sk-estimator sk-toggleable\"><input class=\"sk-toggleable__control sk-hidden--visually\" id=\"sk-estimator-id-2\" type=\"checkbox\" ><label for=\"sk-estimator-id-2\" class=\"sk-toggleable__label sk-toggleable__label-arrow\">LinearRegression</label><div class=\"sk-toggleable__content\"><pre>LinearRegression()</pre></div></div></div></div></div></div><div class=\"sk-parallel-item\"><div class=\"sk-item\"><div class=\"sk-label-container\"><div class=\"sk-label sk-toggleable\"><label>random_forest</label></div></div><div class=\"sk-serial\"><div class=\"sk-item\"><div class=\"sk-estimator sk-toggleable\"><input class=\"sk-toggleable__control sk-hidden--visually\" id=\"sk-estimator-id-3\" type=\"checkbox\" ><label for=\"sk-estimator-id-3\" class=\"sk-toggleable__label sk-toggleable__label-arrow\">RandomForestRegressor</label><div class=\"sk-toggleable__content\"><pre>RandomForestRegressor(random_state=42)</pre></div></div></div></div></div></div></div></div><div class=\"sk-item\"><div class=\"sk-parallel\"><div class=\"sk-parallel-item\"><div class=\"sk-item\"><div class=\"sk-label-container\"><div class=\"sk-label sk-toggleable\"><label>final_estimator</label></div></div><div class=\"sk-serial\"><div class=\"sk-item\"><div class=\"sk-estimator sk-toggleable\"><input class=\"sk-toggleable__control sk-hidden--visually\" id=\"sk-estimator-id-4\" type=\"checkbox\" ><label for=\"sk-estimator-id-4\" class=\"sk-toggleable__label sk-toggleable__label-arrow\">XGBRegressor</label><div class=\"sk-toggleable__content\"><pre>XGBRegressor(base_score=None, booster=None, callbacks=None,\n",
       "             colsample_bylevel=None, colsample_bynode=None,\n",
       "             colsample_bytree=None, device=None, early_stopping_rounds=None,\n",
       "             enable_categorical=False, eval_metric=None, feature_types=None,\n",
       "             gamma=None, grow_policy=None, importance_type=None,\n",
       "             interaction_constraints=None, learning_rate=None, max_bin=None,\n",
       "             max_cat_threshold=None, max_cat_to_onehot=None,\n",
       "             max_delta_step=None, max_depth=None, max_leaves=None,\n",
       "             min_child_weight=None, missing=nan, monotone_constraints=None,\n",
       "             multi_strategy=None, n_estimators=None, n_jobs=None,\n",
       "             num_parallel_tree=None, random_state=42, ...)</pre></div></div></div></div></div></div></div></div></div></div></div></div>"
      ],
      "text/plain": [
       "StackingRegressor(estimators=[('linear', LinearRegression()),\n",
       "                              ('random_forest',\n",
       "                               RandomForestRegressor(random_state=42))],\n",
       "                  final_estimator=XGBRegressor(base_score=None, booster=None,\n",
       "                                               callbacks=None,\n",
       "                                               colsample_bylevel=None,\n",
       "                                               colsample_bynode=None,\n",
       "                                               colsample_bytree=None,\n",
       "                                               device=None,\n",
       "                                               early_stopping_rounds=None,\n",
       "                                               enable_categorical=False,\n",
       "                                               eval_metric=None,\n",
       "                                               feature_typ...\n",
       "                                               grow_policy=None,\n",
       "                                               importance_type=None,\n",
       "                                               interaction_constraints=None,\n",
       "                                               learning_rate=None, max_bin=None,\n",
       "                                               max_cat_threshold=None,\n",
       "                                               max_cat_to_onehot=None,\n",
       "                                               max_delta_step=None,\n",
       "                                               max_depth=None, max_leaves=None,\n",
       "                                               min_child_weight=None,\n",
       "                                               missing=nan,\n",
       "                                               monotone_constraints=None,\n",
       "                                               multi_strategy=None,\n",
       "                                               n_estimators=None, n_jobs=None,\n",
       "                                               num_parallel_tree=None,\n",
       "                                               random_state=42, ...))"
      ]
     },
     "execution_count": 11,
     "metadata": {},
     "output_type": "execute_result"
    }
   ],
   "source": [
    "# Train the model\n",
    "stacking_no_poly.fit(X_train, y_train)"
   ]
  },
  {
   "cell_type": "code",
   "execution_count": 12,
   "id": "ee31a0f9",
   "metadata": {
    "execution": {
     "iopub.execute_input": "2024-12-10T04:52:50.373193Z",
     "iopub.status.busy": "2024-12-10T04:52:50.372838Z",
     "iopub.status.idle": "2024-12-10T04:52:51.788059Z",
     "shell.execute_reply": "2024-12-10T04:52:51.787224Z"
    },
    "papermill": {
     "duration": 1.424902,
     "end_time": "2024-12-10T04:52:51.790713",
     "exception": false,
     "start_time": "2024-12-10T04:52:50.365811",
     "status": "completed"
    },
    "tags": []
   },
   "outputs": [],
   "source": [
    "# Make predictions\n",
    "y_train_pred = stacking_no_poly.predict(X_train)\n",
    "y_test_pred = stacking_no_poly.predict(X_test)"
   ]
  },
  {
   "cell_type": "code",
   "execution_count": 13,
   "id": "c6748566",
   "metadata": {
    "execution": {
     "iopub.execute_input": "2024-12-10T04:52:51.806772Z",
     "iopub.status.busy": "2024-12-10T04:52:51.806303Z",
     "iopub.status.idle": "2024-12-10T04:52:51.818898Z",
     "shell.execute_reply": "2024-12-10T04:52:51.817772Z"
    },
    "papermill": {
     "duration": 0.023587,
     "end_time": "2024-12-10T04:52:51.821364",
     "exception": false,
     "start_time": "2024-12-10T04:52:51.797777",
     "status": "completed"
    },
    "tags": []
   },
   "outputs": [],
   "source": [
    "# Calculate metrics for training and testing sets\n",
    "train_rmse, train_mae, train_r2, train_mape = calculate_metrics(y_train, y_train_pred)\n",
    "test_rmse, test_mae, test_r2, test_mape = calculate_metrics(y_test, y_test_pred)"
   ]
  },
  {
   "cell_type": "code",
   "execution_count": 14,
   "id": "cbb78734",
   "metadata": {
    "execution": {
     "iopub.execute_input": "2024-12-10T04:52:51.834304Z",
     "iopub.status.busy": "2024-12-10T04:52:51.833935Z",
     "iopub.status.idle": "2024-12-10T04:52:51.840461Z",
     "shell.execute_reply": "2024-12-10T04:52:51.839415Z"
    },
    "papermill": {
     "duration": 0.015926,
     "end_time": "2024-12-10T04:52:51.843016",
     "exception": false,
     "start_time": "2024-12-10T04:52:51.827090",
     "status": "completed"
    },
    "tags": []
   },
   "outputs": [
    {
     "name": "stdout",
     "output_type": "stream",
     "text": [
      "\n",
      "Training Metrics:\n",
      "  RMSE: 0.576270910355401\n",
      "  MAE: 0.37624099617853934\n",
      "  R-squared: 0.9541327902490334\n",
      "  MAPE: 2.43%\n",
      "\n",
      "Testing Metrics:\n",
      "  RMSE: 0.5848926006989125\n",
      "  MAE: 0.38107156031999007\n",
      "  R-squared: 0.9525154040074598\n",
      "  MAPE: 2.47%\n"
     ]
    }
   ],
   "source": [
    "# Print the evaluation metrics\n",
    "print(\"\\nTraining Metrics:\")\n",
    "print(f\"  RMSE: {train_rmse}\")\n",
    "print(f\"  MAE: {train_mae}\")\n",
    "print(f\"  R-squared: {train_r2}\")\n",
    "print(f\"  MAPE: {train_mape:.2f}%\")\n",
    "\n",
    "print(\"\\nTesting Metrics:\")\n",
    "print(f\"  RMSE: {test_rmse}\")\n",
    "print(f\"  MAE: {test_mae}\")\n",
    "print(f\"  R-squared: {test_r2}\")\n",
    "print(f\"  MAPE: {test_mape:.2f}%\")"
   ]
  },
  {
   "cell_type": "markdown",
   "id": "29b417f8",
   "metadata": {
    "papermill": {
     "duration": 0.005826,
     "end_time": "2024-12-10T04:52:51.854661",
     "exception": false,
     "start_time": "2024-12-10T04:52:51.848835",
     "status": "completed"
    },
    "tags": []
   },
   "source": [
    "# Train with polynomial feature"
   ]
  },
  {
   "cell_type": "code",
   "execution_count": 15,
   "id": "522dba6b",
   "metadata": {
    "execution": {
     "iopub.execute_input": "2024-12-10T04:52:51.868419Z",
     "iopub.status.busy": "2024-12-10T04:52:51.868021Z",
     "iopub.status.idle": "2024-12-10T04:52:51.873437Z",
     "shell.execute_reply": "2024-12-10T04:52:51.872182Z"
    },
    "papermill": {
     "duration": 0.014832,
     "end_time": "2024-12-10T04:52:51.875633",
     "exception": false,
     "start_time": "2024-12-10T04:52:51.860801",
     "status": "completed"
    },
    "tags": []
   },
   "outputs": [],
   "source": [
    "# Add polynomial features to Linear Regression\n",
    "linear_model_with_poly = Pipeline([\n",
    "    ('poly_features', PolynomialFeatures(degree=2, include_bias=False)),\n",
    "    ('linear_regression', LinearRegression())\n",
    "])"
   ]
  },
  {
   "cell_type": "code",
   "execution_count": 16,
   "id": "cc4ec33f",
   "metadata": {
    "execution": {
     "iopub.execute_input": "2024-12-10T04:52:51.889211Z",
     "iopub.status.busy": "2024-12-10T04:52:51.888864Z",
     "iopub.status.idle": "2024-12-10T04:52:51.893800Z",
     "shell.execute_reply": "2024-12-10T04:52:51.892756Z"
    },
    "papermill": {
     "duration": 0.014192,
     "end_time": "2024-12-10T04:52:51.895758",
     "exception": false,
     "start_time": "2024-12-10T04:52:51.881566",
     "status": "completed"
    },
    "tags": []
   },
   "outputs": [],
   "source": [
    "# Stacking regressor with polynomial features\n",
    "stacking_with_poly = StackingRegressor(\n",
    "    estimators=[\n",
    "        ('linear', linear_model_with_poly),\n",
    "        ('random_forest', random_forest)\n",
    "    ],\n",
    "    final_estimator=meta_model\n",
    ")\n"
   ]
  },
  {
   "cell_type": "code",
   "execution_count": 17,
   "id": "6a49b067",
   "metadata": {
    "execution": {
     "iopub.execute_input": "2024-12-10T04:52:51.909101Z",
     "iopub.status.busy": "2024-12-10T04:52:51.908703Z",
     "iopub.status.idle": "2024-12-10T04:52:51.989288Z",
     "shell.execute_reply": "2024-12-10T04:52:51.988110Z"
    },
    "papermill": {
     "duration": 0.090274,
     "end_time": "2024-12-10T04:52:51.991842",
     "exception": false,
     "start_time": "2024-12-10T04:52:51.901568",
     "status": "completed"
    },
    "tags": []
   },
   "outputs": [],
   "source": [
    "\n",
    "# Transform the feature set for polynomial features\n",
    "poly = PolynomialFeatures(degree=2, include_bias=False)\n",
    "X_train_poly = poly.fit_transform(X_train)\n",
    "X_test_poly = poly.transform(X_test)"
   ]
  },
  {
   "cell_type": "code",
   "execution_count": 18,
   "id": "b2507bf5",
   "metadata": {
    "execution": {
     "iopub.execute_input": "2024-12-10T04:52:52.005699Z",
     "iopub.status.busy": "2024-12-10T04:52:52.005308Z",
     "iopub.status.idle": "2024-12-10T05:04:35.378567Z",
     "shell.execute_reply": "2024-12-10T05:04:35.377155Z"
    },
    "papermill": {
     "duration": 703.390199,
     "end_time": "2024-12-10T05:04:35.388208",
     "exception": false,
     "start_time": "2024-12-10T04:52:51.998009",
     "status": "completed"
    },
    "tags": []
   },
   "outputs": [
    {
     "data": {
      "text/html": [
       "<style>#sk-container-id-2 {color: black;background-color: white;}#sk-container-id-2 pre{padding: 0;}#sk-container-id-2 div.sk-toggleable {background-color: white;}#sk-container-id-2 label.sk-toggleable__label {cursor: pointer;display: block;width: 100%;margin-bottom: 0;padding: 0.3em;box-sizing: border-box;text-align: center;}#sk-container-id-2 label.sk-toggleable__label-arrow:before {content: \"▸\";float: left;margin-right: 0.25em;color: #696969;}#sk-container-id-2 label.sk-toggleable__label-arrow:hover:before {color: black;}#sk-container-id-2 div.sk-estimator:hover label.sk-toggleable__label-arrow:before {color: black;}#sk-container-id-2 div.sk-toggleable__content {max-height: 0;max-width: 0;overflow: hidden;text-align: left;background-color: #f0f8ff;}#sk-container-id-2 div.sk-toggleable__content pre {margin: 0.2em;color: black;border-radius: 0.25em;background-color: #f0f8ff;}#sk-container-id-2 input.sk-toggleable__control:checked~div.sk-toggleable__content {max-height: 200px;max-width: 100%;overflow: auto;}#sk-container-id-2 input.sk-toggleable__control:checked~label.sk-toggleable__label-arrow:before {content: \"▾\";}#sk-container-id-2 div.sk-estimator input.sk-toggleable__control:checked~label.sk-toggleable__label {background-color: #d4ebff;}#sk-container-id-2 div.sk-label input.sk-toggleable__control:checked~label.sk-toggleable__label {background-color: #d4ebff;}#sk-container-id-2 input.sk-hidden--visually {border: 0;clip: rect(1px 1px 1px 1px);clip: rect(1px, 1px, 1px, 1px);height: 1px;margin: -1px;overflow: hidden;padding: 0;position: absolute;width: 1px;}#sk-container-id-2 div.sk-estimator {font-family: monospace;background-color: #f0f8ff;border: 1px dotted black;border-radius: 0.25em;box-sizing: border-box;margin-bottom: 0.5em;}#sk-container-id-2 div.sk-estimator:hover {background-color: #d4ebff;}#sk-container-id-2 div.sk-parallel-item::after {content: \"\";width: 100%;border-bottom: 1px solid gray;flex-grow: 1;}#sk-container-id-2 div.sk-label:hover label.sk-toggleable__label {background-color: #d4ebff;}#sk-container-id-2 div.sk-serial::before {content: \"\";position: absolute;border-left: 1px solid gray;box-sizing: border-box;top: 0;bottom: 0;left: 50%;z-index: 0;}#sk-container-id-2 div.sk-serial {display: flex;flex-direction: column;align-items: center;background-color: white;padding-right: 0.2em;padding-left: 0.2em;position: relative;}#sk-container-id-2 div.sk-item {position: relative;z-index: 1;}#sk-container-id-2 div.sk-parallel {display: flex;align-items: stretch;justify-content: center;background-color: white;position: relative;}#sk-container-id-2 div.sk-item::before, #sk-container-id-2 div.sk-parallel-item::before {content: \"\";position: absolute;border-left: 1px solid gray;box-sizing: border-box;top: 0;bottom: 0;left: 50%;z-index: -1;}#sk-container-id-2 div.sk-parallel-item {display: flex;flex-direction: column;z-index: 1;position: relative;background-color: white;}#sk-container-id-2 div.sk-parallel-item:first-child::after {align-self: flex-end;width: 50%;}#sk-container-id-2 div.sk-parallel-item:last-child::after {align-self: flex-start;width: 50%;}#sk-container-id-2 div.sk-parallel-item:only-child::after {width: 0;}#sk-container-id-2 div.sk-dashed-wrapped {border: 1px dashed gray;margin: 0 0.4em 0.5em 0.4em;box-sizing: border-box;padding-bottom: 0.4em;background-color: white;}#sk-container-id-2 div.sk-label label {font-family: monospace;font-weight: bold;display: inline-block;line-height: 1.2em;}#sk-container-id-2 div.sk-label-container {text-align: center;}#sk-container-id-2 div.sk-container {/* jupyter's `normalize.less` sets `[hidden] { display: none; }` but bootstrap.min.css set `[hidden] { display: none !important; }` so we also need the `!important` here to be able to override the default hidden behavior on the sphinx rendered scikit-learn.org. See: https://github.com/scikit-learn/scikit-learn/issues/21755 */display: inline-block !important;position: relative;}#sk-container-id-2 div.sk-text-repr-fallback {display: none;}</style><div id=\"sk-container-id-2\" class=\"sk-top-container\"><div class=\"sk-text-repr-fallback\"><pre>StackingRegressor(estimators=[(&#x27;linear&#x27;,\n",
       "                               Pipeline(steps=[(&#x27;poly_features&#x27;,\n",
       "                                                PolynomialFeatures(include_bias=False)),\n",
       "                                               (&#x27;linear_regression&#x27;,\n",
       "                                                LinearRegression())])),\n",
       "                              (&#x27;random_forest&#x27;,\n",
       "                               RandomForestRegressor(random_state=42))],\n",
       "                  final_estimator=XGBRegressor(base_score=None, booster=None,\n",
       "                                               callbacks=None,\n",
       "                                               colsample_bylevel=None,\n",
       "                                               colsample_bynode=None,\n",
       "                                               colsample_bytree=...\n",
       "                                               grow_policy=None,\n",
       "                                               importance_type=None,\n",
       "                                               interaction_constraints=None,\n",
       "                                               learning_rate=None, max_bin=None,\n",
       "                                               max_cat_threshold=None,\n",
       "                                               max_cat_to_onehot=None,\n",
       "                                               max_delta_step=None,\n",
       "                                               max_depth=None, max_leaves=None,\n",
       "                                               min_child_weight=None,\n",
       "                                               missing=nan,\n",
       "                                               monotone_constraints=None,\n",
       "                                               multi_strategy=None,\n",
       "                                               n_estimators=None, n_jobs=None,\n",
       "                                               num_parallel_tree=None,\n",
       "                                               random_state=42, ...))</pre><b>In a Jupyter environment, please rerun this cell to show the HTML representation or trust the notebook. <br />On GitHub, the HTML representation is unable to render, please try loading this page with nbviewer.org.</b></div><div class=\"sk-container\" hidden><div class=\"sk-item sk-dashed-wrapped\"><div class=\"sk-label-container\"><div class=\"sk-label sk-toggleable\"><input class=\"sk-toggleable__control sk-hidden--visually\" id=\"sk-estimator-id-5\" type=\"checkbox\" ><label for=\"sk-estimator-id-5\" class=\"sk-toggleable__label sk-toggleable__label-arrow\">StackingRegressor</label><div class=\"sk-toggleable__content\"><pre>StackingRegressor(estimators=[(&#x27;linear&#x27;,\n",
       "                               Pipeline(steps=[(&#x27;poly_features&#x27;,\n",
       "                                                PolynomialFeatures(include_bias=False)),\n",
       "                                               (&#x27;linear_regression&#x27;,\n",
       "                                                LinearRegression())])),\n",
       "                              (&#x27;random_forest&#x27;,\n",
       "                               RandomForestRegressor(random_state=42))],\n",
       "                  final_estimator=XGBRegressor(base_score=None, booster=None,\n",
       "                                               callbacks=None,\n",
       "                                               colsample_bylevel=None,\n",
       "                                               colsample_bynode=None,\n",
       "                                               colsample_bytree=...\n",
       "                                               grow_policy=None,\n",
       "                                               importance_type=None,\n",
       "                                               interaction_constraints=None,\n",
       "                                               learning_rate=None, max_bin=None,\n",
       "                                               max_cat_threshold=None,\n",
       "                                               max_cat_to_onehot=None,\n",
       "                                               max_delta_step=None,\n",
       "                                               max_depth=None, max_leaves=None,\n",
       "                                               min_child_weight=None,\n",
       "                                               missing=nan,\n",
       "                                               monotone_constraints=None,\n",
       "                                               multi_strategy=None,\n",
       "                                               n_estimators=None, n_jobs=None,\n",
       "                                               num_parallel_tree=None,\n",
       "                                               random_state=42, ...))</pre></div></div></div><div class=\"sk-serial\"><div class=\"sk-item\"><div class=\"sk-parallel\"><div class=\"sk-parallel-item\"><div class=\"sk-item\"><div class=\"sk-label-container\"><div class=\"sk-label sk-toggleable\"><label>linear</label></div></div><div class=\"sk-serial\"><div class=\"sk-item\"><div class=\"sk-serial\"><div class=\"sk-item\"><div class=\"sk-estimator sk-toggleable\"><input class=\"sk-toggleable__control sk-hidden--visually\" id=\"sk-estimator-id-6\" type=\"checkbox\" ><label for=\"sk-estimator-id-6\" class=\"sk-toggleable__label sk-toggleable__label-arrow\">PolynomialFeatures</label><div class=\"sk-toggleable__content\"><pre>PolynomialFeatures(include_bias=False)</pre></div></div></div><div class=\"sk-item\"><div class=\"sk-estimator sk-toggleable\"><input class=\"sk-toggleable__control sk-hidden--visually\" id=\"sk-estimator-id-7\" type=\"checkbox\" ><label for=\"sk-estimator-id-7\" class=\"sk-toggleable__label sk-toggleable__label-arrow\">LinearRegression</label><div class=\"sk-toggleable__content\"><pre>LinearRegression()</pre></div></div></div></div></div></div></div></div><div class=\"sk-parallel-item\"><div class=\"sk-item\"><div class=\"sk-label-container\"><div class=\"sk-label sk-toggleable\"><label>random_forest</label></div></div><div class=\"sk-serial\"><div class=\"sk-item\"><div class=\"sk-estimator sk-toggleable\"><input class=\"sk-toggleable__control sk-hidden--visually\" id=\"sk-estimator-id-8\" type=\"checkbox\" ><label for=\"sk-estimator-id-8\" class=\"sk-toggleable__label sk-toggleable__label-arrow\">RandomForestRegressor</label><div class=\"sk-toggleable__content\"><pre>RandomForestRegressor(random_state=42)</pre></div></div></div></div></div></div></div></div><div class=\"sk-item\"><div class=\"sk-parallel\"><div class=\"sk-parallel-item\"><div class=\"sk-item\"><div class=\"sk-label-container\"><div class=\"sk-label sk-toggleable\"><label>final_estimator</label></div></div><div class=\"sk-serial\"><div class=\"sk-item\"><div class=\"sk-estimator sk-toggleable\"><input class=\"sk-toggleable__control sk-hidden--visually\" id=\"sk-estimator-id-9\" type=\"checkbox\" ><label for=\"sk-estimator-id-9\" class=\"sk-toggleable__label sk-toggleable__label-arrow\">XGBRegressor</label><div class=\"sk-toggleable__content\"><pre>XGBRegressor(base_score=None, booster=None, callbacks=None,\n",
       "             colsample_bylevel=None, colsample_bynode=None,\n",
       "             colsample_bytree=None, device=None, early_stopping_rounds=None,\n",
       "             enable_categorical=False, eval_metric=None, feature_types=None,\n",
       "             gamma=None, grow_policy=None, importance_type=None,\n",
       "             interaction_constraints=None, learning_rate=None, max_bin=None,\n",
       "             max_cat_threshold=None, max_cat_to_onehot=None,\n",
       "             max_delta_step=None, max_depth=None, max_leaves=None,\n",
       "             min_child_weight=None, missing=nan, monotone_constraints=None,\n",
       "             multi_strategy=None, n_estimators=None, n_jobs=None,\n",
       "             num_parallel_tree=None, random_state=42, ...)</pre></div></div></div></div></div></div></div></div></div></div></div></div>"
      ],
      "text/plain": [
       "StackingRegressor(estimators=[('linear',\n",
       "                               Pipeline(steps=[('poly_features',\n",
       "                                                PolynomialFeatures(include_bias=False)),\n",
       "                                               ('linear_regression',\n",
       "                                                LinearRegression())])),\n",
       "                              ('random_forest',\n",
       "                               RandomForestRegressor(random_state=42))],\n",
       "                  final_estimator=XGBRegressor(base_score=None, booster=None,\n",
       "                                               callbacks=None,\n",
       "                                               colsample_bylevel=None,\n",
       "                                               colsample_bynode=None,\n",
       "                                               colsample_bytree=...\n",
       "                                               grow_policy=None,\n",
       "                                               importance_type=None,\n",
       "                                               interaction_constraints=None,\n",
       "                                               learning_rate=None, max_bin=None,\n",
       "                                               max_cat_threshold=None,\n",
       "                                               max_cat_to_onehot=None,\n",
       "                                               max_delta_step=None,\n",
       "                                               max_depth=None, max_leaves=None,\n",
       "                                               min_child_weight=None,\n",
       "                                               missing=nan,\n",
       "                                               monotone_constraints=None,\n",
       "                                               multi_strategy=None,\n",
       "                                               n_estimators=None, n_jobs=None,\n",
       "                                               num_parallel_tree=None,\n",
       "                                               random_state=42, ...))"
      ]
     },
     "execution_count": 18,
     "metadata": {},
     "output_type": "execute_result"
    }
   ],
   "source": [
    "# Train the model\n",
    "stacking_with_poly.fit(X_train_poly, y_train)"
   ]
  },
  {
   "cell_type": "code",
   "execution_count": 19,
   "id": "5cce1467",
   "metadata": {
    "execution": {
     "iopub.execute_input": "2024-12-10T05:04:35.403073Z",
     "iopub.status.busy": "2024-12-10T05:04:35.402676Z",
     "iopub.status.idle": "2024-12-10T05:04:38.618826Z",
     "shell.execute_reply": "2024-12-10T05:04:38.617989Z"
    },
    "papermill": {
     "duration": 3.226512,
     "end_time": "2024-12-10T05:04:38.621534",
     "exception": false,
     "start_time": "2024-12-10T05:04:35.395022",
     "status": "completed"
    },
    "tags": []
   },
   "outputs": [],
   "source": [
    "# Make predictions\n",
    "y_train_pred = stacking_with_poly.predict(X_train_poly)\n",
    "y_test_pred = stacking_with_poly.predict(X_test_poly)"
   ]
  },
  {
   "cell_type": "code",
   "execution_count": 20,
   "id": "4fd4c0dc",
   "metadata": {
    "execution": {
     "iopub.execute_input": "2024-12-10T05:04:38.639654Z",
     "iopub.status.busy": "2024-12-10T05:04:38.639015Z",
     "iopub.status.idle": "2024-12-10T05:04:38.652011Z",
     "shell.execute_reply": "2024-12-10T05:04:38.651072Z"
    },
    "papermill": {
     "duration": 0.023996,
     "end_time": "2024-12-10T05:04:38.654501",
     "exception": false,
     "start_time": "2024-12-10T05:04:38.630505",
     "status": "completed"
    },
    "tags": []
   },
   "outputs": [],
   "source": [
    "# Calculate metrics for training and testing sets\n",
    "train_rmse, train_mae, train_r2, train_mape = calculate_metrics(y_train, y_train_pred)\n",
    "test_rmse, test_mae, test_r2, test_mape = calculate_metrics(y_test, y_test_pred)"
   ]
  },
  {
   "cell_type": "code",
   "execution_count": 21,
   "id": "70df2c90",
   "metadata": {
    "execution": {
     "iopub.execute_input": "2024-12-10T05:04:38.668957Z",
     "iopub.status.busy": "2024-12-10T05:04:38.668557Z",
     "iopub.status.idle": "2024-12-10T05:04:38.675660Z",
     "shell.execute_reply": "2024-12-10T05:04:38.674255Z"
    },
    "papermill": {
     "duration": 0.01726,
     "end_time": "2024-12-10T05:04:38.678185",
     "exception": false,
     "start_time": "2024-12-10T05:04:38.660925",
     "status": "completed"
    },
    "tags": []
   },
   "outputs": [
    {
     "name": "stdout",
     "output_type": "stream",
     "text": [
      "\n",
      "Training Metrics:\n",
      "  RMSE: 0.5791623441478592\n",
      "  MAE: 0.37895726400307517\n",
      "  R-squared: 0.9536713589580875\n",
      "  MAPE: 2.45%\n",
      "\n",
      "Testing Metrics:\n",
      "  RMSE: 0.5880880031668062\n",
      "  MAE: 0.38420703598421113\n",
      "  R-squared: 0.9519951482562911\n",
      "  MAPE: 2.50%\n"
     ]
    }
   ],
   "source": [
    "# Print the evaluation metrics\n",
    "print(\"\\nTraining Metrics:\")\n",
    "print(f\"  RMSE: {train_rmse}\")\n",
    "print(f\"  MAE: {train_mae}\")\n",
    "print(f\"  R-squared: {train_r2}\")\n",
    "print(f\"  MAPE: {train_mape:.2f}%\")\n",
    "\n",
    "print(\"\\nTesting Metrics:\")\n",
    "print(f\"  RMSE: {test_rmse}\")\n",
    "print(f\"  MAE: {test_mae}\")\n",
    "print(f\"  R-squared: {test_r2}\")\n",
    "print(f\"  MAPE: {test_mape:.2f}%\")"
   ]
  }
 ],
 "metadata": {
  "kaggle": {
   "accelerator": "none",
   "dataSources": [
    {
     "datasetId": 6266382,
     "sourceId": 10153930,
     "sourceType": "datasetVersion"
    }
   ],
   "dockerImageVersionId": 30804,
   "isGpuEnabled": false,
   "isInternetEnabled": false,
   "language": "python",
   "sourceType": "notebook"
  },
  "kernelspec": {
   "display_name": "Python 3",
   "language": "python",
   "name": "python3"
  },
  "language_info": {
   "codemirror_mode": {
    "name": "ipython",
    "version": 3
   },
   "file_extension": ".py",
   "mimetype": "text/x-python",
   "name": "python",
   "nbconvert_exporter": "python",
   "pygments_lexer": "ipython3",
   "version": "3.10.14"
  },
  "papermill": {
   "default_parameters": {},
   "duration": 787.827843,
   "end_time": "2024-12-10T05:04:39.406713",
   "environment_variables": {},
   "exception": null,
   "input_path": "__notebook__.ipynb",
   "output_path": "__notebook__.ipynb",
   "parameters": {},
   "start_time": "2024-12-10T04:51:31.578870",
   "version": "2.6.0"
  }
 },
 "nbformat": 4,
 "nbformat_minor": 5
}
