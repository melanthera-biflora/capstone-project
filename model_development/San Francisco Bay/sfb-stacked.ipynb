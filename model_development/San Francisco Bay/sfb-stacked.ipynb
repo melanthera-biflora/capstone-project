{
 "cells": [
  {
   "cell_type": "markdown",
   "id": "f5a99453",
   "metadata": {
    "papermill": {
     "duration": 0.005666,
     "end_time": "2024-12-10T15:17:58.373887",
     "exception": false,
     "start_time": "2024-12-10T15:17:58.368221",
     "status": "completed"
    },
    "tags": []
   },
   "source": [
    "# Import essential library "
   ]
  },
  {
   "cell_type": "code",
   "execution_count": 1,
   "id": "72704ac2",
   "metadata": {
    "_cell_guid": "b1076dfc-b9ad-4769-8c92-a6c4dae69d19",
    "_uuid": "8f2839f25d086af736a60e9eeb907d3b93b6e0e5",
    "execution": {
     "iopub.execute_input": "2024-12-10T15:17:58.385722Z",
     "iopub.status.busy": "2024-12-10T15:17:58.385262Z",
     "iopub.status.idle": "2024-12-10T15:18:01.501219Z",
     "shell.execute_reply": "2024-12-10T15:18:01.499963Z"
    },
    "papermill": {
     "duration": 3.125185,
     "end_time": "2024-12-10T15:18:01.504099",
     "exception": false,
     "start_time": "2024-12-10T15:17:58.378914",
     "status": "completed"
    },
    "tags": []
   },
   "outputs": [],
   "source": [
    "import numpy as np\n",
    "import pandas as pd\n",
    "from sklearn.linear_model import LinearRegression\n",
    "from sklearn.ensemble import RandomForestRegressor\n",
    "from sklearn.ensemble import StackingRegressor\n",
    "from sklearn.preprocessing import PolynomialFeatures\n",
    "from sklearn.model_selection import GridSearchCV, train_test_split\n",
    "from sklearn.pipeline import Pipeline\n",
    "from sklearn.metrics import mean_squared_error\n",
    "from xgboost import XGBRegressor\n",
    "from sklearn.metrics import mean_squared_error, mean_absolute_error, r2_score"
   ]
  },
  {
   "cell_type": "code",
   "execution_count": 2,
   "id": "0282c926",
   "metadata": {
    "execution": {
     "iopub.execute_input": "2024-12-10T15:18:01.516378Z",
     "iopub.status.busy": "2024-12-10T15:18:01.515800Z",
     "iopub.status.idle": "2024-12-10T15:18:01.569092Z",
     "shell.execute_reply": "2024-12-10T15:18:01.567442Z"
    },
    "papermill": {
     "duration": 0.062545,
     "end_time": "2024-12-10T15:18:01.571744",
     "exception": false,
     "start_time": "2024-12-10T15:18:01.509199",
     "status": "completed"
    },
    "tags": []
   },
   "outputs": [],
   "source": [
    "#Data loading\n",
    "train_data = pd.read_csv('/kaggle/input/sfb-training-test/training_set.csv')\n",
    "test_data = pd.read_csv('/kaggle/input/sfb-training-test/testing_set.csv')"
   ]
  },
  {
   "cell_type": "code",
   "execution_count": 3,
   "id": "2275b3eb",
   "metadata": {
    "execution": {
     "iopub.execute_input": "2024-12-10T15:18:01.585909Z",
     "iopub.status.busy": "2024-12-10T15:18:01.585435Z",
     "iopub.status.idle": "2024-12-10T15:18:01.614045Z",
     "shell.execute_reply": "2024-12-10T15:18:01.612819Z"
    },
    "papermill": {
     "duration": 0.038447,
     "end_time": "2024-12-10T15:18:01.616947",
     "exception": false,
     "start_time": "2024-12-10T15:18:01.578500",
     "status": "completed"
    },
    "tags": []
   },
   "outputs": [
    {
     "data": {
      "text/html": [
       "<div>\n",
       "<style scoped>\n",
       "    .dataframe tbody tr th:only-of-type {\n",
       "        vertical-align: middle;\n",
       "    }\n",
       "\n",
       "    .dataframe tbody tr th {\n",
       "        vertical-align: top;\n",
       "    }\n",
       "\n",
       "    .dataframe thead th {\n",
       "        text-align: right;\n",
       "    }\n",
       "</style>\n",
       "<table border=\"1\" class=\"dataframe\">\n",
       "  <thead>\n",
       "    <tr style=\"text-align: right;\">\n",
       "      <th></th>\n",
       "      <th>Day</th>\n",
       "      <th>Month</th>\n",
       "      <th>Year</th>\n",
       "      <th>MODIS_B01</th>\n",
       "      <th>MODIS_B02</th>\n",
       "      <th>MODIS_B03</th>\n",
       "      <th>MODIS_B04</th>\n",
       "      <th>MODIS_B05</th>\n",
       "      <th>MODIS_B06</th>\n",
       "      <th>MODIS_B07</th>\n",
       "      <th>Salinity</th>\n",
       "    </tr>\n",
       "  </thead>\n",
       "  <tbody>\n",
       "    <tr>\n",
       "      <th>0</th>\n",
       "      <td>2006</td>\n",
       "      <td>11</td>\n",
       "      <td>2006</td>\n",
       "      <td>0.033225</td>\n",
       "      <td>0.033225</td>\n",
       "      <td>0.033225</td>\n",
       "      <td>0.033225</td>\n",
       "      <td>0.033225</td>\n",
       "      <td>0.045671</td>\n",
       "      <td>0.033225</td>\n",
       "      <td>27.55</td>\n",
       "    </tr>\n",
       "    <tr>\n",
       "      <th>1</th>\n",
       "      <td>2011</td>\n",
       "      <td>10</td>\n",
       "      <td>2011</td>\n",
       "      <td>0.000000</td>\n",
       "      <td>0.000000</td>\n",
       "      <td>0.000000</td>\n",
       "      <td>0.000000</td>\n",
       "      <td>0.000000</td>\n",
       "      <td>0.006454</td>\n",
       "      <td>0.000000</td>\n",
       "      <td>27.69</td>\n",
       "    </tr>\n",
       "    <tr>\n",
       "      <th>2</th>\n",
       "      <td>2014</td>\n",
       "      <td>6</td>\n",
       "      <td>2014</td>\n",
       "      <td>0.014285</td>\n",
       "      <td>0.014285</td>\n",
       "      <td>0.014285</td>\n",
       "      <td>0.014285</td>\n",
       "      <td>0.014285</td>\n",
       "      <td>0.015042</td>\n",
       "      <td>0.014285</td>\n",
       "      <td>30.91</td>\n",
       "    </tr>\n",
       "    <tr>\n",
       "      <th>3</th>\n",
       "      <td>2015</td>\n",
       "      <td>3</td>\n",
       "      <td>2015</td>\n",
       "      <td>0.011038</td>\n",
       "      <td>0.083436</td>\n",
       "      <td>0.011038</td>\n",
       "      <td>0.011038</td>\n",
       "      <td>0.038958</td>\n",
       "      <td>0.094582</td>\n",
       "      <td>0.011038</td>\n",
       "      <td>27.86</td>\n",
       "    </tr>\n",
       "    <tr>\n",
       "      <th>4</th>\n",
       "      <td>2012</td>\n",
       "      <td>12</td>\n",
       "      <td>2012</td>\n",
       "      <td>0.008225</td>\n",
       "      <td>0.014826</td>\n",
       "      <td>0.012445</td>\n",
       "      <td>0.008225</td>\n",
       "      <td>0.014068</td>\n",
       "      <td>0.039608</td>\n",
       "      <td>0.008225</td>\n",
       "      <td>28.40</td>\n",
       "    </tr>\n",
       "  </tbody>\n",
       "</table>\n",
       "</div>"
      ],
      "text/plain": [
       "    Day  Month  Year  MODIS_B01  MODIS_B02  MODIS_B03  MODIS_B04  MODIS_B05  \\\n",
       "0  2006     11  2006   0.033225   0.033225   0.033225   0.033225   0.033225   \n",
       "1  2011     10  2011   0.000000   0.000000   0.000000   0.000000   0.000000   \n",
       "2  2014      6  2014   0.014285   0.014285   0.014285   0.014285   0.014285   \n",
       "3  2015      3  2015   0.011038   0.083436   0.011038   0.011038   0.038958   \n",
       "4  2012     12  2012   0.008225   0.014826   0.012445   0.008225   0.014068   \n",
       "\n",
       "   MODIS_B06  MODIS_B07  Salinity  \n",
       "0   0.045671   0.033225     27.55  \n",
       "1   0.006454   0.000000     27.69  \n",
       "2   0.015042   0.014285     30.91  \n",
       "3   0.094582   0.011038     27.86  \n",
       "4   0.039608   0.008225     28.40  "
      ]
     },
     "execution_count": 3,
     "metadata": {},
     "output_type": "execute_result"
    }
   ],
   "source": [
    "#Check data\n",
    "\n",
    "train_data.head()"
   ]
  },
  {
   "cell_type": "code",
   "execution_count": 4,
   "id": "a5313bda",
   "metadata": {
    "execution": {
     "iopub.execute_input": "2024-12-10T15:18:01.630253Z",
     "iopub.status.busy": "2024-12-10T15:18:01.629837Z",
     "iopub.status.idle": "2024-12-10T15:18:01.636777Z",
     "shell.execute_reply": "2024-12-10T15:18:01.635594Z"
    },
    "papermill": {
     "duration": 0.016172,
     "end_time": "2024-12-10T15:18:01.639078",
     "exception": false,
     "start_time": "2024-12-10T15:18:01.622906",
     "status": "completed"
    },
    "tags": []
   },
   "outputs": [
    {
     "data": {
      "text/plain": [
       "(5451, 11)"
      ]
     },
     "execution_count": 4,
     "metadata": {},
     "output_type": "execute_result"
    }
   ],
   "source": [
    "train_data.shape"
   ]
  },
  {
   "cell_type": "code",
   "execution_count": 5,
   "id": "c60dc4c7",
   "metadata": {
    "execution": {
     "iopub.execute_input": "2024-12-10T15:18:01.651550Z",
     "iopub.status.busy": "2024-12-10T15:18:01.651167Z",
     "iopub.status.idle": "2024-12-10T15:18:01.667685Z",
     "shell.execute_reply": "2024-12-10T15:18:01.666405Z"
    },
    "papermill": {
     "duration": 0.025521,
     "end_time": "2024-12-10T15:18:01.670006",
     "exception": false,
     "start_time": "2024-12-10T15:18:01.644485",
     "status": "completed"
    },
    "tags": []
   },
   "outputs": [
    {
     "data": {
      "text/html": [
       "<div>\n",
       "<style scoped>\n",
       "    .dataframe tbody tr th:only-of-type {\n",
       "        vertical-align: middle;\n",
       "    }\n",
       "\n",
       "    .dataframe tbody tr th {\n",
       "        vertical-align: top;\n",
       "    }\n",
       "\n",
       "    .dataframe thead th {\n",
       "        text-align: right;\n",
       "    }\n",
       "</style>\n",
       "<table border=\"1\" class=\"dataframe\">\n",
       "  <thead>\n",
       "    <tr style=\"text-align: right;\">\n",
       "      <th></th>\n",
       "      <th>Day</th>\n",
       "      <th>Month</th>\n",
       "      <th>Year</th>\n",
       "      <th>MODIS_B01</th>\n",
       "      <th>MODIS_B02</th>\n",
       "      <th>MODIS_B03</th>\n",
       "      <th>MODIS_B04</th>\n",
       "      <th>MODIS_B05</th>\n",
       "      <th>MODIS_B06</th>\n",
       "      <th>MODIS_B07</th>\n",
       "      <th>Salinity</th>\n",
       "    </tr>\n",
       "  </thead>\n",
       "  <tbody>\n",
       "    <tr>\n",
       "      <th>0</th>\n",
       "      <td>2007</td>\n",
       "      <td>10</td>\n",
       "      <td>2007</td>\n",
       "      <td>0.002689</td>\n",
       "      <td>0.002689</td>\n",
       "      <td>0.002689</td>\n",
       "      <td>0.002689</td>\n",
       "      <td>0.002689</td>\n",
       "      <td>0.002689</td>\n",
       "      <td>0.002689</td>\n",
       "      <td>31.57</td>\n",
       "    </tr>\n",
       "    <tr>\n",
       "      <th>1</th>\n",
       "      <td>2010</td>\n",
       "      <td>10</td>\n",
       "      <td>2010</td>\n",
       "      <td>0.025649</td>\n",
       "      <td>0.025649</td>\n",
       "      <td>0.025649</td>\n",
       "      <td>0.025649</td>\n",
       "      <td>0.025649</td>\n",
       "      <td>0.072186</td>\n",
       "      <td>0.025649</td>\n",
       "      <td>29.53</td>\n",
       "    </tr>\n",
       "    <tr>\n",
       "      <th>2</th>\n",
       "      <td>2003</td>\n",
       "      <td>4</td>\n",
       "      <td>2003</td>\n",
       "      <td>0.084301</td>\n",
       "      <td>0.084301</td>\n",
       "      <td>0.084301</td>\n",
       "      <td>0.084301</td>\n",
       "      <td>0.084301</td>\n",
       "      <td>0.207236</td>\n",
       "      <td>0.084301</td>\n",
       "      <td>27.36</td>\n",
       "    </tr>\n",
       "    <tr>\n",
       "      <th>3</th>\n",
       "      <td>2009</td>\n",
       "      <td>6</td>\n",
       "      <td>2009</td>\n",
       "      <td>0.000000</td>\n",
       "      <td>0.000000</td>\n",
       "      <td>0.000000</td>\n",
       "      <td>0.000000</td>\n",
       "      <td>0.000000</td>\n",
       "      <td>0.025172</td>\n",
       "      <td>0.000000</td>\n",
       "      <td>28.74</td>\n",
       "    </tr>\n",
       "    <tr>\n",
       "      <th>4</th>\n",
       "      <td>2010</td>\n",
       "      <td>10</td>\n",
       "      <td>2010</td>\n",
       "      <td>0.000000</td>\n",
       "      <td>0.013311</td>\n",
       "      <td>0.000000</td>\n",
       "      <td>0.000000</td>\n",
       "      <td>0.000000</td>\n",
       "      <td>0.082570</td>\n",
       "      <td>0.000000</td>\n",
       "      <td>30.75</td>\n",
       "    </tr>\n",
       "  </tbody>\n",
       "</table>\n",
       "</div>"
      ],
      "text/plain": [
       "    Day  Month  Year  MODIS_B01  MODIS_B02  MODIS_B03  MODIS_B04  MODIS_B05  \\\n",
       "0  2007     10  2007   0.002689   0.002689   0.002689   0.002689   0.002689   \n",
       "1  2010     10  2010   0.025649   0.025649   0.025649   0.025649   0.025649   \n",
       "2  2003      4  2003   0.084301   0.084301   0.084301   0.084301   0.084301   \n",
       "3  2009      6  2009   0.000000   0.000000   0.000000   0.000000   0.000000   \n",
       "4  2010     10  2010   0.000000   0.013311   0.000000   0.000000   0.000000   \n",
       "\n",
       "   MODIS_B06  MODIS_B07  Salinity  \n",
       "0   0.002689   0.002689     31.57  \n",
       "1   0.072186   0.025649     29.53  \n",
       "2   0.207236   0.084301     27.36  \n",
       "3   0.025172   0.000000     28.74  \n",
       "4   0.082570   0.000000     30.75  "
      ]
     },
     "execution_count": 5,
     "metadata": {},
     "output_type": "execute_result"
    }
   ],
   "source": [
    "#Check data\n",
    "\n",
    "test_data.head()"
   ]
  },
  {
   "cell_type": "code",
   "execution_count": 6,
   "id": "c202e3a1",
   "metadata": {
    "execution": {
     "iopub.execute_input": "2024-12-10T15:18:01.683278Z",
     "iopub.status.busy": "2024-12-10T15:18:01.682310Z",
     "iopub.status.idle": "2024-12-10T15:18:01.689292Z",
     "shell.execute_reply": "2024-12-10T15:18:01.688248Z"
    },
    "papermill": {
     "duration": 0.016256,
     "end_time": "2024-12-10T15:18:01.691811",
     "exception": false,
     "start_time": "2024-12-10T15:18:01.675555",
     "status": "completed"
    },
    "tags": []
   },
   "outputs": [
    {
     "data": {
      "text/plain": [
       "(1363, 11)"
      ]
     },
     "execution_count": 6,
     "metadata": {},
     "output_type": "execute_result"
    }
   ],
   "source": [
    "test_data.shape"
   ]
  },
  {
   "cell_type": "markdown",
   "id": "424bd726",
   "metadata": {
    "papermill": {
     "duration": 0.005374,
     "end_time": "2024-12-10T15:18:01.703267",
     "exception": false,
     "start_time": "2024-12-10T15:18:01.697893",
     "status": "completed"
    },
    "tags": []
   },
   "source": [
    "# Model Development"
   ]
  },
  {
   "cell_type": "code",
   "execution_count": 7,
   "id": "41add01d",
   "metadata": {
    "execution": {
     "iopub.execute_input": "2024-12-10T15:18:01.717079Z",
     "iopub.status.busy": "2024-12-10T15:18:01.716654Z",
     "iopub.status.idle": "2024-12-10T15:18:01.731431Z",
     "shell.execute_reply": "2024-12-10T15:18:01.730352Z"
    },
    "papermill": {
     "duration": 0.024246,
     "end_time": "2024-12-10T15:18:01.733799",
     "exception": false,
     "start_time": "2024-12-10T15:18:01.709553",
     "status": "completed"
    },
    "tags": []
   },
   "outputs": [],
   "source": [
    "target = 'Salinity'\n",
    "feature = ['Day','Month', 'Year','MODIS_B02', 'MODIS_B05', 'MODIS_B06']\n",
    "#Establish X_train, y_train, X_test, y_test\n",
    "X_train = train_data[feature]  \n",
    "y_train = train_data[target]  \n",
    "X_test = test_data[feature]  # Your features\n",
    "y_test = test_data[target] "
   ]
  },
  {
   "cell_type": "markdown",
   "id": "5541956c",
   "metadata": {
    "papermill": {
     "duration": 0.005406,
     "end_time": "2024-12-10T15:18:01.744957",
     "exception": false,
     "start_time": "2024-12-10T15:18:01.739551",
     "status": "completed"
    },
    "tags": []
   },
   "source": [
    "## Train without polymonial"
   ]
  },
  {
   "cell_type": "code",
   "execution_count": 8,
   "id": "29a99d0f",
   "metadata": {
    "execution": {
     "iopub.execute_input": "2024-12-10T15:18:01.758220Z",
     "iopub.status.busy": "2024-12-10T15:18:01.757806Z",
     "iopub.status.idle": "2024-12-10T15:18:01.764405Z",
     "shell.execute_reply": "2024-12-10T15:18:01.763273Z"
    },
    "papermill": {
     "duration": 0.016121,
     "end_time": "2024-12-10T15:18:01.766811",
     "exception": false,
     "start_time": "2024-12-10T15:18:01.750690",
     "status": "completed"
    },
    "tags": []
   },
   "outputs": [],
   "source": [
    "# Define a function to calculate evaluation metrics\n",
    "def calculate_metrics(y_true, y_pred):\n",
    "    rmse = np.sqrt(mean_squared_error(y_true, y_pred))\n",
    "    mae = mean_absolute_error(y_true, y_pred)\n",
    "    r2 = r2_score(y_true, y_pred)\n",
    "    mape = np.mean(np.abs((y_true - y_pred) / y_true)) * 100 if not np.any(y_true == 0) else np.nan\n",
    "    return rmse, mae, r2, mape"
   ]
  },
  {
   "cell_type": "code",
   "execution_count": 9,
   "id": "259acc52",
   "metadata": {
    "execution": {
     "iopub.execute_input": "2024-12-10T15:18:01.780497Z",
     "iopub.status.busy": "2024-12-10T15:18:01.780112Z",
     "iopub.status.idle": "2024-12-10T15:18:01.786134Z",
     "shell.execute_reply": "2024-12-10T15:18:01.785099Z"
    },
    "papermill": {
     "duration": 0.016211,
     "end_time": "2024-12-10T15:18:01.788656",
     "exception": false,
     "start_time": "2024-12-10T15:18:01.772445",
     "status": "completed"
    },
    "tags": []
   },
   "outputs": [],
   "source": [
    "# Define base models\n",
    "linear_model_no_poly = LinearRegression()\n",
    "random_forest = RandomForestRegressor(bootstrap = True, max_depth =25, min_samples_leaf= 7, \n",
    "                                      min_samples_split= 25, n_estimators=700)\n",
    "# Define meta-model\n",
    "meta_model = XGBRegressor(random_state=42, objective='reg:squarederror')"
   ]
  },
  {
   "cell_type": "code",
   "execution_count": 10,
   "id": "e9aa3a34",
   "metadata": {
    "execution": {
     "iopub.execute_input": "2024-12-10T15:18:01.804739Z",
     "iopub.status.busy": "2024-12-10T15:18:01.804282Z",
     "iopub.status.idle": "2024-12-10T15:18:01.811374Z",
     "shell.execute_reply": "2024-12-10T15:18:01.809888Z"
    },
    "papermill": {
     "duration": 0.019088,
     "end_time": "2024-12-10T15:18:01.813802",
     "exception": false,
     "start_time": "2024-12-10T15:18:01.794714",
     "status": "completed"
    },
    "tags": []
   },
   "outputs": [],
   "source": [
    "def grid_search_stacking(X_train, y_train, stacking_regressor, param_grid, cv=5):\n",
    "    grid_search = GridSearchCV(\n",
    "        estimator=stacking_regressor,\n",
    "        param_grid=param_grid,\n",
    "        cv=cv,\n",
    "        scoring='neg_mean_squared_error',\n",
    "        verbose=2,\n",
    "        n_jobs=-1\n",
    "    )\n",
    "    grid_search.fit(X_train, y_train)\n",
    "    print(f\"Best Parameters: {grid_search.best_params_}\")\n",
    "    print(f\"Best Negative MSE: {grid_search.best_score_}\")\n",
    "    return grid_search.best_estimator_"
   ]
  },
  {
   "cell_type": "code",
   "execution_count": 11,
   "id": "3c4fed11",
   "metadata": {
    "execution": {
     "iopub.execute_input": "2024-12-10T15:18:01.828461Z",
     "iopub.status.busy": "2024-12-10T15:18:01.828079Z",
     "iopub.status.idle": "2024-12-10T15:18:01.833578Z",
     "shell.execute_reply": "2024-12-10T15:18:01.832455Z"
    },
    "papermill": {
     "duration": 0.015492,
     "end_time": "2024-12-10T15:18:01.836120",
     "exception": false,
     "start_time": "2024-12-10T15:18:01.820628",
     "status": "completed"
    },
    "tags": []
   },
   "outputs": [],
   "source": [
    "# Define the parameter grid for GridSearchCV\n",
    "param_grid = {\n",
    "    'final_estimator__learning_rate': [0.01],  # Learning rate\n",
    "    'final_estimator__n_estimators': [300,500],  # Number of boosting rounds\n",
    "    'final_estimator__max_depth': [5,10],  # Maximum depth of trees\n",
    "    'final_estimator__min_child_weight': [3],  # Regularization term\n",
    "    'final_estimator__subsample': [0.7],  # Subsample ratio\n",
    "    'final_estimator__colsample_bytree': [0.7]\n",
    "}"
   ]
  },
  {
   "cell_type": "code",
   "execution_count": 12,
   "id": "9d18232b",
   "metadata": {
    "execution": {
     "iopub.execute_input": "2024-12-10T15:18:01.849731Z",
     "iopub.status.busy": "2024-12-10T15:18:01.849285Z",
     "iopub.status.idle": "2024-12-10T15:18:01.855419Z",
     "shell.execute_reply": "2024-12-10T15:18:01.854206Z"
    },
    "papermill": {
     "duration": 0.016895,
     "end_time": "2024-12-10T15:18:01.859037",
     "exception": false,
     "start_time": "2024-12-10T15:18:01.842142",
     "status": "completed"
    },
    "tags": []
   },
   "outputs": [],
   "source": [
    "# Stacking Regressor without polynomial features\n",
    "stacking_no_poly = StackingRegressor(\n",
    "    estimators=[\n",
    "        ('linear', linear_model_no_poly),\n",
    "        ('random_forest', random_forest)\n",
    "    ],\n",
    "    final_estimator=meta_model\n",
    ")"
   ]
  },
  {
   "cell_type": "code",
   "execution_count": 13,
   "id": "c3d81086",
   "metadata": {
    "execution": {
     "iopub.execute_input": "2024-12-10T15:18:01.875497Z",
     "iopub.status.busy": "2024-12-10T15:18:01.875086Z",
     "iopub.status.idle": "2024-12-10T15:23:25.265392Z",
     "shell.execute_reply": "2024-12-10T15:23:25.263946Z"
    },
    "papermill": {
     "duration": 323.408167,
     "end_time": "2024-12-10T15:23:25.273999",
     "exception": false,
     "start_time": "2024-12-10T15:18:01.865832",
     "status": "completed"
    },
    "tags": []
   },
   "outputs": [
    {
     "name": "stdout",
     "output_type": "stream",
     "text": [
      "Fitting 5 folds for each of 4 candidates, totalling 20 fits\n",
      "Best Parameters: {'final_estimator__colsample_bytree': 0.7, 'final_estimator__learning_rate': 0.01, 'final_estimator__max_depth': 5, 'final_estimator__min_child_weight': 3, 'final_estimator__n_estimators': 500, 'final_estimator__subsample': 0.7}\n",
      "Best Negative MSE: -4.753941428704466\n"
     ]
    }
   ],
   "source": [
    "# Perform GridSearchCV\n",
    "best_model_no_poly = grid_search_stacking(X_train, y_train, stacking_no_poly, param_grid)"
   ]
  },
  {
   "cell_type": "code",
   "execution_count": 14,
   "id": "f8d18e8c",
   "metadata": {
    "execution": {
     "iopub.execute_input": "2024-12-10T15:23:25.288269Z",
     "iopub.status.busy": "2024-12-10T15:23:25.287845Z",
     "iopub.status.idle": "2024-12-10T15:24:09.852688Z",
     "shell.execute_reply": "2024-12-10T15:24:09.851442Z"
    },
    "papermill": {
     "duration": 44.582438,
     "end_time": "2024-12-10T15:24:09.862580",
     "exception": false,
     "start_time": "2024-12-10T15:23:25.280142",
     "status": "completed"
    },
    "tags": []
   },
   "outputs": [
    {
     "data": {
      "text/html": [
       "<style>#sk-container-id-1 {color: black;background-color: white;}#sk-container-id-1 pre{padding: 0;}#sk-container-id-1 div.sk-toggleable {background-color: white;}#sk-container-id-1 label.sk-toggleable__label {cursor: pointer;display: block;width: 100%;margin-bottom: 0;padding: 0.3em;box-sizing: border-box;text-align: center;}#sk-container-id-1 label.sk-toggleable__label-arrow:before {content: \"▸\";float: left;margin-right: 0.25em;color: #696969;}#sk-container-id-1 label.sk-toggleable__label-arrow:hover:before {color: black;}#sk-container-id-1 div.sk-estimator:hover label.sk-toggleable__label-arrow:before {color: black;}#sk-container-id-1 div.sk-toggleable__content {max-height: 0;max-width: 0;overflow: hidden;text-align: left;background-color: #f0f8ff;}#sk-container-id-1 div.sk-toggleable__content pre {margin: 0.2em;color: black;border-radius: 0.25em;background-color: #f0f8ff;}#sk-container-id-1 input.sk-toggleable__control:checked~div.sk-toggleable__content {max-height: 200px;max-width: 100%;overflow: auto;}#sk-container-id-1 input.sk-toggleable__control:checked~label.sk-toggleable__label-arrow:before {content: \"▾\";}#sk-container-id-1 div.sk-estimator input.sk-toggleable__control:checked~label.sk-toggleable__label {background-color: #d4ebff;}#sk-container-id-1 div.sk-label input.sk-toggleable__control:checked~label.sk-toggleable__label {background-color: #d4ebff;}#sk-container-id-1 input.sk-hidden--visually {border: 0;clip: rect(1px 1px 1px 1px);clip: rect(1px, 1px, 1px, 1px);height: 1px;margin: -1px;overflow: hidden;padding: 0;position: absolute;width: 1px;}#sk-container-id-1 div.sk-estimator {font-family: monospace;background-color: #f0f8ff;border: 1px dotted black;border-radius: 0.25em;box-sizing: border-box;margin-bottom: 0.5em;}#sk-container-id-1 div.sk-estimator:hover {background-color: #d4ebff;}#sk-container-id-1 div.sk-parallel-item::after {content: \"\";width: 100%;border-bottom: 1px solid gray;flex-grow: 1;}#sk-container-id-1 div.sk-label:hover label.sk-toggleable__label {background-color: #d4ebff;}#sk-container-id-1 div.sk-serial::before {content: \"\";position: absolute;border-left: 1px solid gray;box-sizing: border-box;top: 0;bottom: 0;left: 50%;z-index: 0;}#sk-container-id-1 div.sk-serial {display: flex;flex-direction: column;align-items: center;background-color: white;padding-right: 0.2em;padding-left: 0.2em;position: relative;}#sk-container-id-1 div.sk-item {position: relative;z-index: 1;}#sk-container-id-1 div.sk-parallel {display: flex;align-items: stretch;justify-content: center;background-color: white;position: relative;}#sk-container-id-1 div.sk-item::before, #sk-container-id-1 div.sk-parallel-item::before {content: \"\";position: absolute;border-left: 1px solid gray;box-sizing: border-box;top: 0;bottom: 0;left: 50%;z-index: -1;}#sk-container-id-1 div.sk-parallel-item {display: flex;flex-direction: column;z-index: 1;position: relative;background-color: white;}#sk-container-id-1 div.sk-parallel-item:first-child::after {align-self: flex-end;width: 50%;}#sk-container-id-1 div.sk-parallel-item:last-child::after {align-self: flex-start;width: 50%;}#sk-container-id-1 div.sk-parallel-item:only-child::after {width: 0;}#sk-container-id-1 div.sk-dashed-wrapped {border: 1px dashed gray;margin: 0 0.4em 0.5em 0.4em;box-sizing: border-box;padding-bottom: 0.4em;background-color: white;}#sk-container-id-1 div.sk-label label {font-family: monospace;font-weight: bold;display: inline-block;line-height: 1.2em;}#sk-container-id-1 div.sk-label-container {text-align: center;}#sk-container-id-1 div.sk-container {/* jupyter's `normalize.less` sets `[hidden] { display: none; }` but bootstrap.min.css set `[hidden] { display: none !important; }` so we also need the `!important` here to be able to override the default hidden behavior on the sphinx rendered scikit-learn.org. See: https://github.com/scikit-learn/scikit-learn/issues/21755 */display: inline-block !important;position: relative;}#sk-container-id-1 div.sk-text-repr-fallback {display: none;}</style><div id=\"sk-container-id-1\" class=\"sk-top-container\"><div class=\"sk-text-repr-fallback\"><pre>StackingRegressor(estimators=[(&#x27;linear&#x27;, LinearRegression()),\n",
       "                              (&#x27;random_forest&#x27;,\n",
       "                               RandomForestRegressor(max_depth=25,\n",
       "                                                     min_samples_leaf=7,\n",
       "                                                     min_samples_split=25,\n",
       "                                                     n_estimators=700))],\n",
       "                  final_estimator=XGBRegressor(base_score=None, booster=None,\n",
       "                                               callbacks=None,\n",
       "                                               colsample_bylevel=None,\n",
       "                                               colsample_bynode=None,\n",
       "                                               colsample_bytree=0.7,\n",
       "                                               device=None,\n",
       "                                               early_stopping_rounds=None,...\n",
       "                                               feature_types=None, gamma=None,\n",
       "                                               grow_policy=None,\n",
       "                                               importance_type=None,\n",
       "                                               interaction_constraints=None,\n",
       "                                               learning_rate=0.01, max_bin=None,\n",
       "                                               max_cat_threshold=None,\n",
       "                                               max_cat_to_onehot=None,\n",
       "                                               max_delta_step=None, max_depth=5,\n",
       "                                               max_leaves=None,\n",
       "                                               min_child_weight=3, missing=nan,\n",
       "                                               monotone_constraints=None,\n",
       "                                               multi_strategy=None,\n",
       "                                               n_estimators=500, n_jobs=None,\n",
       "                                               num_parallel_tree=None,\n",
       "                                               random_state=42, ...))</pre><b>In a Jupyter environment, please rerun this cell to show the HTML representation or trust the notebook. <br />On GitHub, the HTML representation is unable to render, please try loading this page with nbviewer.org.</b></div><div class=\"sk-container\" hidden><div class=\"sk-item sk-dashed-wrapped\"><div class=\"sk-label-container\"><div class=\"sk-label sk-toggleable\"><input class=\"sk-toggleable__control sk-hidden--visually\" id=\"sk-estimator-id-1\" type=\"checkbox\" ><label for=\"sk-estimator-id-1\" class=\"sk-toggleable__label sk-toggleable__label-arrow\">StackingRegressor</label><div class=\"sk-toggleable__content\"><pre>StackingRegressor(estimators=[(&#x27;linear&#x27;, LinearRegression()),\n",
       "                              (&#x27;random_forest&#x27;,\n",
       "                               RandomForestRegressor(max_depth=25,\n",
       "                                                     min_samples_leaf=7,\n",
       "                                                     min_samples_split=25,\n",
       "                                                     n_estimators=700))],\n",
       "                  final_estimator=XGBRegressor(base_score=None, booster=None,\n",
       "                                               callbacks=None,\n",
       "                                               colsample_bylevel=None,\n",
       "                                               colsample_bynode=None,\n",
       "                                               colsample_bytree=0.7,\n",
       "                                               device=None,\n",
       "                                               early_stopping_rounds=None,...\n",
       "                                               feature_types=None, gamma=None,\n",
       "                                               grow_policy=None,\n",
       "                                               importance_type=None,\n",
       "                                               interaction_constraints=None,\n",
       "                                               learning_rate=0.01, max_bin=None,\n",
       "                                               max_cat_threshold=None,\n",
       "                                               max_cat_to_onehot=None,\n",
       "                                               max_delta_step=None, max_depth=5,\n",
       "                                               max_leaves=None,\n",
       "                                               min_child_weight=3, missing=nan,\n",
       "                                               monotone_constraints=None,\n",
       "                                               multi_strategy=None,\n",
       "                                               n_estimators=500, n_jobs=None,\n",
       "                                               num_parallel_tree=None,\n",
       "                                               random_state=42, ...))</pre></div></div></div><div class=\"sk-serial\"><div class=\"sk-item\"><div class=\"sk-parallel\"><div class=\"sk-parallel-item\"><div class=\"sk-item\"><div class=\"sk-label-container\"><div class=\"sk-label sk-toggleable\"><label>linear</label></div></div><div class=\"sk-serial\"><div class=\"sk-item\"><div class=\"sk-estimator sk-toggleable\"><input class=\"sk-toggleable__control sk-hidden--visually\" id=\"sk-estimator-id-2\" type=\"checkbox\" ><label for=\"sk-estimator-id-2\" class=\"sk-toggleable__label sk-toggleable__label-arrow\">LinearRegression</label><div class=\"sk-toggleable__content\"><pre>LinearRegression()</pre></div></div></div></div></div></div><div class=\"sk-parallel-item\"><div class=\"sk-item\"><div class=\"sk-label-container\"><div class=\"sk-label sk-toggleable\"><label>random_forest</label></div></div><div class=\"sk-serial\"><div class=\"sk-item\"><div class=\"sk-estimator sk-toggleable\"><input class=\"sk-toggleable__control sk-hidden--visually\" id=\"sk-estimator-id-3\" type=\"checkbox\" ><label for=\"sk-estimator-id-3\" class=\"sk-toggleable__label sk-toggleable__label-arrow\">RandomForestRegressor</label><div class=\"sk-toggleable__content\"><pre>RandomForestRegressor(max_depth=25, min_samples_leaf=7, min_samples_split=25,\n",
       "                      n_estimators=700)</pre></div></div></div></div></div></div></div></div><div class=\"sk-item\"><div class=\"sk-parallel\"><div class=\"sk-parallel-item\"><div class=\"sk-item\"><div class=\"sk-label-container\"><div class=\"sk-label sk-toggleable\"><label>final_estimator</label></div></div><div class=\"sk-serial\"><div class=\"sk-item\"><div class=\"sk-estimator sk-toggleable\"><input class=\"sk-toggleable__control sk-hidden--visually\" id=\"sk-estimator-id-4\" type=\"checkbox\" ><label for=\"sk-estimator-id-4\" class=\"sk-toggleable__label sk-toggleable__label-arrow\">XGBRegressor</label><div class=\"sk-toggleable__content\"><pre>XGBRegressor(base_score=None, booster=None, callbacks=None,\n",
       "             colsample_bylevel=None, colsample_bynode=None,\n",
       "             colsample_bytree=0.7, device=None, early_stopping_rounds=None,\n",
       "             enable_categorical=False, eval_metric=None, feature_types=None,\n",
       "             gamma=None, grow_policy=None, importance_type=None,\n",
       "             interaction_constraints=None, learning_rate=0.01, max_bin=None,\n",
       "             max_cat_threshold=None, max_cat_to_onehot=None,\n",
       "             max_delta_step=None, max_depth=5, max_leaves=None,\n",
       "             min_child_weight=3, missing=nan, monotone_constraints=None,\n",
       "             multi_strategy=None, n_estimators=500, n_jobs=None,\n",
       "             num_parallel_tree=None, random_state=42, ...)</pre></div></div></div></div></div></div></div></div></div></div></div></div>"
      ],
      "text/plain": [
       "StackingRegressor(estimators=[('linear', LinearRegression()),\n",
       "                              ('random_forest',\n",
       "                               RandomForestRegressor(max_depth=25,\n",
       "                                                     min_samples_leaf=7,\n",
       "                                                     min_samples_split=25,\n",
       "                                                     n_estimators=700))],\n",
       "                  final_estimator=XGBRegressor(base_score=None, booster=None,\n",
       "                                               callbacks=None,\n",
       "                                               colsample_bylevel=None,\n",
       "                                               colsample_bynode=None,\n",
       "                                               colsample_bytree=0.7,\n",
       "                                               device=None,\n",
       "                                               early_stopping_rounds=None,...\n",
       "                                               feature_types=None, gamma=None,\n",
       "                                               grow_policy=None,\n",
       "                                               importance_type=None,\n",
       "                                               interaction_constraints=None,\n",
       "                                               learning_rate=0.01, max_bin=None,\n",
       "                                               max_cat_threshold=None,\n",
       "                                               max_cat_to_onehot=None,\n",
       "                                               max_delta_step=None, max_depth=5,\n",
       "                                               max_leaves=None,\n",
       "                                               min_child_weight=3, missing=nan,\n",
       "                                               monotone_constraints=None,\n",
       "                                               multi_strategy=None,\n",
       "                                               n_estimators=500, n_jobs=None,\n",
       "                                               num_parallel_tree=None,\n",
       "                                               random_state=42, ...))"
      ]
     },
     "execution_count": 14,
     "metadata": {},
     "output_type": "execute_result"
    }
   ],
   "source": [
    "# Train the model\n",
    "best_model_no_poly.fit(X_train, y_train)"
   ]
  },
  {
   "cell_type": "code",
   "execution_count": 15,
   "id": "9896980b",
   "metadata": {
    "execution": {
     "iopub.execute_input": "2024-12-10T15:24:09.880506Z",
     "iopub.status.busy": "2024-12-10T15:24:09.879417Z",
     "iopub.status.idle": "2024-12-10T15:24:10.448454Z",
     "shell.execute_reply": "2024-12-10T15:24:10.447600Z"
    },
    "papermill": {
     "duration": 0.580268,
     "end_time": "2024-12-10T15:24:10.451333",
     "exception": false,
     "start_time": "2024-12-10T15:24:09.871065",
     "status": "completed"
    },
    "tags": []
   },
   "outputs": [],
   "source": [
    "# Make predictions\n",
    "y_train_pred = best_model_no_poly.predict(X_train)\n",
    "y_test_pred = best_model_no_poly.predict(X_test)"
   ]
  },
  {
   "cell_type": "code",
   "execution_count": 16,
   "id": "5f953927",
   "metadata": {
    "execution": {
     "iopub.execute_input": "2024-12-10T15:24:10.466452Z",
     "iopub.status.busy": "2024-12-10T15:24:10.466025Z",
     "iopub.status.idle": "2024-12-10T15:24:10.479719Z",
     "shell.execute_reply": "2024-12-10T15:24:10.478168Z"
    },
    "papermill": {
     "duration": 0.024177,
     "end_time": "2024-12-10T15:24:10.482122",
     "exception": false,
     "start_time": "2024-12-10T15:24:10.457945",
     "status": "completed"
    },
    "tags": []
   },
   "outputs": [],
   "source": [
    "# Calculate metrics for training and testing sets\n",
    "train_rmse, train_mae, train_r2, train_mape = calculate_metrics(y_train, y_train_pred)\n",
    "test_rmse, test_mae, test_r2, test_mape = calculate_metrics(y_test, y_test_pred)"
   ]
  },
  {
   "cell_type": "code",
   "execution_count": 17,
   "id": "765c71a9",
   "metadata": {
    "execution": {
     "iopub.execute_input": "2024-12-10T15:24:10.497333Z",
     "iopub.status.busy": "2024-12-10T15:24:10.496950Z",
     "iopub.status.idle": "2024-12-10T15:24:10.503938Z",
     "shell.execute_reply": "2024-12-10T15:24:10.502557Z"
    },
    "papermill": {
     "duration": 0.01737,
     "end_time": "2024-12-10T15:24:10.506498",
     "exception": false,
     "start_time": "2024-12-10T15:24:10.489128",
     "status": "completed"
    },
    "tags": []
   },
   "outputs": [
    {
     "name": "stdout",
     "output_type": "stream",
     "text": [
      "\n",
      "Training Metrics:\n",
      "  RMSE: 1.9374387144580527\n",
      "  MAE: 1.3428056440841516\n",
      "  R-squared: 0.7519854633863383\n",
      "  MAPE: 5.43%\n",
      "\n",
      "Testing Metrics:\n",
      "  RMSE: 2.057126207435509\n",
      "  MAE: 1.4527693765126686\n",
      "  R-squared: 0.7238460408508318\n",
      "  MAPE: 5.79%\n"
     ]
    }
   ],
   "source": [
    "# Print the evaluation metrics\n",
    "print(\"\\nTraining Metrics:\")\n",
    "print(f\"  RMSE: {train_rmse}\")\n",
    "print(f\"  MAE: {train_mae}\")\n",
    "print(f\"  R-squared: {train_r2}\")\n",
    "print(f\"  MAPE: {train_mape:.2f}%\")\n",
    "\n",
    "print(\"\\nTesting Metrics:\")\n",
    "print(f\"  RMSE: {test_rmse}\")\n",
    "print(f\"  MAE: {test_mae}\")\n",
    "print(f\"  R-squared: {test_r2}\")\n",
    "print(f\"  MAPE: {test_mape:.2f}%\")"
   ]
  },
  {
   "cell_type": "markdown",
   "id": "5c7c9cbe",
   "metadata": {
    "papermill": {
     "duration": 0.006383,
     "end_time": "2024-12-10T15:24:10.519647",
     "exception": false,
     "start_time": "2024-12-10T15:24:10.513264",
     "status": "completed"
    },
    "tags": []
   },
   "source": [
    "# Train with polynomial feature"
   ]
  },
  {
   "cell_type": "code",
   "execution_count": 18,
   "id": "1eac9c84",
   "metadata": {
    "execution": {
     "iopub.execute_input": "2024-12-10T15:24:10.534602Z",
     "iopub.status.busy": "2024-12-10T15:24:10.534208Z",
     "iopub.status.idle": "2024-12-10T15:24:10.539541Z",
     "shell.execute_reply": "2024-12-10T15:24:10.538610Z"
    },
    "papermill": {
     "duration": 0.01548,
     "end_time": "2024-12-10T15:24:10.541770",
     "exception": false,
     "start_time": "2024-12-10T15:24:10.526290",
     "status": "completed"
    },
    "tags": []
   },
   "outputs": [],
   "source": [
    "# Stacking Regressor with polynomial features\n",
    "linear_model_with_poly = Pipeline([\n",
    "    ('poly_features', PolynomialFeatures(degree=2, include_bias=False)),\n",
    "    ('linear_regression', LinearRegression())\n",
    "])"
   ]
  },
  {
   "cell_type": "code",
   "execution_count": 19,
   "id": "ad2371dc",
   "metadata": {
    "execution": {
     "iopub.execute_input": "2024-12-10T15:24:10.557103Z",
     "iopub.status.busy": "2024-12-10T15:24:10.556621Z",
     "iopub.status.idle": "2024-12-10T15:24:10.562309Z",
     "shell.execute_reply": "2024-12-10T15:24:10.561063Z"
    },
    "papermill": {
     "duration": 0.01638,
     "end_time": "2024-12-10T15:24:10.564852",
     "exception": false,
     "start_time": "2024-12-10T15:24:10.548472",
     "status": "completed"
    },
    "tags": []
   },
   "outputs": [],
   "source": [
    "stacking_with_poly = StackingRegressor(\n",
    "    estimators=[\n",
    "        ('linear', linear_model_with_poly),\n",
    "        ('random_forest', random_forest)\n",
    "    ],\n",
    "    final_estimator=meta_model\n",
    ")"
   ]
  },
  {
   "cell_type": "code",
   "execution_count": 20,
   "id": "e89fb255",
   "metadata": {
    "execution": {
     "iopub.execute_input": "2024-12-10T15:24:10.579814Z",
     "iopub.status.busy": "2024-12-10T15:24:10.579377Z",
     "iopub.status.idle": "2024-12-10T15:24:10.593439Z",
     "shell.execute_reply": "2024-12-10T15:24:10.592211Z"
    },
    "papermill": {
     "duration": 0.024368,
     "end_time": "2024-12-10T15:24:10.595929",
     "exception": false,
     "start_time": "2024-12-10T15:24:10.571561",
     "status": "completed"
    },
    "tags": []
   },
   "outputs": [],
   "source": [
    "# Transform the feature set for polynomial features\n",
    "poly = PolynomialFeatures(degree=2, include_bias=False)\n",
    "X_train_poly = poly.fit_transform(X_train)\n",
    "X_test_poly = poly.transform(X_test)"
   ]
  },
  {
   "cell_type": "code",
   "execution_count": 21,
   "id": "720c78b9",
   "metadata": {
    "execution": {
     "iopub.execute_input": "2024-12-10T15:24:10.611388Z",
     "iopub.status.busy": "2024-12-10T15:24:10.610972Z",
     "iopub.status.idle": "2024-12-10T15:46:24.879109Z",
     "shell.execute_reply": "2024-12-10T15:46:24.877492Z"
    },
    "papermill": {
     "duration": 1334.285081,
     "end_time": "2024-12-10T15:46:24.887876",
     "exception": false,
     "start_time": "2024-12-10T15:24:10.602795",
     "status": "completed"
    },
    "tags": []
   },
   "outputs": [
    {
     "name": "stdout",
     "output_type": "stream",
     "text": [
      "Fitting 5 folds for each of 4 candidates, totalling 20 fits\n",
      "Best Parameters: {'final_estimator__colsample_bytree': 0.7, 'final_estimator__learning_rate': 0.01, 'final_estimator__max_depth': 5, 'final_estimator__min_child_weight': 3, 'final_estimator__n_estimators': 500, 'final_estimator__subsample': 0.7}\n",
      "Best Negative MSE: -4.706115286849649\n"
     ]
    }
   ],
   "source": [
    "# Perform GridSearchCV\n",
    "best_model_with_poly = grid_search_stacking(X_train_poly, y_train, stacking_with_poly, param_grid)"
   ]
  },
  {
   "cell_type": "code",
   "execution_count": 22,
   "id": "56836256",
   "metadata": {
    "execution": {
     "iopub.execute_input": "2024-12-10T15:46:24.903595Z",
     "iopub.status.busy": "2024-12-10T15:46:24.903155Z",
     "iopub.status.idle": "2024-12-10T15:49:37.778305Z",
     "shell.execute_reply": "2024-12-10T15:49:37.776847Z"
    },
    "papermill": {
     "duration": 192.893968,
     "end_time": "2024-12-10T15:49:37.788649",
     "exception": false,
     "start_time": "2024-12-10T15:46:24.894681",
     "status": "completed"
    },
    "tags": []
   },
   "outputs": [
    {
     "name": "stdout",
     "output_type": "stream",
     "text": [
      "[CV] END final_estimator__colsample_bytree=0.7, final_estimator__learning_rate=0.01, final_estimator__max_depth=5, final_estimator__min_child_weight=3, final_estimator__n_estimators=300, final_estimator__subsample=0.7; total time=  54.3s\n",
      "[CV] END final_estimator__colsample_bytree=0.7, final_estimator__learning_rate=0.01, final_estimator__max_depth=5, final_estimator__min_child_weight=3, final_estimator__n_estimators=500, final_estimator__subsample=0.7; total time=  54.6s\n",
      "[CV] END final_estimator__colsample_bytree=0.7, final_estimator__learning_rate=0.01, final_estimator__max_depth=5, final_estimator__min_child_weight=3, final_estimator__n_estimators=500, final_estimator__subsample=0.7; total time=  54.7s\n",
      "[CV] END final_estimator__colsample_bytree=0.7, final_estimator__learning_rate=0.01, final_estimator__max_depth=10, final_estimator__min_child_weight=3, final_estimator__n_estimators=300, final_estimator__subsample=0.7; total time=  55.1s\n",
      "[CV] END final_estimator__colsample_bytree=0.7, final_estimator__learning_rate=0.01, final_estimator__max_depth=10, final_estimator__min_child_weight=3, final_estimator__n_estimators=500, final_estimator__subsample=0.7; total time=  54.9s\n",
      "[CV] END final_estimator__colsample_bytree=0.7, final_estimator__learning_rate=0.01, final_estimator__max_depth=5, final_estimator__min_child_weight=3, final_estimator__n_estimators=300, final_estimator__subsample=0.7; total time= 3.8min\n",
      "[CV] END final_estimator__colsample_bytree=0.7, final_estimator__learning_rate=0.01, final_estimator__max_depth=5, final_estimator__min_child_weight=3, final_estimator__n_estimators=500, final_estimator__subsample=0.7; total time= 3.8min\n",
      "[CV] END final_estimator__colsample_bytree=0.7, final_estimator__learning_rate=0.01, final_estimator__max_depth=5, final_estimator__min_child_weight=3, final_estimator__n_estimators=500, final_estimator__subsample=0.7; total time= 3.8min\n",
      "[CV] END final_estimator__colsample_bytree=0.7, final_estimator__learning_rate=0.01, final_estimator__max_depth=10, final_estimator__min_child_weight=3, final_estimator__n_estimators=300, final_estimator__subsample=0.7; total time= 3.7min\n",
      "[CV] END final_estimator__colsample_bytree=0.7, final_estimator__learning_rate=0.01, final_estimator__max_depth=10, final_estimator__min_child_weight=3, final_estimator__n_estimators=500, final_estimator__subsample=0.7; total time= 3.8min\n",
      "[CV] END final_estimator__colsample_bytree=0.7, final_estimator__learning_rate=0.01, final_estimator__max_depth=5, final_estimator__min_child_weight=3, final_estimator__n_estimators=300, final_estimator__subsample=0.7; total time=  54.6s\n",
      "[CV] END final_estimator__colsample_bytree=0.7, final_estimator__learning_rate=0.01, final_estimator__max_depth=5, final_estimator__min_child_weight=3, final_estimator__n_estimators=500, final_estimator__subsample=0.7; total time=  55.3s\n",
      "[CV] END final_estimator__colsample_bytree=0.7, final_estimator__learning_rate=0.01, final_estimator__max_depth=10, final_estimator__min_child_weight=3, final_estimator__n_estimators=300, final_estimator__subsample=0.7; total time=  55.1s\n",
      "[CV] END final_estimator__colsample_bytree=0.7, final_estimator__learning_rate=0.01, final_estimator__max_depth=10, final_estimator__min_child_weight=3, final_estimator__n_estimators=300, final_estimator__subsample=0.7; total time=  54.2s\n",
      "[CV] END final_estimator__colsample_bytree=0.7, final_estimator__learning_rate=0.01, final_estimator__max_depth=10, final_estimator__min_child_weight=3, final_estimator__n_estimators=500, final_estimator__subsample=0.7; total time=  56.3s\n",
      "[CV] END final_estimator__colsample_bytree=0.7, final_estimator__learning_rate=0.01, final_estimator__max_depth=5, final_estimator__min_child_weight=3, final_estimator__n_estimators=300, final_estimator__subsample=0.7; total time= 3.9min\n",
      "[CV] END final_estimator__colsample_bytree=0.7, final_estimator__learning_rate=0.01, final_estimator__max_depth=5, final_estimator__min_child_weight=3, final_estimator__n_estimators=500, final_estimator__subsample=0.7; total time= 3.9min\n",
      "[CV] END final_estimator__colsample_bytree=0.7, final_estimator__learning_rate=0.01, final_estimator__max_depth=10, final_estimator__min_child_weight=3, final_estimator__n_estimators=300, final_estimator__subsample=0.7; total time= 3.8min\n",
      "[CV] END final_estimator__colsample_bytree=0.7, final_estimator__learning_rate=0.01, final_estimator__max_depth=10, final_estimator__min_child_weight=3, final_estimator__n_estimators=500, final_estimator__subsample=0.7; total time= 3.7min\n",
      "[CV] END final_estimator__colsample_bytree=0.7, final_estimator__learning_rate=0.01, final_estimator__max_depth=10, final_estimator__min_child_weight=3, final_estimator__n_estimators=500, final_estimator__subsample=0.7; total time= 3.7min\n",
      "[CV] END final_estimator__colsample_bytree=0.7, final_estimator__learning_rate=0.01, final_estimator__max_depth=5, final_estimator__min_child_weight=3, final_estimator__n_estimators=300, final_estimator__subsample=0.7; total time=  54.7s\n",
      "[CV] END final_estimator__colsample_bytree=0.7, final_estimator__learning_rate=0.01, final_estimator__max_depth=5, final_estimator__min_child_weight=3, final_estimator__n_estimators=500, final_estimator__subsample=0.7; total time=  55.8s\n",
      "[CV] END final_estimator__colsample_bytree=0.7, final_estimator__learning_rate=0.01, final_estimator__max_depth=10, final_estimator__min_child_weight=3, final_estimator__n_estimators=300, final_estimator__subsample=0.7; total time=  55.6s\n",
      "[CV] END final_estimator__colsample_bytree=0.7, final_estimator__learning_rate=0.01, final_estimator__max_depth=10, final_estimator__min_child_weight=3, final_estimator__n_estimators=500, final_estimator__subsample=0.7; total time=  55.3s\n",
      "[CV] END final_estimator__colsample_bytree=0.7, final_estimator__learning_rate=0.01, final_estimator__max_depth=10, final_estimator__min_child_weight=3, final_estimator__n_estimators=500, final_estimator__subsample=0.7; total time=  54.6s\n",
      "[CV] END final_estimator__colsample_bytree=0.7, final_estimator__learning_rate=0.01, final_estimator__max_depth=5, final_estimator__min_child_weight=3, final_estimator__n_estimators=300, final_estimator__subsample=0.7; total time= 3.8min\n",
      "[CV] END final_estimator__colsample_bytree=0.7, final_estimator__learning_rate=0.01, final_estimator__max_depth=5, final_estimator__min_child_weight=3, final_estimator__n_estimators=300, final_estimator__subsample=0.7; total time= 3.8min\n",
      "[CV] END final_estimator__colsample_bytree=0.7, final_estimator__learning_rate=0.01, final_estimator__max_depth=5, final_estimator__min_child_weight=3, final_estimator__n_estimators=500, final_estimator__subsample=0.7; total time= 3.8min\n",
      "[CV] END final_estimator__colsample_bytree=0.7, final_estimator__learning_rate=0.01, final_estimator__max_depth=10, final_estimator__min_child_weight=3, final_estimator__n_estimators=300, final_estimator__subsample=0.7; total time= 3.9min\n",
      "[CV] END final_estimator__colsample_bytree=0.7, final_estimator__learning_rate=0.01, final_estimator__max_depth=10, final_estimator__min_child_weight=3, final_estimator__n_estimators=500, final_estimator__subsample=0.7; total time= 3.8min\n",
      "[CV] END final_estimator__colsample_bytree=0.7, final_estimator__learning_rate=0.01, final_estimator__max_depth=5, final_estimator__min_child_weight=3, final_estimator__n_estimators=300, final_estimator__subsample=0.7; total time=  54.2s\n",
      "[CV] END final_estimator__colsample_bytree=0.7, final_estimator__learning_rate=0.01, final_estimator__max_depth=5, final_estimator__min_child_weight=3, final_estimator__n_estimators=300, final_estimator__subsample=0.7; total time=  55.1s\n",
      "[CV] END final_estimator__colsample_bytree=0.7, final_estimator__learning_rate=0.01, final_estimator__max_depth=5, final_estimator__min_child_weight=3, final_estimator__n_estimators=500, final_estimator__subsample=0.7; total time=  55.8s\n",
      "[CV] END final_estimator__colsample_bytree=0.7, final_estimator__learning_rate=0.01, final_estimator__max_depth=10, final_estimator__min_child_weight=3, final_estimator__n_estimators=300, final_estimator__subsample=0.7; total time=  54.5s\n",
      "[CV] END final_estimator__colsample_bytree=0.7, final_estimator__learning_rate=0.01, final_estimator__max_depth=10, final_estimator__min_child_weight=3, final_estimator__n_estimators=500, final_estimator__subsample=0.7; total time=  56.1s\n",
      "[CV] END final_estimator__colsample_bytree=0.7, final_estimator__learning_rate=0.01, final_estimator__max_depth=5, final_estimator__min_child_weight=3, final_estimator__n_estimators=300, final_estimator__subsample=0.7; total time= 3.8min\n",
      "[CV] END final_estimator__colsample_bytree=0.7, final_estimator__learning_rate=0.01, final_estimator__max_depth=5, final_estimator__min_child_weight=3, final_estimator__n_estimators=500, final_estimator__subsample=0.7; total time= 3.8min\n",
      "[CV] END final_estimator__colsample_bytree=0.7, final_estimator__learning_rate=0.01, final_estimator__max_depth=10, final_estimator__min_child_weight=3, final_estimator__n_estimators=300, final_estimator__subsample=0.7; total time= 3.8min\n",
      "[CV] END final_estimator__colsample_bytree=0.7, final_estimator__learning_rate=0.01, final_estimator__max_depth=10, final_estimator__min_child_weight=3, final_estimator__n_estimators=300, final_estimator__subsample=0.7; total time= 3.8min\n",
      "[CV] END final_estimator__colsample_bytree=0.7, final_estimator__learning_rate=0.01, final_estimator__max_depth=10, final_estimator__min_child_weight=3, final_estimator__n_estimators=500, final_estimator__subsample=0.7; total time= 3.9min\n"
     ]
    },
    {
     "data": {
      "text/html": [
       "<style>#sk-container-id-2 {color: black;background-color: white;}#sk-container-id-2 pre{padding: 0;}#sk-container-id-2 div.sk-toggleable {background-color: white;}#sk-container-id-2 label.sk-toggleable__label {cursor: pointer;display: block;width: 100%;margin-bottom: 0;padding: 0.3em;box-sizing: border-box;text-align: center;}#sk-container-id-2 label.sk-toggleable__label-arrow:before {content: \"▸\";float: left;margin-right: 0.25em;color: #696969;}#sk-container-id-2 label.sk-toggleable__label-arrow:hover:before {color: black;}#sk-container-id-2 div.sk-estimator:hover label.sk-toggleable__label-arrow:before {color: black;}#sk-container-id-2 div.sk-toggleable__content {max-height: 0;max-width: 0;overflow: hidden;text-align: left;background-color: #f0f8ff;}#sk-container-id-2 div.sk-toggleable__content pre {margin: 0.2em;color: black;border-radius: 0.25em;background-color: #f0f8ff;}#sk-container-id-2 input.sk-toggleable__control:checked~div.sk-toggleable__content {max-height: 200px;max-width: 100%;overflow: auto;}#sk-container-id-2 input.sk-toggleable__control:checked~label.sk-toggleable__label-arrow:before {content: \"▾\";}#sk-container-id-2 div.sk-estimator input.sk-toggleable__control:checked~label.sk-toggleable__label {background-color: #d4ebff;}#sk-container-id-2 div.sk-label input.sk-toggleable__control:checked~label.sk-toggleable__label {background-color: #d4ebff;}#sk-container-id-2 input.sk-hidden--visually {border: 0;clip: rect(1px 1px 1px 1px);clip: rect(1px, 1px, 1px, 1px);height: 1px;margin: -1px;overflow: hidden;padding: 0;position: absolute;width: 1px;}#sk-container-id-2 div.sk-estimator {font-family: monospace;background-color: #f0f8ff;border: 1px dotted black;border-radius: 0.25em;box-sizing: border-box;margin-bottom: 0.5em;}#sk-container-id-2 div.sk-estimator:hover {background-color: #d4ebff;}#sk-container-id-2 div.sk-parallel-item::after {content: \"\";width: 100%;border-bottom: 1px solid gray;flex-grow: 1;}#sk-container-id-2 div.sk-label:hover label.sk-toggleable__label {background-color: #d4ebff;}#sk-container-id-2 div.sk-serial::before {content: \"\";position: absolute;border-left: 1px solid gray;box-sizing: border-box;top: 0;bottom: 0;left: 50%;z-index: 0;}#sk-container-id-2 div.sk-serial {display: flex;flex-direction: column;align-items: center;background-color: white;padding-right: 0.2em;padding-left: 0.2em;position: relative;}#sk-container-id-2 div.sk-item {position: relative;z-index: 1;}#sk-container-id-2 div.sk-parallel {display: flex;align-items: stretch;justify-content: center;background-color: white;position: relative;}#sk-container-id-2 div.sk-item::before, #sk-container-id-2 div.sk-parallel-item::before {content: \"\";position: absolute;border-left: 1px solid gray;box-sizing: border-box;top: 0;bottom: 0;left: 50%;z-index: -1;}#sk-container-id-2 div.sk-parallel-item {display: flex;flex-direction: column;z-index: 1;position: relative;background-color: white;}#sk-container-id-2 div.sk-parallel-item:first-child::after {align-self: flex-end;width: 50%;}#sk-container-id-2 div.sk-parallel-item:last-child::after {align-self: flex-start;width: 50%;}#sk-container-id-2 div.sk-parallel-item:only-child::after {width: 0;}#sk-container-id-2 div.sk-dashed-wrapped {border: 1px dashed gray;margin: 0 0.4em 0.5em 0.4em;box-sizing: border-box;padding-bottom: 0.4em;background-color: white;}#sk-container-id-2 div.sk-label label {font-family: monospace;font-weight: bold;display: inline-block;line-height: 1.2em;}#sk-container-id-2 div.sk-label-container {text-align: center;}#sk-container-id-2 div.sk-container {/* jupyter's `normalize.less` sets `[hidden] { display: none; }` but bootstrap.min.css set `[hidden] { display: none !important; }` so we also need the `!important` here to be able to override the default hidden behavior on the sphinx rendered scikit-learn.org. See: https://github.com/scikit-learn/scikit-learn/issues/21755 */display: inline-block !important;position: relative;}#sk-container-id-2 div.sk-text-repr-fallback {display: none;}</style><div id=\"sk-container-id-2\" class=\"sk-top-container\"><div class=\"sk-text-repr-fallback\"><pre>StackingRegressor(estimators=[(&#x27;linear&#x27;,\n",
       "                               Pipeline(steps=[(&#x27;poly_features&#x27;,\n",
       "                                                PolynomialFeatures(include_bias=False)),\n",
       "                                               (&#x27;linear_regression&#x27;,\n",
       "                                                LinearRegression())])),\n",
       "                              (&#x27;random_forest&#x27;,\n",
       "                               RandomForestRegressor(max_depth=25,\n",
       "                                                     min_samples_leaf=7,\n",
       "                                                     min_samples_split=25,\n",
       "                                                     n_estimators=700))],\n",
       "                  final_estimator=XGBRegressor(base_score=None, booster=None,\n",
       "                                               callbacks=None,\n",
       "                                               colsampl...\n",
       "                                               feature_types=None, gamma=None,\n",
       "                                               grow_policy=None,\n",
       "                                               importance_type=None,\n",
       "                                               interaction_constraints=None,\n",
       "                                               learning_rate=0.01, max_bin=None,\n",
       "                                               max_cat_threshold=None,\n",
       "                                               max_cat_to_onehot=None,\n",
       "                                               max_delta_step=None, max_depth=5,\n",
       "                                               max_leaves=None,\n",
       "                                               min_child_weight=3, missing=nan,\n",
       "                                               monotone_constraints=None,\n",
       "                                               multi_strategy=None,\n",
       "                                               n_estimators=500, n_jobs=None,\n",
       "                                               num_parallel_tree=None,\n",
       "                                               random_state=42, ...))</pre><b>In a Jupyter environment, please rerun this cell to show the HTML representation or trust the notebook. <br />On GitHub, the HTML representation is unable to render, please try loading this page with nbviewer.org.</b></div><div class=\"sk-container\" hidden><div class=\"sk-item sk-dashed-wrapped\"><div class=\"sk-label-container\"><div class=\"sk-label sk-toggleable\"><input class=\"sk-toggleable__control sk-hidden--visually\" id=\"sk-estimator-id-5\" type=\"checkbox\" ><label for=\"sk-estimator-id-5\" class=\"sk-toggleable__label sk-toggleable__label-arrow\">StackingRegressor</label><div class=\"sk-toggleable__content\"><pre>StackingRegressor(estimators=[(&#x27;linear&#x27;,\n",
       "                               Pipeline(steps=[(&#x27;poly_features&#x27;,\n",
       "                                                PolynomialFeatures(include_bias=False)),\n",
       "                                               (&#x27;linear_regression&#x27;,\n",
       "                                                LinearRegression())])),\n",
       "                              (&#x27;random_forest&#x27;,\n",
       "                               RandomForestRegressor(max_depth=25,\n",
       "                                                     min_samples_leaf=7,\n",
       "                                                     min_samples_split=25,\n",
       "                                                     n_estimators=700))],\n",
       "                  final_estimator=XGBRegressor(base_score=None, booster=None,\n",
       "                                               callbacks=None,\n",
       "                                               colsampl...\n",
       "                                               feature_types=None, gamma=None,\n",
       "                                               grow_policy=None,\n",
       "                                               importance_type=None,\n",
       "                                               interaction_constraints=None,\n",
       "                                               learning_rate=0.01, max_bin=None,\n",
       "                                               max_cat_threshold=None,\n",
       "                                               max_cat_to_onehot=None,\n",
       "                                               max_delta_step=None, max_depth=5,\n",
       "                                               max_leaves=None,\n",
       "                                               min_child_weight=3, missing=nan,\n",
       "                                               monotone_constraints=None,\n",
       "                                               multi_strategy=None,\n",
       "                                               n_estimators=500, n_jobs=None,\n",
       "                                               num_parallel_tree=None,\n",
       "                                               random_state=42, ...))</pre></div></div></div><div class=\"sk-serial\"><div class=\"sk-item\"><div class=\"sk-parallel\"><div class=\"sk-parallel-item\"><div class=\"sk-item\"><div class=\"sk-label-container\"><div class=\"sk-label sk-toggleable\"><label>linear</label></div></div><div class=\"sk-serial\"><div class=\"sk-item\"><div class=\"sk-serial\"><div class=\"sk-item\"><div class=\"sk-estimator sk-toggleable\"><input class=\"sk-toggleable__control sk-hidden--visually\" id=\"sk-estimator-id-6\" type=\"checkbox\" ><label for=\"sk-estimator-id-6\" class=\"sk-toggleable__label sk-toggleable__label-arrow\">PolynomialFeatures</label><div class=\"sk-toggleable__content\"><pre>PolynomialFeatures(include_bias=False)</pre></div></div></div><div class=\"sk-item\"><div class=\"sk-estimator sk-toggleable\"><input class=\"sk-toggleable__control sk-hidden--visually\" id=\"sk-estimator-id-7\" type=\"checkbox\" ><label for=\"sk-estimator-id-7\" class=\"sk-toggleable__label sk-toggleable__label-arrow\">LinearRegression</label><div class=\"sk-toggleable__content\"><pre>LinearRegression()</pre></div></div></div></div></div></div></div></div><div class=\"sk-parallel-item\"><div class=\"sk-item\"><div class=\"sk-label-container\"><div class=\"sk-label sk-toggleable\"><label>random_forest</label></div></div><div class=\"sk-serial\"><div class=\"sk-item\"><div class=\"sk-estimator sk-toggleable\"><input class=\"sk-toggleable__control sk-hidden--visually\" id=\"sk-estimator-id-8\" type=\"checkbox\" ><label for=\"sk-estimator-id-8\" class=\"sk-toggleable__label sk-toggleable__label-arrow\">RandomForestRegressor</label><div class=\"sk-toggleable__content\"><pre>RandomForestRegressor(max_depth=25, min_samples_leaf=7, min_samples_split=25,\n",
       "                      n_estimators=700)</pre></div></div></div></div></div></div></div></div><div class=\"sk-item\"><div class=\"sk-parallel\"><div class=\"sk-parallel-item\"><div class=\"sk-item\"><div class=\"sk-label-container\"><div class=\"sk-label sk-toggleable\"><label>final_estimator</label></div></div><div class=\"sk-serial\"><div class=\"sk-item\"><div class=\"sk-estimator sk-toggleable\"><input class=\"sk-toggleable__control sk-hidden--visually\" id=\"sk-estimator-id-9\" type=\"checkbox\" ><label for=\"sk-estimator-id-9\" class=\"sk-toggleable__label sk-toggleable__label-arrow\">XGBRegressor</label><div class=\"sk-toggleable__content\"><pre>XGBRegressor(base_score=None, booster=None, callbacks=None,\n",
       "             colsample_bylevel=None, colsample_bynode=None,\n",
       "             colsample_bytree=0.7, device=None, early_stopping_rounds=None,\n",
       "             enable_categorical=False, eval_metric=None, feature_types=None,\n",
       "             gamma=None, grow_policy=None, importance_type=None,\n",
       "             interaction_constraints=None, learning_rate=0.01, max_bin=None,\n",
       "             max_cat_threshold=None, max_cat_to_onehot=None,\n",
       "             max_delta_step=None, max_depth=5, max_leaves=None,\n",
       "             min_child_weight=3, missing=nan, monotone_constraints=None,\n",
       "             multi_strategy=None, n_estimators=500, n_jobs=None,\n",
       "             num_parallel_tree=None, random_state=42, ...)</pre></div></div></div></div></div></div></div></div></div></div></div></div>"
      ],
      "text/plain": [
       "StackingRegressor(estimators=[('linear',\n",
       "                               Pipeline(steps=[('poly_features',\n",
       "                                                PolynomialFeatures(include_bias=False)),\n",
       "                                               ('linear_regression',\n",
       "                                                LinearRegression())])),\n",
       "                              ('random_forest',\n",
       "                               RandomForestRegressor(max_depth=25,\n",
       "                                                     min_samples_leaf=7,\n",
       "                                                     min_samples_split=25,\n",
       "                                                     n_estimators=700))],\n",
       "                  final_estimator=XGBRegressor(base_score=None, booster=None,\n",
       "                                               callbacks=None,\n",
       "                                               colsampl...\n",
       "                                               feature_types=None, gamma=None,\n",
       "                                               grow_policy=None,\n",
       "                                               importance_type=None,\n",
       "                                               interaction_constraints=None,\n",
       "                                               learning_rate=0.01, max_bin=None,\n",
       "                                               max_cat_threshold=None,\n",
       "                                               max_cat_to_onehot=None,\n",
       "                                               max_delta_step=None, max_depth=5,\n",
       "                                               max_leaves=None,\n",
       "                                               min_child_weight=3, missing=nan,\n",
       "                                               monotone_constraints=None,\n",
       "                                               multi_strategy=None,\n",
       "                                               n_estimators=500, n_jobs=None,\n",
       "                                               num_parallel_tree=None,\n",
       "                                               random_state=42, ...))"
      ]
     },
     "execution_count": 22,
     "metadata": {},
     "output_type": "execute_result"
    }
   ],
   "source": [
    "# Train the model\n",
    "best_model_with_poly.fit(X_train_poly, y_train)"
   ]
  },
  {
   "cell_type": "code",
   "execution_count": 23,
   "id": "db32c428",
   "metadata": {
    "execution": {
     "iopub.execute_input": "2024-12-10T15:49:37.806003Z",
     "iopub.status.busy": "2024-12-10T15:49:37.805572Z",
     "iopub.status.idle": "2024-12-10T15:49:38.470363Z",
     "shell.execute_reply": "2024-12-10T15:49:38.469288Z"
    },
    "papermill": {
     "duration": 0.676816,
     "end_time": "2024-12-10T15:49:38.473263",
     "exception": false,
     "start_time": "2024-12-10T15:49:37.796447",
     "status": "completed"
    },
    "tags": []
   },
   "outputs": [],
   "source": [
    "# Make predictions\n",
    "y_train_pred = best_model_with_poly.predict(X_train_poly)\n",
    "y_test_pred = best_model_with_poly.predict(X_test_poly)"
   ]
  },
  {
   "cell_type": "code",
   "execution_count": 24,
   "id": "da43043c",
   "metadata": {
    "execution": {
     "iopub.execute_input": "2024-12-10T15:49:38.491901Z",
     "iopub.status.busy": "2024-12-10T15:49:38.491438Z",
     "iopub.status.idle": "2024-12-10T15:49:38.504051Z",
     "shell.execute_reply": "2024-12-10T15:49:38.502948Z"
    },
    "papermill": {
     "duration": 0.024824,
     "end_time": "2024-12-10T15:49:38.506582",
     "exception": false,
     "start_time": "2024-12-10T15:49:38.481758",
     "status": "completed"
    },
    "tags": []
   },
   "outputs": [],
   "source": [
    "# Calculate metrics for training and testing sets\n",
    "train_rmse, train_mae, train_r2, train_mape = calculate_metrics(y_train, y_train_pred)\n",
    "test_rmse, test_mae, test_r2, test_mape = calculate_metrics(y_test, y_test_pred)"
   ]
  },
  {
   "cell_type": "code",
   "execution_count": 25,
   "id": "0646fc0f",
   "metadata": {
    "execution": {
     "iopub.execute_input": "2024-12-10T15:49:38.524020Z",
     "iopub.status.busy": "2024-12-10T15:49:38.523624Z",
     "iopub.status.idle": "2024-12-10T15:49:38.531155Z",
     "shell.execute_reply": "2024-12-10T15:49:38.529875Z"
    },
    "papermill": {
     "duration": 0.019078,
     "end_time": "2024-12-10T15:49:38.533508",
     "exception": false,
     "start_time": "2024-12-10T15:49:38.514430",
     "status": "completed"
    },
    "tags": []
   },
   "outputs": [
    {
     "name": "stdout",
     "output_type": "stream",
     "text": [
      "\n",
      "Training Metrics:\n",
      "  RMSE: 1.8928850834743187\n",
      "  MAE: 1.3013415709435885\n",
      "  R-squared: 0.7632610665109848\n",
      "  MAPE: 5.31%\n",
      "\n",
      "Testing Metrics:\n",
      "  RMSE: 2.0596339787513376\n",
      "  MAE: 1.4220152518929405\n",
      "  R-squared: 0.7231723309974769\n",
      "  MAPE: 5.75%\n"
     ]
    }
   ],
   "source": [
    "# Print the evaluation metrics\n",
    "print(\"\\nTraining Metrics:\")\n",
    "print(f\"  RMSE: {train_rmse}\")\n",
    "print(f\"  MAE: {train_mae}\")\n",
    "print(f\"  R-squared: {train_r2}\")\n",
    "print(f\"  MAPE: {train_mape:.2f}%\")\n",
    "\n",
    "print(\"\\nTesting Metrics:\")\n",
    "print(f\"  RMSE: {test_rmse}\")\n",
    "print(f\"  MAE: {test_mae}\")\n",
    "print(f\"  R-squared: {test_r2}\")\n",
    "print(f\"  MAPE: {test_mape:.2f}%\")"
   ]
  }
 ],
 "metadata": {
  "kaggle": {
   "accelerator": "none",
   "dataSources": [
    {
     "datasetId": 6268941,
     "sourceId": 10154009,
     "sourceType": "datasetVersion"
    }
   ],
   "dockerImageVersionId": 30804,
   "isGpuEnabled": false,
   "isInternetEnabled": false,
   "language": "python",
   "sourceType": "notebook"
  },
  "kernelspec": {
   "display_name": "Python 3",
   "language": "python",
   "name": "python3"
  },
  "language_info": {
   "codemirror_mode": {
    "name": "ipython",
    "version": 3
   },
   "file_extension": ".py",
   "mimetype": "text/x-python",
   "name": "python",
   "nbconvert_exporter": "python",
   "pygments_lexer": "ipython3",
   "version": "3.10.14"
  },
  "papermill": {
   "default_parameters": {},
   "duration": 1906.207941,
   "end_time": "2024-12-10T15:49:41.163658",
   "environment_variables": {},
   "exception": null,
   "input_path": "__notebook__.ipynb",
   "output_path": "__notebook__.ipynb",
   "parameters": {},
   "start_time": "2024-12-10T15:17:54.955717",
   "version": "2.6.0"
  }
 },
 "nbformat": 4,
 "nbformat_minor": 5
}
