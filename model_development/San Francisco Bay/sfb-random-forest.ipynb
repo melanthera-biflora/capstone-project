{
 "cells": [
  {
   "cell_type": "markdown",
   "id": "a81a35d6",
   "metadata": {
    "papermill": {
     "duration": 0.004706,
     "end_time": "2024-12-12T05:36:25.844132",
     "exception": false,
     "start_time": "2024-12-12T05:36:25.839426",
     "status": "completed"
    },
    "tags": []
   },
   "source": [
    "# Import essential library "
   ]
  },
  {
   "cell_type": "code",
   "execution_count": 1,
   "id": "3c03c002",
   "metadata": {
    "_cell_guid": "b1076dfc-b9ad-4769-8c92-a6c4dae69d19",
    "_uuid": "8f2839f25d086af736a60e9eeb907d3b93b6e0e5",
    "execution": {
     "iopub.execute_input": "2024-12-12T05:36:25.853850Z",
     "iopub.status.busy": "2024-12-12T05:36:25.853382Z",
     "iopub.status.idle": "2024-12-12T05:36:29.329960Z",
     "shell.execute_reply": "2024-12-12T05:36:29.328649Z"
    },
    "papermill": {
     "duration": 3.484334,
     "end_time": "2024-12-12T05:36:29.332584",
     "exception": false,
     "start_time": "2024-12-12T05:36:25.848250",
     "status": "completed"
    },
    "tags": []
   },
   "outputs": [],
   "source": [
    "import numpy as np\n",
    "import pandas as pd\n",
    "from sklearn.metrics import mean_absolute_error, mean_squared_error, r2_score, mean_absolute_percentage_error\n",
    "from sklearn.linear_model import LinearRegression, Ridge\n",
    "from sklearn.preprocessing import PolynomialFeatures\n",
    "from sklearn.model_selection import train_test_split\n",
    "import seaborn as sns\n",
    "import matplotlib.pyplot as plt\n",
    "from sklearn.tree import DecisionTreeRegressor\n",
    "from sklearn.ensemble import RandomForestRegressor\n",
    "from sklearn.model_selection import GridSearchCV, train_test_split\n",
    "from sklearn.metrics import mean_squared_error, mean_absolute_error, r2_score\n",
    "import numpy as np\n",
    "import matplotlib.pyplot as plt\n",
    "import matplotlib.pyplot as plt\n",
    "from sklearn.tree import plot_tree"
   ]
  },
  {
   "cell_type": "code",
   "execution_count": 2,
   "id": "b1f3ccd3",
   "metadata": {
    "execution": {
     "iopub.execute_input": "2024-12-12T05:36:29.342397Z",
     "iopub.status.busy": "2024-12-12T05:36:29.341882Z",
     "iopub.status.idle": "2024-12-12T05:36:29.397094Z",
     "shell.execute_reply": "2024-12-12T05:36:29.396115Z"
    },
    "papermill": {
     "duration": 0.062972,
     "end_time": "2024-12-12T05:36:29.399669",
     "exception": false,
     "start_time": "2024-12-12T05:36:29.336697",
     "status": "completed"
    },
    "tags": []
   },
   "outputs": [],
   "source": [
    "#Data loading\n",
    "train_data = pd.read_csv('/kaggle/input/sfb-training-test/training_set.csv')\n",
    "test_data = pd.read_csv('/kaggle/input/sfb-training-test/testing_set.csv')"
   ]
  },
  {
   "cell_type": "code",
   "execution_count": 3,
   "id": "41b25362",
   "metadata": {
    "execution": {
     "iopub.execute_input": "2024-12-12T05:36:29.409047Z",
     "iopub.status.busy": "2024-12-12T05:36:29.408602Z",
     "iopub.status.idle": "2024-12-12T05:36:29.433654Z",
     "shell.execute_reply": "2024-12-12T05:36:29.432635Z"
    },
    "papermill": {
     "duration": 0.032186,
     "end_time": "2024-12-12T05:36:29.435728",
     "exception": false,
     "start_time": "2024-12-12T05:36:29.403542",
     "status": "completed"
    },
    "tags": []
   },
   "outputs": [
    {
     "data": {
      "text/html": [
       "<div>\n",
       "<style scoped>\n",
       "    .dataframe tbody tr th:only-of-type {\n",
       "        vertical-align: middle;\n",
       "    }\n",
       "\n",
       "    .dataframe tbody tr th {\n",
       "        vertical-align: top;\n",
       "    }\n",
       "\n",
       "    .dataframe thead th {\n",
       "        text-align: right;\n",
       "    }\n",
       "</style>\n",
       "<table border=\"1\" class=\"dataframe\">\n",
       "  <thead>\n",
       "    <tr style=\"text-align: right;\">\n",
       "      <th></th>\n",
       "      <th>Day</th>\n",
       "      <th>Month</th>\n",
       "      <th>Year</th>\n",
       "      <th>MODIS_B01</th>\n",
       "      <th>MODIS_B02</th>\n",
       "      <th>MODIS_B03</th>\n",
       "      <th>MODIS_B04</th>\n",
       "      <th>MODIS_B05</th>\n",
       "      <th>MODIS_B06</th>\n",
       "      <th>MODIS_B07</th>\n",
       "      <th>Salinity</th>\n",
       "    </tr>\n",
       "  </thead>\n",
       "  <tbody>\n",
       "    <tr>\n",
       "      <th>0</th>\n",
       "      <td>2006</td>\n",
       "      <td>11</td>\n",
       "      <td>2006</td>\n",
       "      <td>0.033225</td>\n",
       "      <td>0.033225</td>\n",
       "      <td>0.033225</td>\n",
       "      <td>0.033225</td>\n",
       "      <td>0.033225</td>\n",
       "      <td>0.045671</td>\n",
       "      <td>0.033225</td>\n",
       "      <td>27.55</td>\n",
       "    </tr>\n",
       "    <tr>\n",
       "      <th>1</th>\n",
       "      <td>2011</td>\n",
       "      <td>10</td>\n",
       "      <td>2011</td>\n",
       "      <td>0.000000</td>\n",
       "      <td>0.000000</td>\n",
       "      <td>0.000000</td>\n",
       "      <td>0.000000</td>\n",
       "      <td>0.000000</td>\n",
       "      <td>0.006454</td>\n",
       "      <td>0.000000</td>\n",
       "      <td>27.69</td>\n",
       "    </tr>\n",
       "    <tr>\n",
       "      <th>2</th>\n",
       "      <td>2014</td>\n",
       "      <td>6</td>\n",
       "      <td>2014</td>\n",
       "      <td>0.014285</td>\n",
       "      <td>0.014285</td>\n",
       "      <td>0.014285</td>\n",
       "      <td>0.014285</td>\n",
       "      <td>0.014285</td>\n",
       "      <td>0.015042</td>\n",
       "      <td>0.014285</td>\n",
       "      <td>30.91</td>\n",
       "    </tr>\n",
       "    <tr>\n",
       "      <th>3</th>\n",
       "      <td>2015</td>\n",
       "      <td>3</td>\n",
       "      <td>2015</td>\n",
       "      <td>0.011038</td>\n",
       "      <td>0.083436</td>\n",
       "      <td>0.011038</td>\n",
       "      <td>0.011038</td>\n",
       "      <td>0.038958</td>\n",
       "      <td>0.094582</td>\n",
       "      <td>0.011038</td>\n",
       "      <td>27.86</td>\n",
       "    </tr>\n",
       "    <tr>\n",
       "      <th>4</th>\n",
       "      <td>2012</td>\n",
       "      <td>12</td>\n",
       "      <td>2012</td>\n",
       "      <td>0.008225</td>\n",
       "      <td>0.014826</td>\n",
       "      <td>0.012445</td>\n",
       "      <td>0.008225</td>\n",
       "      <td>0.014068</td>\n",
       "      <td>0.039608</td>\n",
       "      <td>0.008225</td>\n",
       "      <td>28.40</td>\n",
       "    </tr>\n",
       "  </tbody>\n",
       "</table>\n",
       "</div>"
      ],
      "text/plain": [
       "    Day  Month  Year  MODIS_B01  MODIS_B02  MODIS_B03  MODIS_B04  MODIS_B05  \\\n",
       "0  2006     11  2006   0.033225   0.033225   0.033225   0.033225   0.033225   \n",
       "1  2011     10  2011   0.000000   0.000000   0.000000   0.000000   0.000000   \n",
       "2  2014      6  2014   0.014285   0.014285   0.014285   0.014285   0.014285   \n",
       "3  2015      3  2015   0.011038   0.083436   0.011038   0.011038   0.038958   \n",
       "4  2012     12  2012   0.008225   0.014826   0.012445   0.008225   0.014068   \n",
       "\n",
       "   MODIS_B06  MODIS_B07  Salinity  \n",
       "0   0.045671   0.033225     27.55  \n",
       "1   0.006454   0.000000     27.69  \n",
       "2   0.015042   0.014285     30.91  \n",
       "3   0.094582   0.011038     27.86  \n",
       "4   0.039608   0.008225     28.40  "
      ]
     },
     "execution_count": 3,
     "metadata": {},
     "output_type": "execute_result"
    }
   ],
   "source": [
    "#Check data\n",
    "\n",
    "train_data.head()"
   ]
  },
  {
   "cell_type": "code",
   "execution_count": 4,
   "id": "545c5476",
   "metadata": {
    "execution": {
     "iopub.execute_input": "2024-12-12T05:36:29.445871Z",
     "iopub.status.busy": "2024-12-12T05:36:29.445461Z",
     "iopub.status.idle": "2024-12-12T05:36:29.452192Z",
     "shell.execute_reply": "2024-12-12T05:36:29.451029Z"
    },
    "papermill": {
     "duration": 0.014117,
     "end_time": "2024-12-12T05:36:29.454223",
     "exception": false,
     "start_time": "2024-12-12T05:36:29.440106",
     "status": "completed"
    },
    "tags": []
   },
   "outputs": [
    {
     "data": {
      "text/plain": [
       "(5451, 11)"
      ]
     },
     "execution_count": 4,
     "metadata": {},
     "output_type": "execute_result"
    }
   ],
   "source": [
    "train_data.shape"
   ]
  },
  {
   "cell_type": "code",
   "execution_count": 5,
   "id": "c18a5335",
   "metadata": {
    "execution": {
     "iopub.execute_input": "2024-12-12T05:36:29.464219Z",
     "iopub.status.busy": "2024-12-12T05:36:29.463863Z",
     "iopub.status.idle": "2024-12-12T05:36:29.480700Z",
     "shell.execute_reply": "2024-12-12T05:36:29.479351Z"
    },
    "papermill": {
     "duration": 0.024609,
     "end_time": "2024-12-12T05:36:29.483108",
     "exception": false,
     "start_time": "2024-12-12T05:36:29.458499",
     "status": "completed"
    },
    "tags": []
   },
   "outputs": [
    {
     "data": {
      "text/html": [
       "<div>\n",
       "<style scoped>\n",
       "    .dataframe tbody tr th:only-of-type {\n",
       "        vertical-align: middle;\n",
       "    }\n",
       "\n",
       "    .dataframe tbody tr th {\n",
       "        vertical-align: top;\n",
       "    }\n",
       "\n",
       "    .dataframe thead th {\n",
       "        text-align: right;\n",
       "    }\n",
       "</style>\n",
       "<table border=\"1\" class=\"dataframe\">\n",
       "  <thead>\n",
       "    <tr style=\"text-align: right;\">\n",
       "      <th></th>\n",
       "      <th>Day</th>\n",
       "      <th>Month</th>\n",
       "      <th>Year</th>\n",
       "      <th>MODIS_B01</th>\n",
       "      <th>MODIS_B02</th>\n",
       "      <th>MODIS_B03</th>\n",
       "      <th>MODIS_B04</th>\n",
       "      <th>MODIS_B05</th>\n",
       "      <th>MODIS_B06</th>\n",
       "      <th>MODIS_B07</th>\n",
       "      <th>Salinity</th>\n",
       "    </tr>\n",
       "  </thead>\n",
       "  <tbody>\n",
       "    <tr>\n",
       "      <th>0</th>\n",
       "      <td>2007</td>\n",
       "      <td>10</td>\n",
       "      <td>2007</td>\n",
       "      <td>0.002689</td>\n",
       "      <td>0.002689</td>\n",
       "      <td>0.002689</td>\n",
       "      <td>0.002689</td>\n",
       "      <td>0.002689</td>\n",
       "      <td>0.002689</td>\n",
       "      <td>0.002689</td>\n",
       "      <td>31.57</td>\n",
       "    </tr>\n",
       "    <tr>\n",
       "      <th>1</th>\n",
       "      <td>2010</td>\n",
       "      <td>10</td>\n",
       "      <td>2010</td>\n",
       "      <td>0.025649</td>\n",
       "      <td>0.025649</td>\n",
       "      <td>0.025649</td>\n",
       "      <td>0.025649</td>\n",
       "      <td>0.025649</td>\n",
       "      <td>0.072186</td>\n",
       "      <td>0.025649</td>\n",
       "      <td>29.53</td>\n",
       "    </tr>\n",
       "    <tr>\n",
       "      <th>2</th>\n",
       "      <td>2003</td>\n",
       "      <td>4</td>\n",
       "      <td>2003</td>\n",
       "      <td>0.084301</td>\n",
       "      <td>0.084301</td>\n",
       "      <td>0.084301</td>\n",
       "      <td>0.084301</td>\n",
       "      <td>0.084301</td>\n",
       "      <td>0.207236</td>\n",
       "      <td>0.084301</td>\n",
       "      <td>27.36</td>\n",
       "    </tr>\n",
       "    <tr>\n",
       "      <th>3</th>\n",
       "      <td>2009</td>\n",
       "      <td>6</td>\n",
       "      <td>2009</td>\n",
       "      <td>0.000000</td>\n",
       "      <td>0.000000</td>\n",
       "      <td>0.000000</td>\n",
       "      <td>0.000000</td>\n",
       "      <td>0.000000</td>\n",
       "      <td>0.025172</td>\n",
       "      <td>0.000000</td>\n",
       "      <td>28.74</td>\n",
       "    </tr>\n",
       "    <tr>\n",
       "      <th>4</th>\n",
       "      <td>2010</td>\n",
       "      <td>10</td>\n",
       "      <td>2010</td>\n",
       "      <td>0.000000</td>\n",
       "      <td>0.013311</td>\n",
       "      <td>0.000000</td>\n",
       "      <td>0.000000</td>\n",
       "      <td>0.000000</td>\n",
       "      <td>0.082570</td>\n",
       "      <td>0.000000</td>\n",
       "      <td>30.75</td>\n",
       "    </tr>\n",
       "  </tbody>\n",
       "</table>\n",
       "</div>"
      ],
      "text/plain": [
       "    Day  Month  Year  MODIS_B01  MODIS_B02  MODIS_B03  MODIS_B04  MODIS_B05  \\\n",
       "0  2007     10  2007   0.002689   0.002689   0.002689   0.002689   0.002689   \n",
       "1  2010     10  2010   0.025649   0.025649   0.025649   0.025649   0.025649   \n",
       "2  2003      4  2003   0.084301   0.084301   0.084301   0.084301   0.084301   \n",
       "3  2009      6  2009   0.000000   0.000000   0.000000   0.000000   0.000000   \n",
       "4  2010     10  2010   0.000000   0.013311   0.000000   0.000000   0.000000   \n",
       "\n",
       "   MODIS_B06  MODIS_B07  Salinity  \n",
       "0   0.002689   0.002689     31.57  \n",
       "1   0.072186   0.025649     29.53  \n",
       "2   0.207236   0.084301     27.36  \n",
       "3   0.025172   0.000000     28.74  \n",
       "4   0.082570   0.000000     30.75  "
      ]
     },
     "execution_count": 5,
     "metadata": {},
     "output_type": "execute_result"
    }
   ],
   "source": [
    "#Check data\n",
    "\n",
    "test_data.head()"
   ]
  },
  {
   "cell_type": "code",
   "execution_count": 6,
   "id": "33aad4a0",
   "metadata": {
    "execution": {
     "iopub.execute_input": "2024-12-12T05:36:29.494759Z",
     "iopub.status.busy": "2024-12-12T05:36:29.494338Z",
     "iopub.status.idle": "2024-12-12T05:36:29.501592Z",
     "shell.execute_reply": "2024-12-12T05:36:29.500397Z"
    },
    "papermill": {
     "duration": 0.015158,
     "end_time": "2024-12-12T05:36:29.503957",
     "exception": false,
     "start_time": "2024-12-12T05:36:29.488799",
     "status": "completed"
    },
    "tags": []
   },
   "outputs": [
    {
     "data": {
      "text/plain": [
       "(1363, 11)"
      ]
     },
     "execution_count": 6,
     "metadata": {},
     "output_type": "execute_result"
    }
   ],
   "source": [
    "test_data.shape"
   ]
  },
  {
   "cell_type": "markdown",
   "id": "ae1cb3b6",
   "metadata": {
    "papermill": {
     "duration": 0.004047,
     "end_time": "2024-12-12T05:36:29.512451",
     "exception": false,
     "start_time": "2024-12-12T05:36:29.508404",
     "status": "completed"
    },
    "tags": []
   },
   "source": [
    "# Model Development"
   ]
  },
  {
   "cell_type": "code",
   "execution_count": 7,
   "id": "3f92d055",
   "metadata": {
    "execution": {
     "iopub.execute_input": "2024-12-12T05:36:29.523056Z",
     "iopub.status.busy": "2024-12-12T05:36:29.522681Z",
     "iopub.status.idle": "2024-12-12T05:36:29.537145Z",
     "shell.execute_reply": "2024-12-12T05:36:29.536022Z"
    },
    "papermill": {
     "duration": 0.022891,
     "end_time": "2024-12-12T05:36:29.539730",
     "exception": false,
     "start_time": "2024-12-12T05:36:29.516839",
     "status": "completed"
    },
    "tags": []
   },
   "outputs": [],
   "source": [
    "target = 'Salinity'\n",
    "feature = ['Day','Month', 'Year', 'MODIS_B02', 'MODIS_B06','MODIS_B05','MODIS_B01','MODIS_B07']\n",
    "#Establish X_train, y_train, X_test, y_test\n",
    "X_train = train_data[feature]  \n",
    "y_train = train_data[target]  \n",
    "X_test = test_data[feature] \n",
    "y_test = test_data[target] "
   ]
  },
  {
   "cell_type": "code",
   "execution_count": 8,
   "id": "4549a447",
   "metadata": {
    "execution": {
     "iopub.execute_input": "2024-12-12T05:36:29.552511Z",
     "iopub.status.busy": "2024-12-12T05:36:29.552145Z",
     "iopub.status.idle": "2024-12-12T05:36:29.558008Z",
     "shell.execute_reply": "2024-12-12T05:36:29.556743Z"
    },
    "papermill": {
     "duration": 0.014515,
     "end_time": "2024-12-12T05:36:29.560405",
     "exception": false,
     "start_time": "2024-12-12T05:36:29.545890",
     "status": "completed"
    },
    "tags": []
   },
   "outputs": [],
   "source": [
    "# Define the parameter grid for GridSearchCV\n",
    "param_grid = {\n",
    "    'n_estimators': [900,1000],\n",
    "    'max_depth': [10,11],\n",
    "    'min_samples_split': [30,40],\n",
    "    'min_samples_leaf': [5,6,7],\n",
    "    'bootstrap': [True, False]\n",
    "}"
   ]
  },
  {
   "cell_type": "code",
   "execution_count": 9,
   "id": "31d68253",
   "metadata": {
    "execution": {
     "iopub.execute_input": "2024-12-12T05:36:29.571458Z",
     "iopub.status.busy": "2024-12-12T05:36:29.570586Z",
     "iopub.status.idle": "2024-12-12T05:36:29.575677Z",
     "shell.execute_reply": "2024-12-12T05:36:29.574582Z"
    },
    "papermill": {
     "duration": 0.012987,
     "end_time": "2024-12-12T05:36:29.578026",
     "exception": false,
     "start_time": "2024-12-12T05:36:29.565039",
     "status": "completed"
    },
    "tags": []
   },
   "outputs": [],
   "source": [
    "# Initialize the RandomForestRegressor\n",
    "rf = RandomForestRegressor(random_state=42)"
   ]
  },
  {
   "cell_type": "code",
   "execution_count": 10,
   "id": "7193bbd9",
   "metadata": {
    "execution": {
     "iopub.execute_input": "2024-12-12T05:36:29.589343Z",
     "iopub.status.busy": "2024-12-12T05:36:29.588968Z",
     "iopub.status.idle": "2024-12-12T05:58:51.086113Z",
     "shell.execute_reply": "2024-12-12T05:58:51.084695Z"
    },
    "papermill": {
     "duration": 1341.510105,
     "end_time": "2024-12-12T05:58:51.092993",
     "exception": false,
     "start_time": "2024-12-12T05:36:29.582888",
     "status": "completed"
    },
    "tags": []
   },
   "outputs": [
    {
     "name": "stdout",
     "output_type": "stream",
     "text": [
      "Fitting 5 folds for each of 48 candidates, totalling 240 fits\n"
     ]
    },
    {
     "data": {
      "text/html": [
       "<style>#sk-container-id-1 {color: black;background-color: white;}#sk-container-id-1 pre{padding: 0;}#sk-container-id-1 div.sk-toggleable {background-color: white;}#sk-container-id-1 label.sk-toggleable__label {cursor: pointer;display: block;width: 100%;margin-bottom: 0;padding: 0.3em;box-sizing: border-box;text-align: center;}#sk-container-id-1 label.sk-toggleable__label-arrow:before {content: \"▸\";float: left;margin-right: 0.25em;color: #696969;}#sk-container-id-1 label.sk-toggleable__label-arrow:hover:before {color: black;}#sk-container-id-1 div.sk-estimator:hover label.sk-toggleable__label-arrow:before {color: black;}#sk-container-id-1 div.sk-toggleable__content {max-height: 0;max-width: 0;overflow: hidden;text-align: left;background-color: #f0f8ff;}#sk-container-id-1 div.sk-toggleable__content pre {margin: 0.2em;color: black;border-radius: 0.25em;background-color: #f0f8ff;}#sk-container-id-1 input.sk-toggleable__control:checked~div.sk-toggleable__content {max-height: 200px;max-width: 100%;overflow: auto;}#sk-container-id-1 input.sk-toggleable__control:checked~label.sk-toggleable__label-arrow:before {content: \"▾\";}#sk-container-id-1 div.sk-estimator input.sk-toggleable__control:checked~label.sk-toggleable__label {background-color: #d4ebff;}#sk-container-id-1 div.sk-label input.sk-toggleable__control:checked~label.sk-toggleable__label {background-color: #d4ebff;}#sk-container-id-1 input.sk-hidden--visually {border: 0;clip: rect(1px 1px 1px 1px);clip: rect(1px, 1px, 1px, 1px);height: 1px;margin: -1px;overflow: hidden;padding: 0;position: absolute;width: 1px;}#sk-container-id-1 div.sk-estimator {font-family: monospace;background-color: #f0f8ff;border: 1px dotted black;border-radius: 0.25em;box-sizing: border-box;margin-bottom: 0.5em;}#sk-container-id-1 div.sk-estimator:hover {background-color: #d4ebff;}#sk-container-id-1 div.sk-parallel-item::after {content: \"\";width: 100%;border-bottom: 1px solid gray;flex-grow: 1;}#sk-container-id-1 div.sk-label:hover label.sk-toggleable__label {background-color: #d4ebff;}#sk-container-id-1 div.sk-serial::before {content: \"\";position: absolute;border-left: 1px solid gray;box-sizing: border-box;top: 0;bottom: 0;left: 50%;z-index: 0;}#sk-container-id-1 div.sk-serial {display: flex;flex-direction: column;align-items: center;background-color: white;padding-right: 0.2em;padding-left: 0.2em;position: relative;}#sk-container-id-1 div.sk-item {position: relative;z-index: 1;}#sk-container-id-1 div.sk-parallel {display: flex;align-items: stretch;justify-content: center;background-color: white;position: relative;}#sk-container-id-1 div.sk-item::before, #sk-container-id-1 div.sk-parallel-item::before {content: \"\";position: absolute;border-left: 1px solid gray;box-sizing: border-box;top: 0;bottom: 0;left: 50%;z-index: -1;}#sk-container-id-1 div.sk-parallel-item {display: flex;flex-direction: column;z-index: 1;position: relative;background-color: white;}#sk-container-id-1 div.sk-parallel-item:first-child::after {align-self: flex-end;width: 50%;}#sk-container-id-1 div.sk-parallel-item:last-child::after {align-self: flex-start;width: 50%;}#sk-container-id-1 div.sk-parallel-item:only-child::after {width: 0;}#sk-container-id-1 div.sk-dashed-wrapped {border: 1px dashed gray;margin: 0 0.4em 0.5em 0.4em;box-sizing: border-box;padding-bottom: 0.4em;background-color: white;}#sk-container-id-1 div.sk-label label {font-family: monospace;font-weight: bold;display: inline-block;line-height: 1.2em;}#sk-container-id-1 div.sk-label-container {text-align: center;}#sk-container-id-1 div.sk-container {/* jupyter's `normalize.less` sets `[hidden] { display: none; }` but bootstrap.min.css set `[hidden] { display: none !important; }` so we also need the `!important` here to be able to override the default hidden behavior on the sphinx rendered scikit-learn.org. See: https://github.com/scikit-learn/scikit-learn/issues/21755 */display: inline-block !important;position: relative;}#sk-container-id-1 div.sk-text-repr-fallback {display: none;}</style><div id=\"sk-container-id-1\" class=\"sk-top-container\"><div class=\"sk-text-repr-fallback\"><pre>GridSearchCV(cv=5, estimator=RandomForestRegressor(random_state=42), n_jobs=-1,\n",
       "             param_grid={&#x27;bootstrap&#x27;: [True, False], &#x27;max_depth&#x27;: [10, 11],\n",
       "                         &#x27;min_samples_leaf&#x27;: [5, 6, 7],\n",
       "                         &#x27;min_samples_split&#x27;: [30, 40],\n",
       "                         &#x27;n_estimators&#x27;: [900, 1000]},\n",
       "             scoring=&#x27;neg_mean_squared_error&#x27;, verbose=2)</pre><b>In a Jupyter environment, please rerun this cell to show the HTML representation or trust the notebook. <br />On GitHub, the HTML representation is unable to render, please try loading this page with nbviewer.org.</b></div><div class=\"sk-container\" hidden><div class=\"sk-item sk-dashed-wrapped\"><div class=\"sk-label-container\"><div class=\"sk-label sk-toggleable\"><input class=\"sk-toggleable__control sk-hidden--visually\" id=\"sk-estimator-id-1\" type=\"checkbox\" ><label for=\"sk-estimator-id-1\" class=\"sk-toggleable__label sk-toggleable__label-arrow\">GridSearchCV</label><div class=\"sk-toggleable__content\"><pre>GridSearchCV(cv=5, estimator=RandomForestRegressor(random_state=42), n_jobs=-1,\n",
       "             param_grid={&#x27;bootstrap&#x27;: [True, False], &#x27;max_depth&#x27;: [10, 11],\n",
       "                         &#x27;min_samples_leaf&#x27;: [5, 6, 7],\n",
       "                         &#x27;min_samples_split&#x27;: [30, 40],\n",
       "                         &#x27;n_estimators&#x27;: [900, 1000]},\n",
       "             scoring=&#x27;neg_mean_squared_error&#x27;, verbose=2)</pre></div></div></div><div class=\"sk-parallel\"><div class=\"sk-parallel-item\"><div class=\"sk-item\"><div class=\"sk-label-container\"><div class=\"sk-label sk-toggleable\"><input class=\"sk-toggleable__control sk-hidden--visually\" id=\"sk-estimator-id-2\" type=\"checkbox\" ><label for=\"sk-estimator-id-2\" class=\"sk-toggleable__label sk-toggleable__label-arrow\">estimator: RandomForestRegressor</label><div class=\"sk-toggleable__content\"><pre>RandomForestRegressor(random_state=42)</pre></div></div></div><div class=\"sk-serial\"><div class=\"sk-item\"><div class=\"sk-estimator sk-toggleable\"><input class=\"sk-toggleable__control sk-hidden--visually\" id=\"sk-estimator-id-3\" type=\"checkbox\" ><label for=\"sk-estimator-id-3\" class=\"sk-toggleable__label sk-toggleable__label-arrow\">RandomForestRegressor</label><div class=\"sk-toggleable__content\"><pre>RandomForestRegressor(random_state=42)</pre></div></div></div></div></div></div></div></div></div></div>"
      ],
      "text/plain": [
       "GridSearchCV(cv=5, estimator=RandomForestRegressor(random_state=42), n_jobs=-1,\n",
       "             param_grid={'bootstrap': [True, False], 'max_depth': [10, 11],\n",
       "                         'min_samples_leaf': [5, 6, 7],\n",
       "                         'min_samples_split': [30, 40],\n",
       "                         'n_estimators': [900, 1000]},\n",
       "             scoring='neg_mean_squared_error', verbose=2)"
      ]
     },
     "execution_count": 10,
     "metadata": {},
     "output_type": "execute_result"
    }
   ],
   "source": [
    "# Set up GridSearchCV\n",
    "grid_search = GridSearchCV(estimator=rf, param_grid=param_grid, cv=5, n_jobs=-1, scoring='neg_mean_squared_error', verbose=2)\n",
    "grid_search.fit(X_train, y_train)"
   ]
  },
  {
   "cell_type": "code",
   "execution_count": 11,
   "id": "9b163c00",
   "metadata": {
    "execution": {
     "iopub.execute_input": "2024-12-12T05:58:51.104488Z",
     "iopub.status.busy": "2024-12-12T05:58:51.104102Z",
     "iopub.status.idle": "2024-12-12T05:58:51.110749Z",
     "shell.execute_reply": "2024-12-12T05:58:51.109370Z"
    },
    "papermill": {
     "duration": 0.015001,
     "end_time": "2024-12-12T05:58:51.112949",
     "exception": false,
     "start_time": "2024-12-12T05:58:51.097948",
     "status": "completed"
    },
    "tags": []
   },
   "outputs": [
    {
     "name": "stdout",
     "output_type": "stream",
     "text": [
      "Best Parameters: {'bootstrap': True, 'max_depth': 11, 'min_samples_leaf': 5, 'min_samples_split': 30, 'n_estimators': 1000}\n"
     ]
    }
   ],
   "source": [
    "# Get the best hyperparameters\n",
    "best_params = grid_search.best_params_\n",
    "print(f\"Best Parameters: {best_params}\")"
   ]
  },
  {
   "cell_type": "code",
   "execution_count": 12,
   "id": "e8794e7a",
   "metadata": {
    "execution": {
     "iopub.execute_input": "2024-12-12T05:58:51.124967Z",
     "iopub.status.busy": "2024-12-12T05:58:51.124429Z",
     "iopub.status.idle": "2024-12-12T05:58:51.129583Z",
     "shell.execute_reply": "2024-12-12T05:58:51.128497Z"
    },
    "papermill": {
     "duration": 0.013773,
     "end_time": "2024-12-12T05:58:51.131780",
     "exception": false,
     "start_time": "2024-12-12T05:58:51.118007",
     "status": "completed"
    },
    "tags": []
   },
   "outputs": [],
   "source": [
    "# Get the best estimator\n",
    "best_rf = grid_search.best_estimator_"
   ]
  },
  {
   "cell_type": "code",
   "execution_count": 13,
   "id": "32c0e2df",
   "metadata": {
    "execution": {
     "iopub.execute_input": "2024-12-12T05:58:51.143660Z",
     "iopub.status.busy": "2024-12-12T05:58:51.143254Z",
     "iopub.status.idle": "2024-12-12T05:58:51.825688Z",
     "shell.execute_reply": "2024-12-12T05:58:51.824503Z"
    },
    "papermill": {
     "duration": 0.691264,
     "end_time": "2024-12-12T05:58:51.828171",
     "exception": false,
     "start_time": "2024-12-12T05:58:51.136907",
     "status": "completed"
    },
    "tags": []
   },
   "outputs": [],
   "source": [
    "# Make predictions\n",
    "y_train_pred = best_rf.predict(X_train)\n",
    "y_test_pred = best_rf.predict(X_test)"
   ]
  },
  {
   "cell_type": "code",
   "execution_count": 14,
   "id": "52c5d328",
   "metadata": {
    "execution": {
     "iopub.execute_input": "2024-12-12T05:58:51.839919Z",
     "iopub.status.busy": "2024-12-12T05:58:51.839509Z",
     "iopub.status.idle": "2024-12-12T05:58:51.845945Z",
     "shell.execute_reply": "2024-12-12T05:58:51.844686Z"
    },
    "papermill": {
     "duration": 0.015046,
     "end_time": "2024-12-12T05:58:51.848337",
     "exception": false,
     "start_time": "2024-12-12T05:58:51.833291",
     "status": "completed"
    },
    "tags": []
   },
   "outputs": [],
   "source": [
    "# Define a function to calculate evaluation metrics\n",
    "def calculate_metrics(y_true, y_pred):\n",
    "    rmse = np.sqrt(mean_squared_error(y_true, y_pred))\n",
    "    mae = mean_absolute_error(y_true, y_pred)\n",
    "    r2 = r2_score(y_true, y_pred)\n",
    "    mape = np.mean(np.abs((y_true - y_pred) / y_true)) * 100 if not np.any(y_true == 0) else np.nan\n",
    "    return rmse, mae, r2, mape"
   ]
  },
  {
   "cell_type": "code",
   "execution_count": 15,
   "id": "4120ff6b",
   "metadata": {
    "execution": {
     "iopub.execute_input": "2024-12-12T05:58:51.860175Z",
     "iopub.status.busy": "2024-12-12T05:58:51.859778Z",
     "iopub.status.idle": "2024-12-12T05:58:51.870750Z",
     "shell.execute_reply": "2024-12-12T05:58:51.869735Z"
    },
    "papermill": {
     "duration": 0.019571,
     "end_time": "2024-12-12T05:58:51.873036",
     "exception": false,
     "start_time": "2024-12-12T05:58:51.853465",
     "status": "completed"
    },
    "tags": []
   },
   "outputs": [],
   "source": [
    "# Calculate metrics for training and testing sets\n",
    "train_rmse, train_mae, train_r2, train_mape = calculate_metrics(y_train, y_train_pred)\n",
    "test_rmse, test_mae, test_r2, test_mape = calculate_metrics(y_test, y_test_pred)"
   ]
  },
  {
   "cell_type": "code",
   "execution_count": 16,
   "id": "edf2678f",
   "metadata": {
    "execution": {
     "iopub.execute_input": "2024-12-12T05:58:51.885180Z",
     "iopub.status.busy": "2024-12-12T05:58:51.884586Z",
     "iopub.status.idle": "2024-12-12T05:58:51.891997Z",
     "shell.execute_reply": "2024-12-12T05:58:51.890715Z"
    },
    "papermill": {
     "duration": 0.016306,
     "end_time": "2024-12-12T05:58:51.894509",
     "exception": false,
     "start_time": "2024-12-12T05:58:51.878203",
     "status": "completed"
    },
    "tags": []
   },
   "outputs": [
    {
     "name": "stdout",
     "output_type": "stream",
     "text": [
      "\n",
      "Training Metrics:\n",
      "  RMSE: 1.827923764849946\n",
      "  MAE: 1.212979334585162\n",
      "  R-squared: 0.779231377757879\n",
      "  MAPE: 4.98%\n",
      "\n",
      "Testing Metrics:\n",
      "  RMSE: 1.983823395728208\n",
      "  MAE: 1.3214364402523608\n",
      "  R-squared: 0.7431761126603376\n",
      "  MAPE: 5.34%\n"
     ]
    }
   ],
   "source": [
    "# Print the evaluation metrics\n",
    "print(\"\\nTraining Metrics:\")\n",
    "print(f\"  RMSE: {train_rmse}\")\n",
    "print(f\"  MAE: {train_mae}\")\n",
    "print(f\"  R-squared: {train_r2}\")\n",
    "print(f\"  MAPE: {train_mape:.2f}%\")\n",
    "\n",
    "print(\"\\nTesting Metrics:\")\n",
    "print(f\"  RMSE: {test_rmse}\")\n",
    "print(f\"  MAE: {test_mae}\")\n",
    "print(f\"  R-squared: {test_r2}\")\n",
    "print(f\"  MAPE: {test_mape:.2f}%\")"
   ]
  },
  {
   "cell_type": "code",
   "execution_count": 17,
   "id": "bca8c461",
   "metadata": {
    "execution": {
     "iopub.execute_input": "2024-12-12T05:58:51.906697Z",
     "iopub.status.busy": "2024-12-12T05:58:51.906305Z",
     "iopub.status.idle": "2024-12-12T05:58:52.263553Z",
     "shell.execute_reply": "2024-12-12T05:58:52.262410Z"
    },
    "papermill": {
     "duration": 0.366006,
     "end_time": "2024-12-12T05:58:52.265861",
     "exception": false,
     "start_time": "2024-12-12T05:58:51.899855",
     "status": "completed"
    },
    "tags": []
   },
   "outputs": [
    {
     "name": "stdout",
     "output_type": "stream",
     "text": [
      "     Feature  Importance\n",
      "1      Month    0.458010\n",
      "2       Year    0.216314\n",
      "0        Day    0.215033\n",
      "4  MODIS_B06    0.041861\n",
      "3  MODIS_B02    0.031189\n",
      "5  MODIS_B05    0.014221\n",
      "6  MODIS_B01    0.011755\n",
      "7  MODIS_B07    0.011618\n"
     ]
    },
    {
     "data": {
      "image/png": "[encoded data removed]",
      "text/plain": [
       "<Figure size 1000x600 with 1 Axes>"
      ]
     },
     "metadata": {},
     "output_type": "display_data"
    }
   ],
   "source": [
    "# Get feature importances from the trained RandomForestRegressor model\n",
    "feature_importances = best_rf.feature_importances_\n",
    "\n",
    "# Create a DataFrame to display feature importances\n",
    "feature_importance_df = pd.DataFrame({'Feature': X_test.columns, 'Importance': feature_importances})\n",
    "\n",
    "# Sort the DataFrame by importance in descending order\n",
    "feature_importance_df = feature_importance_df.sort_values(by='Importance', ascending=False)\n",
    "\n",
    "# Print or display the feature importances\n",
    "print(feature_importance_df)\n",
    "\n",
    "# You can also visualize the feature importances using a bar plot\n",
    "plt.figure(figsize=(10, 6))\n",
    "plt.barh(feature_importance_df['Feature'], feature_importance_df['Importance'])\n",
    "plt.xlabel('Importance')\n",
    "plt.ylabel('Feature')\n",
    "plt.title('Feature Importances from Random Forest Regressor')\n",
    "plt.show()"
   ]
  }
 ],
 "metadata": {
  "kaggle": {
   "accelerator": "none",
   "dataSources": [
    {
     "datasetId": 6268941,
     "isSourceIdPinned": true,
     "sourceId": 10154009,
     "sourceType": "datasetVersion"
    }
   ],
   "dockerImageVersionId": 30804,
   "isGpuEnabled": false,
   "isInternetEnabled": false,
   "language": "python",
   "sourceType": "notebook"
  },
  "kernelspec": {
   "display_name": "Python 3",
   "language": "python",
   "name": "python3"
  },
  "language_info": {
   "codemirror_mode": {
    "name": "ipython",
    "version": 3
   },
   "file_extension": ".py",
   "mimetype": "text/x-python",
   "name": "python",
   "nbconvert_exporter": "python",
   "pygments_lexer": "ipython3",
   "version": "3.10.14"
  },
  "papermill": {
   "default_parameters": {},
   "duration": 1351.866329,
   "end_time": "2024-12-12T05:58:54.894825",
   "environment_variables": {},
   "exception": null,
   "input_path": "__notebook__.ipynb",
   "output_path": "__notebook__.ipynb",
   "parameters": {},
   "start_time": "2024-12-12T05:36:23.028496",
   "version": "2.6.0"
  }
 },
 "nbformat": 4,
 "nbformat_minor": 5
}
